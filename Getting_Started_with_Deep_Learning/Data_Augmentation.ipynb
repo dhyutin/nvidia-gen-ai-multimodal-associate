{
 "cells": [
  {
   "cell_type": "code",
   "execution_count": 1,
   "metadata": {},
   "outputs": [],
   "source": [
    "import torch\n",
    "import torchvision\n",
    "import torchvision.datasets\n",
    "import torchvision.transforms\n",
    "from torch.utils.data import random_split, DataLoader\n",
    "\n",
    "\n",
    "import torch.nn as nn\n",
    "import torch.optim as optim\n",
    "import torch.nn.functional as F"
   ]
  },
  {
   "cell_type": "code",
   "execution_count": 2,
   "metadata": {},
   "outputs": [],
   "source": [
    "\n",
    "# Transform definition to convert images to tensors in pytorch\n",
    "# The series of transformations is given as an order of steps in a list\n",
    "\n",
    "transform = torchvision.transforms.Compose(\n",
    "    [torchvision.transforms.ToTensor(),\n",
    "    torchvision.transforms.Normalize((0.5, ), (0.5, ))\n",
    "    ]\n",
    ")"
   ]
  },
  {
   "cell_type": "code",
   "execution_count": 3,
   "metadata": {},
   "outputs": [],
   "source": [
    "# Download the dataset\n",
    "mnist_data_train = torchvision.datasets.MNIST(root=\"./mnist\", train = True, transform = transform, download = True)\n",
    "\n",
    "# Load the dataset\n",
    "batch_size = 64\n",
    "train_loader = torch.utils.data.DataLoader(dataset = mnist_data_train, batch_size = batch_size, shuffle = True)"
   ]
  },
  {
   "cell_type": "code",
   "execution_count": 4,
   "metadata": {},
   "outputs": [
    {
     "name": "stdout",
     "output_type": "stream",
     "text": [
      "Displaying the first image in the training set...\n"
     ]
    },
    {
     "data": {
      "image/png": "[encoded data removed]",
      "text/plain": [
       "<Figure size 640x480 with 1 Axes>"
      ]
     },
     "metadata": {},
     "output_type": "display_data"
    }
   ],
   "source": [
    "import matplotlib.pyplot as plt\n",
    "\n",
    "def show_image(image, label):\n",
    "    # Remove the channel dimension (1, 28, 28) -> (28, 28)\n",
    "    image = image.squeeze()  \n",
    "    plt.imshow(image, cmap='gray')\n",
    "    \n",
    "    plt.title(f\"Label: {label}\")\n",
    "     # Turn off axis labels for better visualization\n",
    "    plt.axis('off') \n",
    "    plt.show()\n",
    "\n",
    "# Example: Display the first image from the train_loader\n",
    "for images, labels in train_loader:\n",
    "    print(\"Displaying the first image in the training set...\")\n",
    "    show_image(images[0], labels[0].item())\n",
    "    break\n"
   ]
  },
  {
   "cell_type": "code",
   "execution_count": 5,
   "metadata": {},
   "outputs": [
    {
     "name": "stdout",
     "output_type": "stream",
     "text": [
      "Validation set size: 5000\n",
      "Test set size: 5000\n"
     ]
    }
   ],
   "source": [
    "# Download the test dataset\n",
    "test_dataset = torchvision.datasets.MNIST(root='./mnist', train=False, transform=transform, download=True)\n",
    "\n",
    "# Split the test dataset into validation and test sets; split 50-50\n",
    "valid_size = len(test_dataset) // 2 \n",
    "test_size = len(test_dataset) - valid_size\n",
    "valid_dataset, test_dataset = random_split(test_dataset, [valid_size, test_size])\n",
    "\n",
    "# Create DataLoaders for validation and test sets\n",
    "valid_loader = DataLoader(dataset=valid_dataset, batch_size=64, shuffle=False)\n",
    "test_loader = DataLoader(dataset=test_dataset, batch_size=64, shuffle=False)\n",
    "\n",
    "# Example: Inspect the number of samples in each split\n",
    "print(f\"Validation set size: {len(valid_dataset)}\")\n",
    "print(f\"Test set size: {len(test_dataset)}\")\n"
   ]
  },
  {
   "cell_type": "markdown",
   "metadata": {},
   "source": [
    "## Model Building"
   ]
  },
  {
   "cell_type": "code",
   "execution_count": 6,
   "metadata": {},
   "outputs": [],
   "source": [
    "class CNN(nn.Module):\n",
    "    def __init__(self):\n",
    "        super(CNN, self).__init__()\n",
    "        self.conv1 = nn.Conv2d(1, 10, kernel_size = 5)\n",
    "        self.conv2 = nn.Conv2d(10, 20, kernel_size = 5)\n",
    "        self.conv2_dropout = nn.Dropout2d()\n",
    "        self.fc1 = nn.Linear(320, 50)\n",
    "        self.fc2 = nn.Linear(50, 10)\n",
    "        \n",
    "    def forward(self, x):\n",
    "        x = F.relu(F.max_pool2d(self.conv1(x), 2))\n",
    "        x = F.relu(F.max_pool2d(self.conv2_dropout(self.conv2(x)), 2))\n",
    "        x = x.view(-1, 320)\n",
    "        x = F.relu(self.fc1(x))\n",
    "        x = F.dropout(x, training=self.training)\n",
    "        x = self.fc2(x)\n",
    "        x = F.log_softmax(x, dim = 1)\n",
    "        return x\n",
    "        "
   ]
  },
  {
   "cell_type": "code",
   "execution_count": 7,
   "metadata": {},
   "outputs": [],
   "source": [
    "device = torch.device('cuda' if torch.cuda.is_available() else 'cpu')\n",
    "\n",
    "model = CNN().to(device)\n",
    "\n",
    "# Set the loss and optimizer\n",
    "criterion = nn.CrossEntropyLoss()\n",
    "\n",
    "optimizer = optim.Adam(model.parameters(), lr = 0.001)"
   ]
  },
  {
   "cell_type": "code",
   "execution_count": 8,
   "metadata": {},
   "outputs": [
    {
     "name": "stdout",
     "output_type": "stream",
     "text": [
      "----------------------------------------------------------------\n",
      "        Layer (type)               Output Shape         Param #\n",
      "================================================================\n",
      "            Conv2d-1           [-1, 10, 24, 24]             260\n",
      "            Conv2d-2             [-1, 20, 8, 8]           5,020\n",
      "         Dropout2d-3             [-1, 20, 8, 8]               0\n",
      "            Linear-4                   [-1, 50]          16,050\n",
      "            Linear-5                   [-1, 10]             510\n",
      "================================================================\n",
      "Total params: 21,840\n",
      "Trainable params: 21,840\n",
      "Non-trainable params: 0\n",
      "----------------------------------------------------------------\n",
      "Input size (MB): 0.00\n",
      "Forward/backward pass size (MB): 0.06\n",
      "Params size (MB): 0.08\n",
      "Estimated Total Size (MB): 0.15\n",
      "----------------------------------------------------------------\n"
     ]
    }
   ],
   "source": [
    "from torchsummary import summary\n",
    "summary(model, (1, 28, 28))  "
   ]
  },
  {
   "cell_type": "code",
   "execution_count": 9,
   "metadata": {},
   "outputs": [
    {
     "name": "stdout",
     "output_type": "stream",
     "text": [
      "Epoch: 1/10   Train Loss: 0.5671\n",
      "\n",
      "Epoch: 2/10   Train Loss: 0.2631\n",
      "\n",
      "Epoch: 3/10   Train Loss: 0.2210\n",
      "\n",
      "Epoch: 4/10   Train Loss: 0.1950\n",
      "\n",
      "Epoch: 5/10   Train Loss: 0.1710\n",
      "\n",
      "Epoch: 6/10   Train Loss: 0.1647\n",
      "\n",
      "Epoch: 7/10   Train Loss: 0.1521\n",
      "\n",
      "Epoch: 8/10   Train Loss: 0.1500\n",
      "\n",
      "Epoch: 9/10   Train Loss: 0.1439\n",
      "\n",
      "Epoch: 10/10   Train Loss: 0.1365\n",
      "\n"
     ]
    }
   ],
   "source": [
    "# Training\n",
    "\n",
    "num_epochs = 10\n",
    "\n",
    "for epoch in range(num_epochs):\n",
    "    model.train()\n",
    "    running_loss = 0.0\n",
    "    \n",
    "    for image_batch, label_batch in train_loader:\n",
    "        image_batch, label_batch = image_batch.to(device), label_batch.to(device)\n",
    "        \n",
    "        outputs = model(image_batch)\n",
    "        \n",
    "        loss = criterion(outputs, label_batch)\n",
    "        \n",
    "        \n",
    "        # Backward pass and optimization\n",
    "        optimizer.zero_grad()\n",
    "        loss.backward()\n",
    "        optimizer.step()\n",
    "        \n",
    "        \n",
    "        running_loss += loss.item()\n",
    "        \n",
    "    print(f\"Epoch: {epoch+1}/{num_epochs}   Train Loss: {running_loss/len(train_loader):.4f}\\n\")\n",
    "        "
   ]
  },
  {
   "cell_type": "code",
   "execution_count": 11,
   "metadata": {},
   "outputs": [
    {
     "name": "stdout",
     "output_type": "stream",
     "text": [
      "Valid Accuracy: 98.82%\n"
     ]
    }
   ],
   "source": [
    "model.eval()\n",
    "correct = 0\n",
    "total = 0\n",
    "all_labels = []\n",
    "all_preds = []\n",
    "\n",
    "with torch.no_grad():\n",
    "    for images, labels in valid_loader:\n",
    "        images, labels = images.to(device), labels.to(device)\n",
    "        for label in labels:\n",
    "            all_labels.append(label)\n",
    "        outputs = model(images)\n",
    "        _, predicted = torch.max(outputs.data, 1)\n",
    "        for predict in predicted:\n",
    "            all_preds.append(predict)\n",
    "        total += labels.size(0)\n",
    "        correct += (predicted == labels).sum().item() \n",
    "print(f\"Valid Accuracy: {100 * correct / total:.2f}%\")"
   ]
  },
  {
   "cell_type": "markdown",
   "metadata": {},
   "source": [
    "## Data Augmentation"
   ]
  },
  {
   "cell_type": "code",
   "execution_count": 23,
   "metadata": {},
   "outputs": [],
   "source": [
    "# Define data augmentation transforms\n",
    "augmented_transforms = torchvision.transforms.Compose([\n",
    "    torchvision.transforms.RandomRotation(15),          # Rotate images by up to 15 degrees\n",
    "     torchvision.transforms.RandomAffine(0, translate=(0.1, 0.1)),  # Translate up to 10%\n",
    "     torchvision.transforms.RandomHorizontalFlip(p=0.5), # Random horizontal flip\n",
    "     torchvision.transforms.ToTensor(),                  # Convert to tensor\n",
    "     torchvision.transforms.Normalize((0.5,), (0.5,))    # Normalize to range [-1, 1]\n",
    "])"
   ]
  },
  {
   "cell_type": "code",
   "execution_count": 24,
   "metadata": {},
   "outputs": [],
   "source": [
    "# Download the dataset\n",
    "mnist_augmented_train = torchvision.datasets.MNIST(root=\"./mnist\", train = True, transform = augmented_transforms, download = True)"
   ]
  },
  {
   "cell_type": "code",
   "execution_count": 37,
   "metadata": {},
   "outputs": [],
   "source": [
    "from torchvision import datasets, transforms\n",
    "from torch.utils.data import DataLoader, Subset, ConcatDataset\n",
    "import random\n",
    "\n",
    "# Select a subset of the augmented dataset\n",
    "num_augmented_samples = 50000  # Number of augmented samples to add\n",
    "all_indices = list(range(len(mnist_augmented_train)))\n",
    "selected_indices = random.sample(all_indices, num_augmented_samples)\n",
    "augmented_subset = Subset(mnist_augmented_train, selected_indices)\n",
    "\n",
    "# Combine original and selected augmented datasets\n",
    "combined_train_dataset = ConcatDataset([mnist_data_train, augmented_subset])\n",
    "\n",
    "train_loader = DataLoader(combined_train_dataset, batch_size=64, shuffle=True)\n"
   ]
  },
  {
   "cell_type": "code",
   "execution_count": 38,
   "metadata": {},
   "outputs": [],
   "source": [
    "class CNN(nn.Module):\n",
    "    def __init__(self):\n",
    "        super(CNN, self).__init__()\n",
    "        self.conv1 = nn.Conv2d(1, 10, kernel_size = 5)\n",
    "        self.conv2 = nn.Conv2d(10, 20, kernel_size = 5)\n",
    "        self.conv2_dropout = nn.Dropout2d()\n",
    "        self.fc1 = nn.Linear(320, 50)\n",
    "        self.fc2 = nn.Linear(50, 10)\n",
    "        \n",
    "    def forward(self, x):\n",
    "        x = F.relu(F.max_pool2d(self.conv1(x), 2))\n",
    "        x = F.relu(F.max_pool2d(self.conv2_dropout(self.conv2(x)), 2))\n",
    "        x = x.view(-1, 320)\n",
    "        x = F.relu(self.fc1(x))\n",
    "        x = F.dropout(x, training=self.training)\n",
    "        x = self.fc2(x)\n",
    "        x = F.log_softmax(x, dim = 1)\n",
    "        return x\n",
    "        "
   ]
  },
  {
   "cell_type": "code",
   "execution_count": 39,
   "metadata": {},
   "outputs": [],
   "source": [
    "device = torch.device('cuda' if torch.cuda.is_available() else 'cpu')\n",
    "\n",
    "model = CNN().to(device)\n",
    "\n",
    "# Set the loss and optimizer\n",
    "criterion = nn.CrossEntropyLoss()\n",
    "\n",
    "optimizer = optim.Adam(model.parameters(), lr = 0.001)"
   ]
  },
  {
   "cell_type": "code",
   "execution_count": 40,
   "metadata": {},
   "outputs": [
    {
     "name": "stdout",
     "output_type": "stream",
     "text": [
      "Epoch: 1/10   Train Loss: 0.8983\n",
      "\n",
      "Epoch: 2/10   Train Loss: 0.6066\n",
      "\n",
      "Epoch: 3/10   Train Loss: 0.5468\n",
      "\n",
      "Epoch: 4/10   Train Loss: 0.5142\n",
      "\n",
      "Epoch: 5/10   Train Loss: 0.4894\n",
      "\n",
      "Epoch: 6/10   Train Loss: 0.4766\n",
      "\n",
      "Epoch: 7/10   Train Loss: 0.4695\n",
      "\n",
      "Epoch: 8/10   Train Loss: 0.4574\n",
      "\n",
      "Epoch: 9/10   Train Loss: 0.4473\n",
      "\n",
      "Epoch: 10/10   Train Loss: 0.4424\n",
      "\n"
     ]
    }
   ],
   "source": [
    "# Training\n",
    "\n",
    "num_epochs = 10\n",
    "\n",
    "for epoch in range(num_epochs):\n",
    "    model.train()\n",
    "    running_loss = 0.0\n",
    "    \n",
    "    for image_batch, label_batch in train_loader:\n",
    "        image_batch, label_batch = image_batch.to(device), label_batch.to(device)\n",
    "        \n",
    "        outputs = model(image_batch)\n",
    "        \n",
    "        loss = criterion(outputs, label_batch)\n",
    "        \n",
    "        \n",
    "        # Backward pass and optimization\n",
    "        optimizer.zero_grad()\n",
    "        loss.backward()\n",
    "        optimizer.step()\n",
    "        \n",
    "        \n",
    "        running_loss += loss.item()\n",
    "        \n",
    "    print(f\"Epoch: {epoch+1}/{num_epochs}   Train Loss: {running_loss/len(train_loader):.4f}\\n\")\n",
    "        "
   ]
  },
  {
   "cell_type": "code",
   "execution_count": 41,
   "metadata": {},
   "outputs": [
    {
     "name": "stdout",
     "output_type": "stream",
     "text": [
      "Valid Accuracy: 98.46%\n"
     ]
    }
   ],
   "source": [
    "model.eval()\n",
    "correct = 0\n",
    "total = 0\n",
    "all_labels = []\n",
    "all_preds = []\n",
    "\n",
    "with torch.no_grad():\n",
    "    for images, labels in valid_loader:\n",
    "        images, labels = images.to(device), labels.to(device)\n",
    "        for label in labels:\n",
    "            all_labels.append(label)\n",
    "        outputs = model(images)\n",
    "        _, predicted = torch.max(outputs.data, 1)\n",
    "        for predict in predicted:\n",
    "            all_preds.append(predict)\n",
    "        total += labels.size(0)\n",
    "        correct += (predicted == labels).sum().item() \n",
    "print(f\"Valid Accuracy: {100 * correct / total:.2f}%\")"
   ]
  },
  {
   "cell_type": "code",
   "execution_count": 42,
   "metadata": {},
   "outputs": [
    {
     "data": {
      "image/png": "[encoded data removed]",
      "text/plain": [
       "<Figure size 1000x800 with 2 Axes>"
      ]
     },
     "metadata": {},
     "output_type": "display_data"
    }
   ],
   "source": [
    "from sklearn.metrics import confusion_matrix\n",
    "import seaborn as sns\n",
    "import matplotlib.pyplot as plt\n",
    "\n",
    "# Calculate confusion matrix\n",
    "conf_matrix = confusion_matrix(all_labels, all_preds)\n",
    "\n",
    "# Plot confusion matrix\n",
    "plt.figure(figsize=(10, 8))\n",
    "sns.heatmap(conf_matrix, annot=True, fmt=\"d\", cmap=\"Blues\", xticklabels=range(10), yticklabels=range(10))\n",
    "plt.xlabel('Predicted Labels')\n",
    "plt.ylabel('True Labels')\n",
    "plt.title('Confusion Matrix')\n",
    "plt.show()\n"
   ]
  },
  {
   "cell_type": "code",
   "execution_count": 43,
   "metadata": {},
   "outputs": [
    {
     "data": {
      "image/png": "[encoded data removed]",
      "text/plain": [
       "<Figure size 1000x800 with 1 Axes>"
      ]
     },
     "metadata": {},
     "output_type": "display_data"
    }
   ],
   "source": [
    "import matplotlib.pyplot as plt\n",
    "from sklearn.metrics import roc_curve, auc\n",
    "import torch\n",
    "import numpy as np\n",
    "from sklearn.preprocessing import label_binarize\n",
    "\n",
    "# Initialize containers for all labels and predictions\n",
    "all_labels = []\n",
    "all_outputs = []\n",
    "\n",
    "# Make sure model is in evaluation mode\n",
    "model.eval()\n",
    "\n",
    "with torch.no_grad():\n",
    "    for images, labels in test_loader:\n",
    "        images, labels = images.to(device), labels.to(device)\n",
    "\n",
    "        # Get model outputs (raw scores before applying softmax)\n",
    "        outputs = model(images)\n",
    "        \n",
    "        # Apply softmax to get probabilities\n",
    "        outputs = torch.softmax(outputs, dim=1).detach().cpu().numpy()\n",
    "\n",
    "        # Collect all outputs and labels\n",
    "        all_labels.append(labels.cpu().numpy())\n",
    "        all_outputs.append(outputs)\n",
    "\n",
    "# Convert lists to numpy arrays\n",
    "all_labels = np.concatenate(all_labels)\n",
    "all_outputs = np.concatenate(all_outputs)\n",
    "\n",
    "# Binarize the labels for multi-class ROC curve\n",
    "n_classes = all_outputs.shape[1]\n",
    "all_labels_bin = label_binarize(all_labels, classes=np.arange(n_classes))\n",
    "\n",
    "# Plot ROC curve for each class\n",
    "plt.figure(figsize=(10, 8))\n",
    "\n",
    "for i in range(n_classes):\n",
    "    fpr, tpr, _ = roc_curve(all_labels_bin[:, i], all_outputs[:, i])\n",
    "    roc_auc = auc(fpr, tpr)\n",
    "    plt.plot(fpr, tpr, label=f'Class {i} (AUC = {roc_auc:.2f})')\n",
    "\n",
    "# Plotting the diagonal line (random classifier line)\n",
    "plt.plot([0, 1], [0, 1], 'k--', label='Random classifier (AUC = 0.50)')\n",
    "\n",
    "# Set labels and title\n",
    "plt.xlabel('False Positive Rate')\n",
    "plt.ylabel('True Positive Rate')\n",
    "plt.title('ROC Curve for Multi-Class Classification')\n",
    "plt.legend(loc='lower right')\n",
    "plt.grid(True)\n",
    "\n",
    "# Show the plot\n",
    "plt.show()\n"
   ]
  },
  {
   "cell_type": "code",
   "execution_count": 44,
   "metadata": {},
   "outputs": [
    {
     "data": {
      "application/vnd.plotly.v1+json": {
       "config": {
        "plotlyServerURL": "https://plot.ly"
       },
       "data": [
        {
         "mode": "lines",
         "name": "Class 0 (AUC = 1.00)",
         "type": "scatter",
         "x": [
          0,
          0,
          0,
          0,
          0,
          0,
          0,
          0,
          0,
          0,
          0,
          0,
          0,
          0,
          0,
          0,
          0,
          0,
          0,
          0,
          0,
          0,
          0,
          0,
          0,
          0,
          0,
          0,
          0,
          0,
          0,
          0,
          0,
          0,
          0,
          0.000223463687150838,
          0.000223463687150838,
          0.000446927374301676,
          0.000446927374301676,
          0.000670391061452514,
          0.000670391061452514,
          0.000893854748603352,
          0.000893854748603352,
          0.0011173184357541898,
          0.0011173184357541898,
          0.0015642458100558658,
          0.0015642458100558658,
          0.003575418994413408,
          0.003575418994413408,
          0.004245810055865922,
          0.004245810055865922,
          1
         ],
         "y": [
          0,
          0.0019047619047619048,
          0.0038095238095238095,
          0.007619047619047619,
          0.01904761904761905,
          0.022857142857142857,
          0.024761904761904763,
          0.030476190476190476,
          0.0380952380952381,
          0.0419047619047619,
          0.04380952380952381,
          0.05142857142857143,
          0.05333333333333334,
          0.05714285714285714,
          0.07809523809523809,
          0.08190476190476191,
          0.11428571428571428,
          0.1180952380952381,
          0.12571428571428572,
          0.1295238095238095,
          0.13904761904761906,
          0.14285714285714285,
          0.1619047619047619,
          0.1657142857142857,
          0.1980952380952381,
          0.2019047619047619,
          0.2761904761904762,
          0.28,
          0.29333333333333333,
          0.30095238095238097,
          0.3180952380952381,
          0.3219047619047619,
          0.3485714285714286,
          0.3523809523809524,
          0.9504761904761905,
          0.9504761904761905,
          0.9523809523809523,
          0.9523809523809523,
          0.9733333333333334,
          0.9733333333333334,
          0.9771428571428571,
          0.9771428571428571,
          0.979047619047619,
          0.979047619047619,
          0.9828571428571429,
          0.9828571428571429,
          0.9942857142857143,
          0.9942857142857143,
          0.9961904761904762,
          0.9961904761904762,
          1,
          1
         ]
        },
        {
         "mode": "lines",
         "name": "Class 1 (AUC = 1.00)",
         "type": "scatter",
         "x": [
          0,
          0,
          0,
          0,
          0,
          0,
          0,
          0,
          0,
          0,
          0,
          0,
          0,
          0,
          0,
          0,
          0,
          0,
          0,
          0,
          0,
          0,
          0,
          0,
          0,
          0,
          0,
          0,
          0,
          0,
          0,
          0,
          0,
          0,
          0,
          0,
          0,
          0,
          0,
          0,
          0,
          0,
          0,
          0,
          0,
          0,
          0,
          0,
          0,
          0,
          0,
          0,
          0,
          0,
          0,
          0,
          0,
          0,
          0,
          0,
          0,
          0,
          0,
          0,
          0,
          0,
          0,
          0,
          0,
          0,
          0,
          0,
          0,
          0,
          0,
          0,
          0,
          0,
          0,
          0,
          0,
          0,
          0,
          0,
          0,
          0,
          0,
          0,
          0,
          0,
          0,
          0,
          0,
          0,
          0,
          0,
          0,
          0,
          0,
          0,
          0,
          0,
          0.0002253267237494367,
          0.0002253267237494367,
          0.0004506534474988734,
          0.0004506534474988734,
          0.0009013068949977468,
          0.0009013068949977468,
          0.0013519603424966202,
          0.0013519603424966202,
          0.0018026137899954935,
          0.0018026137899954935,
          0.002253267237494367,
          0.002253267237494367,
          1
         ],
         "y": [
          0,
          0.0035587188612099642,
          0.021352313167259787,
          0.023131672597864767,
          0.030249110320284697,
          0.03558718861209965,
          0.03914590747330961,
          0.04448398576512456,
          0.051601423487544484,
          0.05693950177935943,
          0.060498220640569395,
          0.06227758007117438,
          0.07295373665480427,
          0.07651245551601424,
          0.08185053380782918,
          0.09074733096085409,
          0.10142348754448399,
          0.10320284697508897,
          0.10854092526690391,
          0.11565836298932385,
          0.12633451957295375,
          0.1298932384341637,
          0.13167259786476868,
          0.13523131672597866,
          0.14056939501779359,
          0.14412811387900357,
          0.1494661921708185,
          0.15658362989323843,
          0.1601423487544484,
          0.16903914590747332,
          0.17437722419928825,
          0.17615658362989323,
          0.1797153024911032,
          0.18683274021352314,
          0.19750889679715303,
          0.199288256227758,
          0.20640569395017794,
          0.2099644128113879,
          0.2206405693950178,
          0.22597864768683273,
          0.23309608540925267,
          0.2402135231316726,
          0.24377224199288255,
          0.24555160142348753,
          0.2508896797153025,
          0.26512455516014233,
          0.26868327402135234,
          0.27402135231316727,
          0.2775800711743772,
          0.28291814946619215,
          0.28825622775800713,
          0.2918149466192171,
          0.29537366548042704,
          0.302491103202847,
          0.3096085409252669,
          0.3113879003558719,
          0.31494661921708184,
          0.3185053380782918,
          0.3291814946619217,
          0.3540925266903915,
          0.35765124555160144,
          0.38256227758007116,
          0.3861209964412811,
          0.400355871886121,
          0.40391459074733094,
          0.40569395017793597,
          0.4092526690391459,
          0.4234875444839858,
          0.42704626334519574,
          0.44483985765124556,
          0.4483985765124555,
          0.45373665480427045,
          0.45729537366548045,
          0.47153024911032027,
          0.4750889679715303,
          0.4786476868327402,
          0.4822064056939502,
          0.5071174377224199,
          0.5106761565836299,
          0.5195729537366548,
          0.5266903914590747,
          0.5320284697508897,
          0.5355871886120996,
          0.5444839857651246,
          0.5516014234875445,
          0.5765124555160143,
          0.5800711743772242,
          0.5960854092526691,
          0.599644128113879,
          0.6120996441281139,
          0.6156583629893239,
          0.6192170818505338,
          0.6227758007117438,
          0.6494661921708185,
          0.6530249110320284,
          0.6743772241992882,
          0.6850533807829181,
          0.6886120996441281,
          0.6921708185053381,
          0.7117437722419929,
          0.7153024911032029,
          0.9839857651245552,
          0.9839857651245552,
          0.9893238434163701,
          0.9893238434163701,
          0.9928825622775801,
          0.9928825622775801,
          0.994661921708185,
          0.994661921708185,
          0.99644128113879,
          0.99644128113879,
          0.998220640569395,
          0.998220640569395,
          1,
          1
         ]
        },
        {
         "mode": "lines",
         "name": "Class 2 (AUC = 1.00)",
         "type": "scatter",
         "x": [
          0,
          0,
          0,
          0,
          0,
          0,
          0,
          0,
          0,
          0,
          0,
          0,
          0,
          0.00022207417277370642,
          0.00022207417277370642,
          0.00044414834554741284,
          0.00044414834554741284,
          0.0006662225183211193,
          0.0006662225183211193,
          0.0008882966910948257,
          0.0008882966910948257,
          0.0011103708638685321,
          0.0011103708638685321,
          0.0013324450366422385,
          0.0013324450366422385,
          0.001554519209415945,
          0.001554519209415945,
          0.0017765933821896514,
          0.0017765933821896514,
          0.001998667554963358,
          0.001998667554963358,
          0.0024428159005107706,
          0.0024428159005107706,
          0.002664890073284477,
          0.002664890073284477,
          0.0028869642460581835,
          0.0028869642460581835,
          0.00310903841883189,
          0.00310903841883189,
          0.003775260937153009,
          0.003775260937153009,
          0.004885631801021541,
          0.004885631801021541,
          0.005996002664890073,
          0.005996002664890073,
          0.006440151010437486,
          0.006440151010437486,
          0.01110370863868532,
          0.01110370863868532,
          0.011325782811459028,
          0.011325782811459028,
          1
         ],
         "y": [
          0,
          0.002012072434607646,
          0.008048289738430584,
          0.01609657947686117,
          0.08249496981891348,
          0.08651911468812877,
          0.09054325955734406,
          0.09456740442655935,
          0.21327967806841047,
          0.21730382293762576,
          0.3460764587525151,
          0.3501006036217304,
          0.7545271629778671,
          0.7545271629778671,
          0.7625754527162978,
          0.7625754527162978,
          0.8209255533199196,
          0.8209255533199196,
          0.8893360160965795,
          0.8893360160965795,
          0.8953722334004024,
          0.8953722334004024,
          0.93158953722334,
          0.93158953722334,
          0.9517102615694165,
          0.9517102615694165,
          0.9577464788732394,
          0.9577464788732394,
          0.959758551307847,
          0.959758551307847,
          0.9678068410462777,
          0.9678068410462777,
          0.9758551307847082,
          0.9758551307847082,
          0.9778672032193159,
          0.9778672032193159,
          0.9839034205231388,
          0.9839034205231388,
          0.9859154929577465,
          0.9859154929577465,
          0.9879275653923542,
          0.9879275653923542,
          0.9919517102615694,
          0.9919517102615694,
          0.993963782696177,
          0.993963782696177,
          0.9959758551307847,
          0.9959758551307847,
          0.9979879275653923,
          0.9979879275653923,
          1,
          1
         ]
        },
        {
         "mode": "lines",
         "name": "Class 3 (AUC = 1.00)",
         "type": "scatter",
         "x": [
          0,
          0,
          0,
          0,
          0,
          0,
          0,
          0,
          0,
          0,
          0,
          0,
          0,
          0,
          0,
          0,
          0,
          0,
          0,
          0,
          0,
          0,
          0,
          0,
          0,
          0,
          0,
          0,
          0,
          0,
          0,
          0,
          0,
          0,
          0,
          0,
          0,
          0,
          0,
          0,
          0,
          0,
          0,
          0,
          0,
          0,
          0,
          0,
          0,
          0,
          0,
          0,
          0,
          0,
          0,
          0.00044543429844097997,
          0.00044543429844097997,
          0.0006681514476614699,
          0.0006681514476614699,
          0.0008908685968819599,
          0.0008908685968819599,
          0.0011135857461024498,
          0.0011135857461024498,
          0.0013363028953229399,
          0.0013363028953229399,
          0.0015590200445434299,
          0.0015590200445434299,
          0.0020044543429844097,
          0.0020044543429844097,
          0.0024498886414253897,
          0.0024498886414253897,
          0.0035634743875278397,
          0.0035634743875278397,
          0.004899777282850779,
          0.004899777282850779,
          0.005345211581291759,
          0.005345211581291759,
          0.005567928730512249,
          0.005567928730512249,
          0.010244988864142539,
          0.010244988864142539,
          0.01581291759465479,
          0.01581291759465479,
          1
         ],
         "y": [
          0,
          0.00196078431372549,
          0.00392156862745098,
          0.00980392156862745,
          0.01568627450980392,
          0.021568627450980392,
          0.023529411764705882,
          0.03137254901960784,
          0.03529411764705882,
          0.043137254901960784,
          0.049019607843137254,
          0.052941176470588235,
          0.056862745098039215,
          0.060784313725490195,
          0.06862745098039216,
          0.07058823529411765,
          0.07450980392156863,
          0.0784313725490196,
          0.08235294117647059,
          0.09019607843137255,
          0.09803921568627451,
          0.10196078431372549,
          0.10588235294117647,
          0.11176470588235295,
          0.11568627450980393,
          0.11764705882352941,
          0.12156862745098039,
          0.13333333333333333,
          0.13725490196078433,
          0.14313725490196078,
          0.14705882352941177,
          0.14901960784313725,
          0.15294117647058825,
          0.15490196078431373,
          0.1588235294117647,
          0.16470588235294117,
          0.16862745098039217,
          0.18823529411764706,
          0.19607843137254902,
          0.2019607843137255,
          0.20980392156862746,
          0.21764705882352942,
          0.2196078431372549,
          0.2235294117647059,
          0.23529411764705882,
          0.23921568627450981,
          0.2725490196078431,
          0.27647058823529413,
          0.2823529411764706,
          0.28627450980392155,
          0.4137254901960784,
          0.4176470588235294,
          0.5725490196078431,
          0.5764705882352941,
          0.9411764705882353,
          0.9411764705882353,
          0.9450980392156862,
          0.9450980392156862,
          0.9529411764705882,
          0.9529411764705882,
          0.9705882352941176,
          0.9705882352941176,
          0.9764705882352941,
          0.9764705882352941,
          0.9823529411764705,
          0.9823529411764705,
          0.984313725490196,
          0.984313725490196,
          0.9862745098039216,
          0.9862745098039216,
          0.9882352941176471,
          0.9882352941176471,
          0.9901960784313726,
          0.9901960784313726,
          0.9921568627450981,
          0.9921568627450981,
          0.9941176470588236,
          0.9941176470588236,
          0.996078431372549,
          0.996078431372549,
          0.9980392156862745,
          0.9980392156862745,
          1,
          1
         ]
        },
        {
         "mode": "lines",
         "name": "Class 4 (AUC = 1.00)",
         "type": "scatter",
         "x": [
          0,
          0,
          0,
          0,
          0,
          0,
          0,
          0,
          0,
          0,
          0,
          0,
          0,
          0,
          0,
          0,
          0,
          0,
          0,
          0,
          0,
          0,
          0,
          0,
          0,
          0,
          0,
          0,
          0,
          0,
          0,
          0,
          0,
          0,
          0,
          0,
          0,
          0,
          0,
          0,
          0,
          0,
          0,
          0,
          0,
          0,
          0,
          0,
          0,
          0,
          0.00022123893805309734,
          0.00022123893805309734,
          0.0004424778761061947,
          0.0004424778761061947,
          0.001327433628318584,
          0.001327433628318584,
          1
         ],
         "y": [
          0,
          0.052083333333333336,
          0.08125,
          0.1125,
          0.13333333333333333,
          0.15,
          0.15625,
          0.15833333333333333,
          0.16875,
          0.17291666666666666,
          0.175,
          0.18125,
          0.18541666666666667,
          0.19166666666666668,
          0.19375,
          0.21041666666666667,
          0.2125,
          0.225,
          0.23125,
          0.23541666666666666,
          0.24166666666666667,
          0.24583333333333332,
          0.25,
          0.2604166666666667,
          0.26458333333333334,
          0.26875,
          0.275,
          0.2791666666666667,
          0.28541666666666665,
          0.2916666666666667,
          0.29583333333333334,
          0.29791666666666666,
          0.3020833333333333,
          0.3145833333333333,
          0.31875,
          0.32916666666666666,
          0.3333333333333333,
          0.3854166666666667,
          0.38958333333333334,
          0.4041666666666667,
          0.4083333333333333,
          0.49583333333333335,
          0.5,
          0.525,
          0.5291666666666667,
          0.675,
          0.6791666666666667,
          0.7145833333333333,
          0.71875,
          0.9854166666666667,
          0.9854166666666667,
          0.9958333333333333,
          0.9958333333333333,
          0.9979166666666667,
          0.9979166666666667,
          1,
          1
         ]
        },
        {
         "mode": "lines",
         "name": "Class 5 (AUC = 1.00)",
         "type": "scatter",
         "x": [
          0,
          0,
          0,
          0,
          0,
          0,
          0,
          0.0002196836555360281,
          0.0002196836555360281,
          0.0004393673110720562,
          0.0004393673110720562,
          0.0006590509666080844,
          0.0006590509666080844,
          0.0010984182776801407,
          0.0010984182776801407,
          0.0013181019332161687,
          0.0013181019332161687,
          0.001977152899824253,
          0.001977152899824253,
          0.0021968365553602814,
          0.0021968365553602814,
          0.0024165202108963092,
          0.0024165202108963092,
          0.0026362038664323375,
          0.0026362038664323375,
          0.0028558875219683658,
          0.0028558875219683658,
          0.003295254833040422,
          0.003295254833040422,
          0.0048330404217926184,
          0.0048330404217926184,
          0.007469244288224956,
          0.007469244288224956,
          0.007908611599297012,
          0.007908611599297012,
          0.010325131810193322,
          0.010325131810193322,
          0.012741652021089631,
          0.012741652021089631,
          0.014059753954305799,
          0.014059753954305799,
          0.01735500878734622,
          0.01735500878734622,
          0.02240773286467487,
          0.02240773286467487,
          0.027021089630931458,
          0.027021089630931458,
          0.03998242530755712,
          0.03998242530755712,
          1
         ],
         "y": [
          0,
          0.002232142857142857,
          0.27455357142857145,
          0.27901785714285715,
          0.46651785714285715,
          0.47098214285714285,
          0.8727678571428571,
          0.8727678571428571,
          0.8772321428571429,
          0.8772321428571429,
          0.9151785714285714,
          0.9151785714285714,
          0.9397321428571429,
          0.9397321428571429,
          0.9486607142857143,
          0.9486607142857143,
          0.9508928571428571,
          0.9508928571428571,
          0.953125,
          0.953125,
          0.9553571428571429,
          0.9553571428571429,
          0.9598214285714286,
          0.9598214285714286,
          0.9642857142857143,
          0.9642857142857143,
          0.9665178571428571,
          0.9665178571428571,
          0.9709821428571429,
          0.9709821428571429,
          0.9732142857142857,
          0.9732142857142857,
          0.9799107142857143,
          0.9799107142857143,
          0.984375,
          0.984375,
          0.9866071428571429,
          0.9866071428571429,
          0.9888392857142857,
          0.9888392857142857,
          0.9910714285714286,
          0.9910714285714286,
          0.9933035714285714,
          0.9933035714285714,
          0.9955357142857143,
          0.9955357142857143,
          0.9977678571428571,
          0.9977678571428571,
          1,
          1
         ]
        },
        {
         "mode": "lines",
         "name": "Class 6 (AUC = 1.00)",
         "type": "scatter",
         "x": [
          0,
          0,
          0,
          0,
          0,
          0,
          0,
          0,
          0,
          0,
          0,
          0,
          0,
          0,
          0,
          0,
          0,
          0,
          0,
          0,
          0,
          0,
          0,
          0,
          0,
          0,
          0,
          0,
          0,
          0,
          0,
          0,
          0,
          0,
          0,
          0,
          0.0002213368747233289,
          0.0002213368747233289,
          0.0004426737494466578,
          0.0004426737494466578,
          0.0006640106241699867,
          0.0006640106241699867,
          0.0008853474988933156,
          0.0008853474988933156,
          0.0011066843736166445,
          0.0011066843736166445,
          0.0013280212483399733,
          0.0013280212483399733,
          0.00199203187250996,
          0.00199203187250996,
          0.002213368747233289,
          0.002213368747233289,
          0.002434705621956618,
          0.002434705621956618,
          0.0026560424966799467,
          0.0026560424966799467,
          0.004648074369189907,
          0.004648074369189907,
          0.004869411243913236,
          0.004869411243913236,
          0.005312084993359893,
          0.005312084993359893,
          0.006418769366976538,
          0.006418769366976538,
          0.0073041168658698535,
          0.0073041168658698535,
          0.007746790615316512,
          0.007746790615316512,
          0.008853474988933156,
          0.008853474988933156,
          0.01195219123505976,
          0.01195219123505976,
          0.012837538733953076,
          0.012837538733953076,
          0.018370960602036298,
          0.018370960602036298,
          1
         ],
         "y": [
          0,
          0.002074688796680498,
          0.004149377593360996,
          0.008298755186721992,
          0.01037344398340249,
          0.014522821576763486,
          0.043568464730290454,
          0.04771784232365145,
          0.08506224066390042,
          0.08921161825726141,
          0.09336099585062241,
          0.1016597510373444,
          0.1078838174273859,
          0.11203319502074689,
          0.11618257261410789,
          0.12033195020746888,
          0.12448132780082988,
          0.13070539419087138,
          0.13485477178423236,
          0.15975103734439833,
          0.16390041493775934,
          0.23858921161825727,
          0.24273858921161826,
          0.26556016597510373,
          0.2697095435684647,
          0.2800829875518672,
          0.2842323651452282,
          0.3630705394190871,
          0.36721991701244816,
          0.3983402489626556,
          0.4024896265560166,
          0.4315352697095436,
          0.43568464730290457,
          0.475103734439834,
          0.47925311203319504,
          0.9190871369294605,
          0.9190871369294605,
          0.9336099585062241,
          0.9336099585062241,
          0.9377593360995851,
          0.9377593360995851,
          0.941908713692946,
          0.941908713692946,
          0.9543568464730291,
          0.9543568464730291,
          0.9585062240663901,
          0.9585062240663901,
          0.9626556016597511,
          0.9626556016597511,
          0.9647302904564315,
          0.9647302904564315,
          0.9688796680497925,
          0.9688796680497925,
          0.970954356846473,
          0.970954356846473,
          0.9730290456431535,
          0.9730290456431535,
          0.975103734439834,
          0.975103734439834,
          0.979253112033195,
          0.979253112033195,
          0.9813278008298755,
          0.9813278008298755,
          0.983402489626556,
          0.983402489626556,
          0.9854771784232366,
          0.9854771784232366,
          0.9875518672199171,
          0.9875518672199171,
          0.9896265560165975,
          0.9896265560165975,
          0.991701244813278,
          0.991701244813278,
          0.9979253112033195,
          0.9979253112033195,
          1,
          1
         ]
        },
        {
         "mode": "lines",
         "name": "Class 7 (AUC = 1.00)",
         "type": "scatter",
         "x": [
          0,
          0,
          0,
          0,
          0,
          0,
          0,
          0,
          0,
          0,
          0,
          0,
          0,
          0,
          0,
          0,
          0,
          0,
          0,
          0.00022197558268590456,
          0.00022197558268590456,
          0.0004439511653718091,
          0.0004439511653718091,
          0.0006659267480577136,
          0.0006659267480577136,
          0.0008879023307436182,
          0.0008879023307436182,
          0.0011098779134295228,
          0.0011098779134295228,
          0.0013318534961154272,
          0.0013318534961154272,
          0.0022197558268590455,
          0.0022197558268590455,
          0.0026637069922308544,
          0.0026637069922308544,
          0.003329633740288568,
          0.003329633740288568,
          0.004661487236403996,
          0.004661487236403996,
          0.0057713651498335185,
          0.0057713651498335185,
          0.006437291897891232,
          0.006437291897891232,
          0.006659267480577136,
          0.006659267480577136,
          0.006881243063263041,
          0.006881243063263041,
          0.007103218645948946,
          0.007103218645948946,
          0.014206437291897892,
          0.014206437291897892,
          0.021309655937846835,
          0.021309655937846835,
          0.02286348501664817,
          0.02286348501664817,
          1
         ],
         "y": [
          0,
          0.00202020202020202,
          0.06262626262626263,
          0.06666666666666667,
          0.08080808080808081,
          0.08484848484848485,
          0.13131313131313133,
          0.13535353535353536,
          0.14747474747474748,
          0.15151515151515152,
          0.17373737373737375,
          0.17777777777777778,
          0.23232323232323232,
          0.23636363636363636,
          0.33535353535353535,
          0.3393939393939394,
          0.34545454545454546,
          0.34949494949494947,
          0.8707070707070707,
          0.8707070707070707,
          0.9131313131313131,
          0.9131313131313131,
          0.9333333333333333,
          0.9333333333333333,
          0.9373737373737374,
          0.9373737373737374,
          0.9535353535353536,
          0.9535353535353536,
          0.9595959595959596,
          0.9595959595959596,
          0.9696969696969697,
          0.9696969696969697,
          0.9737373737373738,
          0.9737373737373738,
          0.9777777777777777,
          0.9777777777777777,
          0.9818181818181818,
          0.9818181818181818,
          0.9838383838383838,
          0.9838383838383838,
          0.9858585858585859,
          0.9858585858585859,
          0.9878787878787879,
          0.9878787878787879,
          0.98989898989899,
          0.98989898989899,
          0.9919191919191919,
          0.9919191919191919,
          0.9939393939393939,
          0.9939393939393939,
          0.9959595959595959,
          0.9959595959595959,
          0.997979797979798,
          0.997979797979798,
          1,
          1
         ]
        },
        {
         "mode": "lines",
         "name": "Class 8 (AUC = 1.00)",
         "type": "scatter",
         "x": [
          0,
          0,
          0,
          0,
          0,
          0,
          0,
          0,
          0,
          0,
          0,
          0,
          0,
          0,
          0,
          0.00022084805653710247,
          0.00022084805653710247,
          0.00044169611307420494,
          0.00044169611307420494,
          0.0011042402826855124,
          0.0011042402826855124,
          0.001325088339222615,
          0.001325088339222615,
          0.0015459363957597172,
          0.0015459363957597172,
          0.0017667844522968198,
          0.0017667844522968198,
          0.002871024734982332,
          0.002871024734982332,
          0.006183745583038869,
          0.006183745583038869,
          0.0066254416961130744,
          0.0066254416961130744,
          0.007067137809187279,
          0.007067137809187279,
          0.015901060070671377,
          0.015901060070671377,
          1
         ],
         "y": [
          0,
          0.00211864406779661,
          0.012711864406779662,
          0.01694915254237288,
          0.05296610169491525,
          0.059322033898305086,
          0.07415254237288135,
          0.07838983050847458,
          0.1292372881355932,
          0.13347457627118645,
          0.2076271186440678,
          0.211864406779661,
          0.4745762711864407,
          0.4788135593220339,
          0.961864406779661,
          0.961864406779661,
          0.9661016949152542,
          0.9661016949152542,
          0.9682203389830508,
          0.9682203389830508,
          0.9745762711864406,
          0.9745762711864406,
          0.9809322033898306,
          0.9809322033898306,
          0.9830508474576272,
          0.9830508474576272,
          0.9872881355932204,
          0.9872881355932204,
          0.989406779661017,
          0.989406779661017,
          0.9936440677966102,
          0.9936440677966102,
          0.9957627118644068,
          0.9957627118644068,
          0.9978813559322034,
          0.9978813559322034,
          1,
          1
         ]
        },
        {
         "mode": "lines",
         "name": "Class 9 (AUC = 1.00)",
         "type": "scatter",
         "x": [
          0,
          0,
          0,
          0,
          0,
          0,
          0,
          0,
          0,
          0,
          0,
          0,
          0,
          0,
          0,
          0,
          0,
          0,
          0,
          0,
          0,
          0,
          0,
          0,
          0,
          0,
          0,
          0,
          0,
          0,
          0,
          0,
          0,
          0,
          0,
          0.00022366360993066427,
          0.00022366360993066427,
          0.00044732721986132855,
          0.00044732721986132855,
          0.0008946544397226571,
          0.0008946544397226571,
          0.0011183180496533215,
          0.0011183180496533215,
          0.0017893088794453142,
          0.0017893088794453142,
          0.0026839633191679713,
          0.0026839633191679713,
          0.0033549541489599644,
          0.0033549541489599644,
          0.0035786177588906284,
          0.0035786177588906284,
          0.005144263028405279,
          0.005144263028405279,
          0.008275553567434578,
          0.008275553567434578,
          0.009617535227018564,
          0.009617535227018564,
          0.009841198836949228,
          0.009841198836949228,
          0.01722209796466115,
          0.01722209796466115,
          1
         ],
         "y": [
          0,
          0.001890359168241966,
          0.015122873345935728,
          0.01890359168241966,
          0.034026465028355386,
          0.03780718336483932,
          0.043478260869565216,
          0.07561436672967864,
          0.0831758034026465,
          0.08506616257088846,
          0.0888468809073724,
          0.1001890359168242,
          0.10396975425330812,
          0.11909262759924386,
          0.12287334593572778,
          0.13799621928166353,
          0.14366729678638943,
          0.15879017013232513,
          0.16257088846880907,
          0.17391304347826086,
          0.1776937618147448,
          0.22684310018903592,
          0.23062381852551986,
          0.23629489603024575,
          0.2438563327032136,
          0.24763705103969755,
          0.2589792060491493,
          0.2627599243856333,
          0.3837429111531191,
          0.387523629489603,
          0.4933837429111531,
          0.497164461247637,
          0.6332703213610587,
          0.6370510396975425,
          0.9281663516068053,
          0.9281663516068053,
          0.947069943289225,
          0.947069943289225,
          0.9546313799621928,
          0.9546313799621928,
          0.9697542533081286,
          0.9697542533081286,
          0.9735349716446124,
          0.9735349716446124,
          0.9810964083175804,
          0.9810964083175804,
          0.9848771266540642,
          0.9848771266540642,
          0.9886578449905482,
          0.9886578449905482,
          0.9905482041587902,
          0.9905482041587902,
          0.9924385633270322,
          0.9924385633270322,
          0.994328922495274,
          0.994328922495274,
          0.996219281663516,
          0.996219281663516,
          0.998109640831758,
          0.998109640831758,
          1,
          1
         ]
        },
        {
         "line": {
          "dash": "dash"
         },
         "mode": "lines",
         "name": "Random classifier (AUC = 0.50)",
         "type": "scatter",
         "x": [
          0,
          1
         ],
         "y": [
          0,
          1
         ]
        }
       ],
       "layout": {
        "showlegend": true,
        "template": {
         "data": {
          "bar": [
           {
            "error_x": {
             "color": "#2a3f5f"
            },
            "error_y": {
             "color": "#2a3f5f"
            },
            "marker": {
             "line": {
              "color": "#E5ECF6",
              "width": 0.5
             },
             "pattern": {
              "fillmode": "overlay",
              "size": 10,
              "solidity": 0.2
             }
            },
            "type": "bar"
           }
          ],
          "barpolar": [
           {
            "marker": {
             "line": {
              "color": "#E5ECF6",
              "width": 0.5
             },
             "pattern": {
              "fillmode": "overlay",
              "size": 10,
              "solidity": 0.2
             }
            },
            "type": "barpolar"
           }
          ],
          "carpet": [
           {
            "aaxis": {
             "endlinecolor": "#2a3f5f",
             "gridcolor": "white",
             "linecolor": "white",
             "minorgridcolor": "white",
             "startlinecolor": "#2a3f5f"
            },
            "baxis": {
             "endlinecolor": "#2a3f5f",
             "gridcolor": "white",
             "linecolor": "white",
             "minorgridcolor": "white",
             "startlinecolor": "#2a3f5f"
            },
            "type": "carpet"
           }
          ],
          "choropleth": [
           {
            "colorbar": {
             "outlinewidth": 0,
             "ticks": ""
            },
            "type": "choropleth"
           }
          ],
          "contour": [
           {
            "colorbar": {
             "outlinewidth": 0,
             "ticks": ""
            },
            "colorscale": [
             [
              0,
              "#0d0887"
             ],
             [
              0.1111111111111111,
              "#46039f"
             ],
             [
              0.2222222222222222,
              "#7201a8"
             ],
             [
              0.3333333333333333,
              "#9c179e"
             ],
             [
              0.4444444444444444,
              "#bd3786"
             ],
             [
              0.5555555555555556,
              "#d8576b"
             ],
             [
              0.6666666666666666,
              "#ed7953"
             ],
             [
              0.7777777777777778,
              "#fb9f3a"
             ],
             [
              0.8888888888888888,
              "#fdca26"
             ],
             [
              1,
              "#f0f921"
             ]
            ],
            "type": "contour"
           }
          ],
          "contourcarpet": [
           {
            "colorbar": {
             "outlinewidth": 0,
             "ticks": ""
            },
            "type": "contourcarpet"
           }
          ],
          "heatmap": [
           {
            "colorbar": {
             "outlinewidth": 0,
             "ticks": ""
            },
            "colorscale": [
             [
              0,
              "#0d0887"
             ],
             [
              0.1111111111111111,
              "#46039f"
             ],
             [
              0.2222222222222222,
              "#7201a8"
             ],
             [
              0.3333333333333333,
              "#9c179e"
             ],
             [
              0.4444444444444444,
              "#bd3786"
             ],
             [
              0.5555555555555556,
              "#d8576b"
             ],
             [
              0.6666666666666666,
              "#ed7953"
             ],
             [
              0.7777777777777778,
              "#fb9f3a"
             ],
             [
              0.8888888888888888,
              "#fdca26"
             ],
             [
              1,
              "#f0f921"
             ]
            ],
            "type": "heatmap"
           }
          ],
          "heatmapgl": [
           {
            "colorbar": {
             "outlinewidth": 0,
             "ticks": ""
            },
            "colorscale": [
             [
              0,
              "#0d0887"
             ],
             [
              0.1111111111111111,
              "#46039f"
             ],
             [
              0.2222222222222222,
              "#7201a8"
             ],
             [
              0.3333333333333333,
              "#9c179e"
             ],
             [
              0.4444444444444444,
              "#bd3786"
             ],
             [
              0.5555555555555556,
              "#d8576b"
             ],
             [
              0.6666666666666666,
              "#ed7953"
             ],
             [
              0.7777777777777778,
              "#fb9f3a"
             ],
             [
              0.8888888888888888,
              "#fdca26"
             ],
             [
              1,
              "#f0f921"
             ]
            ],
            "type": "heatmapgl"
           }
          ],
          "histogram": [
           {
            "marker": {
             "pattern": {
              "fillmode": "overlay",
              "size": 10,
              "solidity": 0.2
             }
            },
            "type": "histogram"
           }
          ],
          "histogram2d": [
           {
            "colorbar": {
             "outlinewidth": 0,
             "ticks": ""
            },
            "colorscale": [
             [
              0,
              "#0d0887"
             ],
             [
              0.1111111111111111,
              "#46039f"
             ],
             [
              0.2222222222222222,
              "#7201a8"
             ],
             [
              0.3333333333333333,
              "#9c179e"
             ],
             [
              0.4444444444444444,
              "#bd3786"
             ],
             [
              0.5555555555555556,
              "#d8576b"
             ],
             [
              0.6666666666666666,
              "#ed7953"
             ],
             [
              0.7777777777777778,
              "#fb9f3a"
             ],
             [
              0.8888888888888888,
              "#fdca26"
             ],
             [
              1,
              "#f0f921"
             ]
            ],
            "type": "histogram2d"
           }
          ],
          "histogram2dcontour": [
           {
            "colorbar": {
             "outlinewidth": 0,
             "ticks": ""
            },
            "colorscale": [
             [
              0,
              "#0d0887"
             ],
             [
              0.1111111111111111,
              "#46039f"
             ],
             [
              0.2222222222222222,
              "#7201a8"
             ],
             [
              0.3333333333333333,
              "#9c179e"
             ],
             [
              0.4444444444444444,
              "#bd3786"
             ],
             [
              0.5555555555555556,
              "#d8576b"
             ],
             [
              0.6666666666666666,
              "#ed7953"
             ],
             [
              0.7777777777777778,
              "#fb9f3a"
             ],
             [
              0.8888888888888888,
              "#fdca26"
             ],
             [
              1,
              "#f0f921"
             ]
            ],
            "type": "histogram2dcontour"
           }
          ],
          "mesh3d": [
           {
            "colorbar": {
             "outlinewidth": 0,
             "ticks": ""
            },
            "type": "mesh3d"
           }
          ],
          "parcoords": [
           {
            "line": {
             "colorbar": {
              "outlinewidth": 0,
              "ticks": ""
             }
            },
            "type": "parcoords"
           }
          ],
          "pie": [
           {
            "automargin": true,
            "type": "pie"
           }
          ],
          "scatter": [
           {
            "fillpattern": {
             "fillmode": "overlay",
             "size": 10,
             "solidity": 0.2
            },
            "type": "scatter"
           }
          ],
          "scatter3d": [
           {
            "line": {
             "colorbar": {
              "outlinewidth": 0,
              "ticks": ""
             }
            },
            "marker": {
             "colorbar": {
              "outlinewidth": 0,
              "ticks": ""
             }
            },
            "type": "scatter3d"
           }
          ],
          "scattercarpet": [
           {
            "marker": {
             "colorbar": {
              "outlinewidth": 0,
              "ticks": ""
             }
            },
            "type": "scattercarpet"
           }
          ],
          "scattergeo": [
           {
            "marker": {
             "colorbar": {
              "outlinewidth": 0,
              "ticks": ""
             }
            },
            "type": "scattergeo"
           }
          ],
          "scattergl": [
           {
            "marker": {
             "colorbar": {
              "outlinewidth": 0,
              "ticks": ""
             }
            },
            "type": "scattergl"
           }
          ],
          "scattermapbox": [
           {
            "marker": {
             "colorbar": {
              "outlinewidth": 0,
              "ticks": ""
             }
            },
            "type": "scattermapbox"
           }
          ],
          "scatterpolar": [
           {
            "marker": {
             "colorbar": {
              "outlinewidth": 0,
              "ticks": ""
             }
            },
            "type": "scatterpolar"
           }
          ],
          "scatterpolargl": [
           {
            "marker": {
             "colorbar": {
              "outlinewidth": 0,
              "ticks": ""
             }
            },
            "type": "scatterpolargl"
           }
          ],
          "scatterternary": [
           {
            "marker": {
             "colorbar": {
              "outlinewidth": 0,
              "ticks": ""
             }
            },
            "type": "scatterternary"
           }
          ],
          "surface": [
           {
            "colorbar": {
             "outlinewidth": 0,
             "ticks": ""
            },
            "colorscale": [
             [
              0,
              "#0d0887"
             ],
             [
              0.1111111111111111,
              "#46039f"
             ],
             [
              0.2222222222222222,
              "#7201a8"
             ],
             [
              0.3333333333333333,
              "#9c179e"
             ],
             [
              0.4444444444444444,
              "#bd3786"
             ],
             [
              0.5555555555555556,
              "#d8576b"
             ],
             [
              0.6666666666666666,
              "#ed7953"
             ],
             [
              0.7777777777777778,
              "#fb9f3a"
             ],
             [
              0.8888888888888888,
              "#fdca26"
             ],
             [
              1,
              "#f0f921"
             ]
            ],
            "type": "surface"
           }
          ],
          "table": [
           {
            "cells": {
             "fill": {
              "color": "#EBF0F8"
             },
             "line": {
              "color": "white"
             }
            },
            "header": {
             "fill": {
              "color": "#C8D4E3"
             },
             "line": {
              "color": "white"
             }
            },
            "type": "table"
           }
          ]
         },
         "layout": {
          "annotationdefaults": {
           "arrowcolor": "#2a3f5f",
           "arrowhead": 0,
           "arrowwidth": 1
          },
          "autotypenumbers": "strict",
          "coloraxis": {
           "colorbar": {
            "outlinewidth": 0,
            "ticks": ""
           }
          },
          "colorscale": {
           "diverging": [
            [
             0,
             "#8e0152"
            ],
            [
             0.1,
             "#c51b7d"
            ],
            [
             0.2,
             "#de77ae"
            ],
            [
             0.3,
             "#f1b6da"
            ],
            [
             0.4,
             "#fde0ef"
            ],
            [
             0.5,
             "#f7f7f7"
            ],
            [
             0.6,
             "#e6f5d0"
            ],
            [
             0.7,
             "#b8e186"
            ],
            [
             0.8,
             "#7fbc41"
            ],
            [
             0.9,
             "#4d9221"
            ],
            [
             1,
             "#276419"
            ]
           ],
           "sequential": [
            [
             0,
             "#0d0887"
            ],
            [
             0.1111111111111111,
             "#46039f"
            ],
            [
             0.2222222222222222,
             "#7201a8"
            ],
            [
             0.3333333333333333,
             "#9c179e"
            ],
            [
             0.4444444444444444,
             "#bd3786"
            ],
            [
             0.5555555555555556,
             "#d8576b"
            ],
            [
             0.6666666666666666,
             "#ed7953"
            ],
            [
             0.7777777777777778,
             "#fb9f3a"
            ],
            [
             0.8888888888888888,
             "#fdca26"
            ],
            [
             1,
             "#f0f921"
            ]
           ],
           "sequentialminus": [
            [
             0,
             "#0d0887"
            ],
            [
             0.1111111111111111,
             "#46039f"
            ],
            [
             0.2222222222222222,
             "#7201a8"
            ],
            [
             0.3333333333333333,
             "#9c179e"
            ],
            [
             0.4444444444444444,
             "#bd3786"
            ],
            [
             0.5555555555555556,
             "#d8576b"
            ],
            [
             0.6666666666666666,
             "#ed7953"
            ],
            [
             0.7777777777777778,
             "#fb9f3a"
            ],
            [
             0.8888888888888888,
             "#fdca26"
            ],
            [
             1,
             "#f0f921"
            ]
           ]
          },
          "colorway": [
           "#636efa",
           "#EF553B",
           "#00cc96",
           "#ab63fa",
           "#FFA15A",
           "#19d3f3",
           "#FF6692",
           "#B6E880",
           "#FF97FF",
           "#FECB52"
          ],
          "font": {
           "color": "#2a3f5f"
          },
          "geo": {
           "bgcolor": "white",
           "lakecolor": "white",
           "landcolor": "#E5ECF6",
           "showlakes": true,
           "showland": true,
           "subunitcolor": "white"
          },
          "hoverlabel": {
           "align": "left"
          },
          "hovermode": "closest",
          "mapbox": {
           "style": "light"
          },
          "paper_bgcolor": "white",
          "plot_bgcolor": "#E5ECF6",
          "polar": {
           "angularaxis": {
            "gridcolor": "white",
            "linecolor": "white",
            "ticks": ""
           },
           "bgcolor": "#E5ECF6",
           "radialaxis": {
            "gridcolor": "white",
            "linecolor": "white",
            "ticks": ""
           }
          },
          "scene": {
           "xaxis": {
            "backgroundcolor": "#E5ECF6",
            "gridcolor": "white",
            "gridwidth": 2,
            "linecolor": "white",
            "showbackground": true,
            "ticks": "",
            "zerolinecolor": "white"
           },
           "yaxis": {
            "backgroundcolor": "#E5ECF6",
            "gridcolor": "white",
            "gridwidth": 2,
            "linecolor": "white",
            "showbackground": true,
            "ticks": "",
            "zerolinecolor": "white"
           },
           "zaxis": {
            "backgroundcolor": "#E5ECF6",
            "gridcolor": "white",
            "gridwidth": 2,
            "linecolor": "white",
            "showbackground": true,
            "ticks": "",
            "zerolinecolor": "white"
           }
          },
          "shapedefaults": {
           "line": {
            "color": "#2a3f5f"
           }
          },
          "ternary": {
           "aaxis": {
            "gridcolor": "white",
            "linecolor": "white",
            "ticks": ""
           },
           "baxis": {
            "gridcolor": "white",
            "linecolor": "white",
            "ticks": ""
           },
           "bgcolor": "#E5ECF6",
           "caxis": {
            "gridcolor": "white",
            "linecolor": "white",
            "ticks": ""
           }
          },
          "title": {
           "x": 0.05
          },
          "xaxis": {
           "automargin": true,
           "gridcolor": "white",
           "linecolor": "white",
           "ticks": "",
           "title": {
            "standoff": 15
           },
           "zerolinecolor": "white",
           "zerolinewidth": 2
          },
          "yaxis": {
           "automargin": true,
           "gridcolor": "white",
           "linecolor": "white",
           "ticks": "",
           "title": {
            "standoff": 15
           },
           "zerolinecolor": "white",
           "zerolinewidth": 2
          }
         }
        },
        "title": {
         "text": "ROC Curve for Multi-Class Classification"
        },
        "xaxis": {
         "title": {
          "text": "False Positive Rate"
         }
        },
        "yaxis": {
         "title": {
          "text": "True Positive Rate"
         }
        }
       }
      }
     },
     "metadata": {},
     "output_type": "display_data"
    }
   ],
   "source": [
    "import plotly.graph_objects as go\n",
    "\n",
    "# Create an empty list to store the ROC curve traces\n",
    "roc_traces = []\n",
    "\n",
    "for i in range(n_classes):\n",
    "    fpr, tpr, _ = roc_curve(all_labels_bin[:, i], all_outputs[:, i])\n",
    "    roc_auc = auc(fpr, tpr)\n",
    "    \n",
    "    # Create a plotly trace for each class\n",
    "    trace = go.Scatter(\n",
    "        x=fpr, y=tpr, mode='lines', name=f'Class {i} (AUC = {roc_auc:.2f})'\n",
    "    )\n",
    "    roc_traces.append(trace)\n",
    "\n",
    "# Plotting the diagonal line (random classifier line)\n",
    "random_line = go.Scatter(\n",
    "    x=[0, 1], y=[0, 1], mode='lines', line=dict(dash='dash'), name='Random classifier (AUC = 0.50)'\n",
    ")\n",
    "\n",
    "# Combine the traces\n",
    "roc_traces.append(random_line)\n",
    "\n",
    "# Create layout\n",
    "layout = go.Layout(\n",
    "    title=\"ROC Curve for Multi-Class Classification\",\n",
    "    xaxis=dict(title=\"False Positive Rate\"),\n",
    "    yaxis=dict(title=\"True Positive Rate\"),\n",
    "    showlegend=True\n",
    ")\n",
    "\n",
    "# Create the figure with all traces and layout\n",
    "fig = go.Figure(data=roc_traces, layout=layout)\n",
    "\n",
    "# Show the plot\n",
    "fig.show()"
   ]
  },
  {
   "cell_type": "code",
   "execution_count": 45,
   "metadata": {},
   "outputs": [
    {
     "name": "stdout",
     "output_type": "stream",
     "text": [
      "Log-Loss: 0.0588\n"
     ]
    }
   ],
   "source": [
    "import torch.nn.functional as F\n",
    "\n",
    "log_loss = 0.0\n",
    "model.eval()\n",
    "\n",
    "with torch.no_grad():\n",
    "    for images, labels in test_loader:\n",
    "        images, labels = images.to(device), labels.to(device)\n",
    "        outputs = model(images)\n",
    "        loss = F.cross_entropy(outputs, labels)\n",
    "        log_loss += loss.item()\n",
    "\n",
    "log_loss /= len(test_loader)\n",
    "print(f\"Log-Loss: {log_loss:.4f}\")\n"
   ]
  },
  {
   "cell_type": "code",
   "execution_count": 46,
   "metadata": {},
   "outputs": [
    {
     "name": "stdout",
     "output_type": "stream",
     "text": [
      "Top-5 Accuracy: 1.00\n"
     ]
    }
   ],
   "source": [
    "def top_k_accuracy(outputs, labels, k=5):\n",
    "    _, top_k_preds = torch.topk(outputs, k, dim=1)\n",
    "    correct = top_k_preds.eq(labels.view(-1, 1).expand_as(top_k_preds))\n",
    "    return correct.sum().item() / labels.size(0)\n",
    "\n",
    "top_k_acc = 0\n",
    "model.eval()\n",
    "\n",
    "with torch.no_grad():\n",
    "    for images, labels in test_loader:\n",
    "        images, labels = images.to(device), labels.to(device)\n",
    "        outputs = model(images)\n",
    "        top_k_acc += top_k_accuracy(outputs, labels, k=5)\n",
    "\n",
    "top_k_acc /= len(test_loader)\n",
    "print(f\"Top-5 Accuracy: {top_k_acc:.2f}\")\n"
   ]
  },
  {
   "cell_type": "code",
   "execution_count": null,
   "metadata": {},
   "outputs": [],
   "source": []
  },
  {
   "cell_type": "code",
   "execution_count": null,
   "metadata": {},
   "outputs": [],
   "source": []
  }
 ],
 "metadata": {
  "kernelspec": {
   "display_name": "3.10.4",
   "language": "python",
   "name": "python3"
  },
  "language_info": {
   "codemirror_mode": {
    "name": "ipython",
    "version": 3
   },
   "file_extension": ".py",
   "mimetype": "text/x-python",
   "name": "python",
   "nbconvert_exporter": "python",
   "pygments_lexer": "ipython3",
   "version": "3.10.4"
  }
 },
 "nbformat": 4,
 "nbformat_minor": 2
}
