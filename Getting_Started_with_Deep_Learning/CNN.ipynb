{
 "cells": [
  {
   "cell_type": "markdown",
   "metadata": {},
   "source": [
    "https://www.tensorflow.org/tutorials/keras/classification\n",
    "\n",
    "https://www.kaggle.com/code/farzadnekouei/cifar-10-image-classification-with-cnn"
   ]
  },
  {
   "cell_type": "code",
   "execution_count": 48,
   "metadata": {},
   "outputs": [],
   "source": [
    "import torch\n",
    "import torchvision\n",
    "import torchvision.datasets\n",
    "import torchvision.transforms\n",
    "from torch.utils.data import random_split, DataLoader\n",
    "\n",
    "\n",
    "import torch.nn as nn\n",
    "import torch.optim as optim\n",
    "import torch.nn.functional as F"
   ]
  },
  {
   "cell_type": "code",
   "execution_count": 49,
   "metadata": {},
   "outputs": [],
   "source": [
    "\n",
    "# Transform definition to convert images to tensors in pytorch\n",
    "# The series of transformations is given as an order of steps in a list\n",
    "\n",
    "transform = torchvision.transforms.Compose(\n",
    "    [torchvision.transforms.ToTensor(),\n",
    "    torchvision.transforms.Normalize((0.5, ), (0.5, ))\n",
    "    ]\n",
    ")"
   ]
  },
  {
   "cell_type": "code",
   "execution_count": 50,
   "metadata": {},
   "outputs": [],
   "source": [
    "# Download the dataset\n",
    "mnist_data_train = torchvision.datasets.MNIST(root=\"./mnist\", train = True, transform = transform, download = True)\n",
    "\n",
    "# Load the dataset\n",
    "batch_size = 64\n",
    "train_loader = torch.utils.data.DataLoader(dataset = mnist_data_train, batch_size = batch_size, shuffle = True)"
   ]
  },
  {
   "cell_type": "code",
   "execution_count": 51,
   "metadata": {},
   "outputs": [
    {
     "name": "stdout",
     "output_type": "stream",
     "text": [
      "Displaying the first image in the training set...\n"
     ]
    },
    {
     "data": {
      "image/png": "[encoded data removed]",
      "text/plain": [
       "<Figure size 640x480 with 1 Axes>"
      ]
     },
     "metadata": {},
     "output_type": "display_data"
    }
   ],
   "source": [
    "import matplotlib.pyplot as plt\n",
    "\n",
    "def show_image(image, label):\n",
    "    # Remove the channel dimension (1, 28, 28) -> (28, 28)\n",
    "    image = image.squeeze()  \n",
    "    plt.imshow(image, cmap='gray')\n",
    "    \n",
    "    plt.title(f\"Label: {label}\")\n",
    "     # Turn off axis labels for better visualization\n",
    "    plt.axis('off') \n",
    "    plt.show()\n",
    "\n",
    "# Example: Display the first image from the train_loader\n",
    "for images, labels in train_loader:\n",
    "    print(\"Displaying the first image in the training set...\")\n",
    "    show_image(images[0], labels[0].item())\n",
    "    break\n"
   ]
  },
  {
   "cell_type": "code",
   "execution_count": 52,
   "metadata": {},
   "outputs": [
    {
     "name": "stdout",
     "output_type": "stream",
     "text": [
      "Validation set size: 5000\n",
      "Test set size: 5000\n"
     ]
    }
   ],
   "source": [
    "# Download the test dataset\n",
    "test_dataset = torchvision.datasets.MNIST(root='./mnist', train=False, transform=transform, download=True)\n",
    "\n",
    "# Split the test dataset into validation and test sets; split 50-50\n",
    "valid_size = len(test_dataset) // 2 \n",
    "test_size = len(test_dataset) - valid_size\n",
    "valid_dataset, test_dataset = random_split(test_dataset, [valid_size, test_size])\n",
    "\n",
    "# Create DataLoaders for validation and test sets\n",
    "valid_loader = DataLoader(dataset=valid_dataset, batch_size=64, shuffle=False)\n",
    "test_loader = DataLoader(dataset=test_dataset, batch_size=64, shuffle=False)\n",
    "\n",
    "# Example: Inspect the number of samples in each split\n",
    "print(f\"Validation set size: {len(valid_dataset)}\")\n",
    "print(f\"Test set size: {len(test_dataset)}\")\n"
   ]
  },
  {
   "cell_type": "markdown",
   "metadata": {},
   "source": [
    "## Model Building"
   ]
  },
  {
   "cell_type": "code",
   "execution_count": 53,
   "metadata": {},
   "outputs": [],
   "source": [
    "class CNN(nn.Module):\n",
    "    def __init__(self):\n",
    "        super(CNN, self).__init__()\n",
    "        self.conv1 = nn.Conv2d(1, 10, kernel_size = 5)\n",
    "        self.conv2 = nn.Conv2d(10, 20, kernel_size = 5)\n",
    "        self.conv2_dropout = nn.Dropout2d()\n",
    "        self.fc1 = nn.Linear(320, 50)\n",
    "        self.fc2 = nn.Linear(50, 10)\n",
    "        \n",
    "    def forward(self, x):\n",
    "        x = F.relu(F.max_pool2d(self.conv1(x), 2))\n",
    "        x = F.relu(F.max_pool2d(self.conv2_dropout(self.conv2(x)), 2))\n",
    "        x = x.view(-1, 320)\n",
    "        x = F.relu(self.fc1(x))\n",
    "        x = F.dropout(x, training=self.training)\n",
    "        x = self.fc2(x)\n",
    "        x = F.log_softmax(x, dim = 1)\n",
    "        return x\n",
    "        "
   ]
  },
  {
   "cell_type": "code",
   "execution_count": 20,
   "metadata": {},
   "outputs": [],
   "source": [
    "device = torch.device('cuda' if torch.cuda.is_available() else 'cpu')\n",
    "\n",
    "model = CNN().to(device)\n",
    "\n",
    "# Set the loss and optimizer\n",
    "criterion = nn.CrossEntropyLoss()\n",
    "\n",
    "optimizer = optim.Adam(model.parameters(), lr = 0.001)"
   ]
  },
  {
   "cell_type": "code",
   "execution_count": 56,
   "metadata": {},
   "outputs": [
    {
     "name": "stdout",
     "output_type": "stream",
     "text": [
      "----------------------------------------------------------------\n",
      "        Layer (type)               Output Shape         Param #\n",
      "================================================================\n",
      "            Conv2d-1           [-1, 10, 24, 24]             260\n",
      "            Conv2d-2             [-1, 20, 8, 8]           5,020\n",
      "         Dropout2d-3             [-1, 20, 8, 8]               0\n",
      "            Linear-4                   [-1, 50]          16,050\n",
      "            Linear-5                   [-1, 10]             510\n",
      "================================================================\n",
      "Total params: 21,840\n",
      "Trainable params: 21,840\n",
      "Non-trainable params: 0\n",
      "----------------------------------------------------------------\n",
      "Input size (MB): 0.00\n",
      "Forward/backward pass size (MB): 0.06\n",
      "Params size (MB): 0.08\n",
      "Estimated Total Size (MB): 0.15\n",
      "----------------------------------------------------------------\n"
     ]
    }
   ],
   "source": [
    "from torchsummary import summary\n",
    "summary(model, (1, 28, 28))  "
   ]
  },
  {
   "cell_type": "code",
   "execution_count": 21,
   "metadata": {},
   "outputs": [
    {
     "name": "stdout",
     "output_type": "stream",
     "text": [
      "Epoch: 1/10   Train Loss: 0.5317\n",
      "\n",
      "Epoch: 2/10   Train Loss: 0.2456\n",
      "\n",
      "Epoch: 3/10   Train Loss: 0.2026\n",
      "\n",
      "Epoch: 4/10   Train Loss: 0.1793\n",
      "\n",
      "Epoch: 5/10   Train Loss: 0.1676\n",
      "\n",
      "Epoch: 6/10   Train Loss: 0.1591\n",
      "\n",
      "Epoch: 7/10   Train Loss: 0.1503\n",
      "\n",
      "Epoch: 8/10   Train Loss: 0.1470\n",
      "\n",
      "Epoch: 9/10   Train Loss: 0.1441\n",
      "\n",
      "Epoch: 10/10   Train Loss: 0.1401\n",
      "\n"
     ]
    }
   ],
   "source": [
    "# Training\n",
    "\n",
    "num_epochs = 10\n",
    "\n",
    "for epoch in range(num_epochs):\n",
    "    model.train()\n",
    "    running_loss = 0.0\n",
    "    \n",
    "    for image_batch, label_batch in train_loader:\n",
    "        image_batch, label_batch = image_batch.to(device), label_batch.to(device)\n",
    "        \n",
    "        outputs = model(image_batch)\n",
    "        \n",
    "        loss = criterion(outputs, label_batch)\n",
    "        \n",
    "        \n",
    "        # Backward pass and optimization\n",
    "        optimizer.zero_grad()\n",
    "        loss.backward()\n",
    "        optimizer.step()\n",
    "        \n",
    "        \n",
    "        running_loss += loss.item()\n",
    "        \n",
    "    print(f\"Epoch: {epoch+1}/{num_epochs}   Train Loss: {running_loss/len(train_loader):.4f}\\n\")\n",
    "        "
   ]
  },
  {
   "cell_type": "code",
   "execution_count": 31,
   "metadata": {},
   "outputs": [
    {
     "name": "stdout",
     "output_type": "stream",
     "text": [
      "----------------------------------------------------------------\n",
      "        Layer (type)               Output Shape         Param #\n",
      "================================================================\n",
      "            Conv2d-1           [-1, 10, 24, 24]             260\n",
      "            Conv2d-2             [-1, 20, 8, 8]           5,020\n",
      "         Dropout2d-3             [-1, 20, 8, 8]               0\n",
      "            Linear-4                   [-1, 50]          16,050\n",
      "            Linear-5                   [-1, 10]             510\n",
      "================================================================\n",
      "Total params: 21,840\n",
      "Trainable params: 21,840\n",
      "Non-trainable params: 0\n",
      "----------------------------------------------------------------\n",
      "Input size (MB): 0.00\n",
      "Forward/backward pass size (MB): 0.06\n",
      "Params size (MB): 0.08\n",
      "Estimated Total Size (MB): 0.15\n",
      "----------------------------------------------------------------\n"
     ]
    }
   ],
   "source": [
    "from torchsummary import summary\n",
    "summary(model, (1, 28, 28))"
   ]
  },
  {
   "cell_type": "code",
   "execution_count": 22,
   "metadata": {},
   "outputs": [
    {
     "name": "stdout",
     "output_type": "stream",
     "text": [
      "Valid Accuracy: 98.84%\n"
     ]
    }
   ],
   "source": [
    "model.eval()\n",
    "correct = 0\n",
    "total = 0\n",
    "all_labels = []\n",
    "all_preds = []\n",
    "\n",
    "with torch.no_grad():\n",
    "    for images, labels in valid_loader:\n",
    "        images, labels = images.to(device), labels.to(device)\n",
    "        for label in labels:\n",
    "            all_labels.append(label)\n",
    "        outputs = model(images)\n",
    "        _, predicted = torch.max(outputs.data, 1)\n",
    "        for predict in predicted:\n",
    "            all_preds.append(predict)\n",
    "        total += labels.size(0)\n",
    "        correct += (predicted == labels).sum().item() \n",
    "print(f\"Valid Accuracy: {100 * correct / total:.2f}%\")"
   ]
  },
  {
   "cell_type": "code",
   "execution_count": 23,
   "metadata": {},
   "outputs": [
    {
     "data": {
      "image/png": "[encoded data removed]",
      "text/plain": [
       "<Figure size 1000x800 with 2 Axes>"
      ]
     },
     "metadata": {},
     "output_type": "display_data"
    }
   ],
   "source": [
    "from sklearn.metrics import confusion_matrix\n",
    "import seaborn as sns\n",
    "import matplotlib.pyplot as plt\n",
    "\n",
    "# Calculate confusion matrix\n",
    "conf_matrix = confusion_matrix(all_labels, all_preds)\n",
    "\n",
    "# Plot confusion matrix\n",
    "plt.figure(figsize=(10, 8))\n",
    "sns.heatmap(conf_matrix, annot=True, fmt=\"d\", cmap=\"Blues\", xticklabels=range(10), yticklabels=range(10))\n",
    "plt.xlabel('Predicted Labels')\n",
    "plt.ylabel('True Labels')\n",
    "plt.title('Confusion Matrix')\n",
    "plt.show()\n"
   ]
  },
  {
   "cell_type": "code",
   "execution_count": 24,
   "metadata": {},
   "outputs": [
    {
     "data": {
      "image/png": "[encoded data removed]",
      "text/plain": [
       "<Figure size 1000x800 with 1 Axes>"
      ]
     },
     "metadata": {},
     "output_type": "display_data"
    }
   ],
   "source": [
    "import matplotlib.pyplot as plt\n",
    "from sklearn.metrics import roc_curve, auc\n",
    "import torch\n",
    "import numpy as np\n",
    "from sklearn.preprocessing import label_binarize\n",
    "\n",
    "# Initialize containers for all labels and predictions\n",
    "all_labels = []\n",
    "all_outputs = []\n",
    "\n",
    "# Make sure model is in evaluation mode\n",
    "model.eval()\n",
    "\n",
    "with torch.no_grad():\n",
    "    for images, labels in test_loader:\n",
    "        images, labels = images.to(device), labels.to(device)\n",
    "\n",
    "        # Get model outputs (raw scores before applying softmax)\n",
    "        outputs = model(images)\n",
    "        \n",
    "        # Apply softmax to get probabilities\n",
    "        outputs = torch.softmax(outputs, dim=1).detach().cpu().numpy()\n",
    "\n",
    "        # Collect all outputs and labels\n",
    "        all_labels.append(labels.cpu().numpy())\n",
    "        all_outputs.append(outputs)\n",
    "\n",
    "# Convert lists to numpy arrays\n",
    "all_labels = np.concatenate(all_labels)\n",
    "all_outputs = np.concatenate(all_outputs)\n",
    "\n",
    "# Binarize the labels for multi-class ROC curve\n",
    "n_classes = all_outputs.shape[1]\n",
    "all_labels_bin = label_binarize(all_labels, classes=np.arange(n_classes))\n",
    "\n",
    "# Plot ROC curve for each class\n",
    "plt.figure(figsize=(10, 8))\n",
    "\n",
    "for i in range(n_classes):\n",
    "    fpr, tpr, _ = roc_curve(all_labels_bin[:, i], all_outputs[:, i])\n",
    "    roc_auc = auc(fpr, tpr)\n",
    "    plt.plot(fpr, tpr, label=f'Class {i} (AUC = {roc_auc:.2f})')\n",
    "\n",
    "# Plotting the diagonal line (random classifier line)\n",
    "plt.plot([0, 1], [0, 1], 'k--', label='Random classifier (AUC = 0.50)')\n",
    "\n",
    "# Set labels and title\n",
    "plt.xlabel('False Positive Rate')\n",
    "plt.ylabel('True Positive Rate')\n",
    "plt.title('ROC Curve for Multi-Class Classification')\n",
    "plt.legend(loc='lower right')\n",
    "plt.grid(True)\n",
    "\n",
    "# Show the plot\n",
    "plt.show()\n"
   ]
  },
  {
   "cell_type": "code",
   "execution_count": 25,
   "metadata": {},
   "outputs": [
    {
     "data": {
      "application/vnd.plotly.v1+json": {
       "config": {
        "plotlyServerURL": "https://plot.ly"
       },
       "data": [
        {
         "mode": "lines",
         "name": "Class 0 (AUC = 1.00)",
         "type": "scatter",
         "x": [
          0,
          0,
          0,
          0,
          0,
          0,
          0,
          0,
          0,
          0,
          0,
          0,
          0,
          0,
          0,
          0,
          0,
          0,
          0,
          0,
          0,
          0,
          0,
          0,
          0,
          0,
          0,
          0,
          0,
          0,
          0,
          0,
          0,
          0,
          0,
          0,
          0,
          0,
          0,
          0,
          0,
          0,
          0,
          0,
          0,
          0,
          0,
          0,
          0,
          0,
          0,
          0,
          0,
          0,
          0,
          0,
          0,
          0,
          0,
          0,
          0.00022163120567375886,
          0.00022163120567375886,
          0.0006648936170212766,
          0.0006648936170212766,
          0.0008865248226950354,
          0.0008865248226950354,
          0.0015514184397163121,
          0.0015514184397163121,
          0.004875886524822695,
          0.004875886524822695,
          1
         ],
         "y": [
          0,
          0.11885245901639344,
          0.1721311475409836,
          0.22745901639344263,
          0.26024590163934425,
          0.2807377049180328,
          0.2930327868852459,
          0.3135245901639344,
          0.33811475409836067,
          0.35450819672131145,
          0.3668032786885246,
          0.375,
          0.38934426229508196,
          0.39549180327868855,
          0.39959016393442626,
          0.4098360655737705,
          0.42213114754098363,
          0.4323770491803279,
          0.444672131147541,
          0.44672131147540983,
          0.45286885245901637,
          0.45491803278688525,
          0.46311475409836067,
          0.4672131147540984,
          0.4713114754098361,
          0.48565573770491804,
          0.48975409836065575,
          0.4918032786885246,
          0.4959016393442623,
          0.5061475409836066,
          0.5102459016393442,
          0.5184426229508197,
          0.5225409836065574,
          0.5307377049180327,
          0.5348360655737705,
          0.5368852459016393,
          0.5409836065573771,
          0.5430327868852459,
          0.5471311475409836,
          0.5532786885245902,
          0.5573770491803278,
          0.5594262295081968,
          0.5676229508196722,
          0.5922131147540983,
          0.5963114754098361,
          0.6086065573770492,
          0.6127049180327869,
          0.6147540983606558,
          0.6188524590163934,
          0.625,
          0.6290983606557377,
          0.6495901639344263,
          0.6536885245901639,
          0.6598360655737705,
          0.6639344262295082,
          0.7131147540983607,
          0.7172131147540983,
          0.8217213114754098,
          0.8258196721311475,
          0.9795081967213115,
          0.9795081967213115,
          0.9815573770491803,
          0.9815573770491803,
          0.9877049180327869,
          0.9877049180327869,
          0.9959016393442623,
          0.9959016393442623,
          0.9979508196721312,
          0.9979508196721312,
          1,
          1
         ]
        },
        {
         "mode": "lines",
         "name": "Class 1 (AUC = 1.00)",
         "type": "scatter",
         "x": [
          0,
          0,
          0,
          0,
          0,
          0,
          0,
          0,
          0,
          0,
          0,
          0,
          0,
          0,
          0,
          0,
          0,
          0,
          0,
          0,
          0,
          0,
          0,
          0,
          0,
          0,
          0,
          0,
          0,
          0,
          0,
          0,
          0,
          0,
          0,
          0,
          0,
          0,
          0,
          0,
          0,
          0,
          0,
          0,
          0,
          0,
          0,
          0,
          0,
          0,
          0,
          0,
          0,
          0,
          0,
          0,
          0,
          0,
          0,
          0,
          0,
          0,
          0,
          0,
          0,
          0,
          0,
          0,
          0,
          0,
          0,
          0,
          0,
          0,
          0,
          0,
          0,
          0,
          0,
          0,
          0,
          0,
          0,
          0,
          0,
          0,
          0,
          0,
          0,
          0,
          0,
          0,
          0,
          0,
          0,
          0,
          0,
          0,
          0,
          0,
          0,
          0,
          0,
          0,
          0,
          0,
          0,
          0,
          0,
          0,
          0,
          0,
          0,
          0,
          0,
          0,
          0,
          0,
          0,
          0,
          0,
          0,
          0,
          0.0002255299954894001,
          0.0002255299954894001,
          0.0009021199819576004,
          0.0009021199819576004,
          0.0011276499774470004,
          0.0011276499774470004,
          0.0013531799729364006,
          0.0013531799729364006,
          1
         ],
         "y": [
          0,
          0.0035335689045936395,
          0.0088339222614841,
          0.012367491166077738,
          0.019434628975265017,
          0.022968197879858657,
          0.028268551236749116,
          0.038869257950530034,
          0.045936395759717315,
          0.054770318021201414,
          0.061837455830388695,
          0.06713780918727916,
          0.0706713780918728,
          0.07597173144876325,
          0.08303886925795052,
          0.08833922261484099,
          0.09010600706713781,
          0.09540636042402827,
          0.10424028268551237,
          0.10777385159010601,
          0.12190812720848057,
          0.1254416961130742,
          0.13250883392226148,
          0.13780918727915195,
          0.14840989399293286,
          0.15901060070671377,
          0.1625441696113074,
          0.17314487632508835,
          0.17491166077738515,
          0.18197879858657243,
          0.19081272084805653,
          0.19434628975265017,
          0.196113074204947,
          0.20318021201413428,
          0.20848056537102475,
          0.21201413427561838,
          0.21731448763250882,
          0.22614840989399293,
          0.2332155477031802,
          0.23851590106007067,
          0.24028268551236748,
          0.24734982332155478,
          0.2579505300353357,
          0.26148409893992935,
          0.26855123674911663,
          0.2756183745583039,
          0.2773851590106007,
          0.28091872791519434,
          0.2826855123674912,
          0.2862190812720848,
          0.2879858657243816,
          0.2915194346289753,
          0.29328621908127206,
          0.29858657243816256,
          0.3003533568904594,
          0.303886925795053,
          0.30918727915194344,
          0.31625441696113077,
          0.31802120141342755,
          0.3215547703180212,
          0.32332155477031804,
          0.32685512367491165,
          0.3321554770318021,
          0.33568904593639576,
          0.3409893992932862,
          0.34452296819787986,
          0.3498233215547703,
          0.35335689045936397,
          0.3621908127208481,
          0.3657243816254417,
          0.3674911660777385,
          0.37809187279151946,
          0.37985865724381623,
          0.39045936395759717,
          0.392226148409894,
          0.3957597173144876,
          0.4045936395759717,
          0.4081272084805654,
          0.411660777385159,
          0.41872791519434627,
          0.4204946996466431,
          0.4275618374558304,
          0.4381625441696113,
          0.44876325088339225,
          0.450530035335689,
          0.4575971731448763,
          0.46113074204946997,
          0.46466431095406363,
          0.4752650176678445,
          0.4823321554770318,
          0.4929328621908127,
          0.49646643109540634,
          0.5176678445229682,
          0.5229681978798587,
          0.5282685512367491,
          0.5318021201413428,
          0.5371024734982333,
          0.5512367491166078,
          0.5547703180212014,
          0.5618374558303887,
          0.5724381625441696,
          0.5759717314487632,
          0.5795053003533569,
          0.5830388692579506,
          0.588339222614841,
          0.5918727915194346,
          0.5971731448763251,
          0.6007067137809188,
          0.6201413427561837,
          0.6236749116607774,
          0.6342756183745583,
          0.6378091872791519,
          0.6554770318021201,
          0.6590106007067138,
          0.7067137809187279,
          0.7137809187279152,
          0.715547703180212,
          0.7190812720848057,
          0.726148409893993,
          0.7296819787985865,
          0.765017667844523,
          0.7685512367491166,
          0.9734982332155477,
          0.9734982332155477,
          0.9929328621908127,
          0.9929328621908127,
          0.9964664310954063,
          0.9964664310954063,
          0.9982332155477032,
          0.9982332155477032,
          1,
          1
         ]
        },
        {
         "mode": "lines",
         "name": "Class 2 (AUC = 1.00)",
         "type": "scatter",
         "x": [
          0,
          0,
          0,
          0,
          0,
          0,
          0,
          0,
          0,
          0,
          0,
          0,
          0,
          0,
          0,
          0,
          0,
          0,
          0,
          0,
          0,
          0,
          0,
          0,
          0,
          0,
          0,
          0,
          0,
          0,
          0,
          0,
          0,
          0,
          0,
          0,
          0,
          0,
          0,
          0,
          0,
          0,
          0,
          0,
          0,
          0,
          0,
          0,
          0,
          0,
          0,
          0.0002229654403567447,
          0.0002229654403567447,
          0.0004459308807134894,
          0.0004459308807134894,
          0.0006688963210702341,
          0.0006688963210702341,
          0.0008918617614269788,
          0.0008918617614269788,
          0.0017837235228539577,
          0.0017837235228539577,
          0.002229654403567447,
          0.002229654403567447,
          0.0035674470457079154,
          0.0035674470457079154,
          0.0046822742474916385,
          0.0046822742474916385,
          0.008026755852842809,
          0.008026755852842809,
          0.01092530657748049,
          0.01092530657748049,
          1
         ],
         "y": [
          0,
          0.04271844660194175,
          0.06407766990291262,
          0.0912621359223301,
          0.11650485436893204,
          0.13009708737864079,
          0.1378640776699029,
          0.14951456310679612,
          0.1533980582524272,
          0.17281553398058253,
          0.1766990291262136,
          0.18640776699029127,
          0.1941747572815534,
          0.2,
          0.20970873786407768,
          0.21359223300970873,
          0.22135922330097088,
          0.22524271844660193,
          0.229126213592233,
          0.23300970873786409,
          0.2524271844660194,
          0.258252427184466,
          0.26601941747572816,
          0.27766990291262134,
          0.2854368932038835,
          0.2912621359223301,
          0.29902912621359223,
          0.3029126213592233,
          0.3145631067961165,
          0.3262135922330097,
          0.3320388349514563,
          0.3359223300970874,
          0.33980582524271846,
          0.34368932038834954,
          0.3611650485436893,
          0.3650485436893204,
          0.37087378640776697,
          0.3786407766990291,
          0.3825242718446602,
          0.3864077669902913,
          0.4,
          0.40388349514563104,
          0.4077669902912621,
          0.4116504854368932,
          0.42330097087378643,
          0.42718446601941745,
          0.5029126213592233,
          0.5067961165048543,
          0.7359223300970874,
          0.7398058252427184,
          0.9281553398058252,
          0.9281553398058252,
          0.9728155339805825,
          0.9728155339805825,
          0.9844660194174757,
          0.9844660194174757,
          0.9864077669902913,
          0.9864077669902913,
          0.9883495145631068,
          0.9883495145631068,
          0.9902912621359223,
          0.9902912621359223,
          0.9922330097087378,
          0.9922330097087378,
          0.9941747572815534,
          0.9941747572815534,
          0.996116504854369,
          0.996116504854369,
          0.9980582524271845,
          0.9980582524271845,
          1,
          1
         ]
        },
        {
         "mode": "lines",
         "name": "Class 3 (AUC = 1.00)",
         "type": "scatter",
         "x": [
          0,
          0,
          0,
          0,
          0,
          0,
          0,
          0,
          0,
          0,
          0,
          0,
          0,
          0,
          0,
          0,
          0,
          0,
          0,
          0,
          0,
          0,
          0,
          0,
          0,
          0,
          0,
          0,
          0,
          0,
          0,
          0,
          0,
          0,
          0,
          0,
          0,
          0,
          0,
          0,
          0,
          0,
          0,
          0,
          0,
          0,
          0,
          0,
          0,
          0,
          0,
          0,
          0,
          0,
          0,
          0,
          0.00022168033695411216,
          0.00022168033695411216,
          0.0004433606739082243,
          0.0004433606739082243,
          0.0011084016847705607,
          0.0011084016847705607,
          0.001330082021724673,
          0.001330082021724673,
          0.0015517623586787852,
          0.0015517623586787852,
          0.0017734426956328973,
          0.0017734426956328973,
          0.0022168033695411215,
          0.0022168033695411215,
          0.0033252050543116827,
          0.0033252050543116827,
          0.007093770782531589,
          0.007093770782531589,
          0.023054755043227664,
          0.023054755043227664,
          1
         ],
         "y": [
          0,
          0.08997955010224949,
          0.13496932515337423,
          0.1656441717791411,
          0.1901840490797546,
          0.21267893660531698,
          0.2249488752556237,
          0.2331288343558282,
          0.24539877300613497,
          0.25357873210633947,
          0.26380368098159507,
          0.28016359918200406,
          0.2822085889570552,
          0.28629856850715746,
          0.2965235173824131,
          0.30879345603271985,
          0.3128834355828221,
          0.3231083844580777,
          0.32515337423312884,
          0.3292433537832311,
          0.3312883435582822,
          0.33537832310838445,
          0.3394683026584867,
          0.3476482617586912,
          0.35173824130879344,
          0.3558282208588957,
          0.35787321063394684,
          0.36400817995910023,
          0.3660531697341513,
          0.37014314928425357,
          0.3721881390593047,
          0.3783231083844581,
          0.38650306748466257,
          0.39059304703476483,
          0.3967280163599182,
          0.40081799591002043,
          0.4049079754601227,
          0.4130879345603272,
          0.4171779141104294,
          0.41922290388548056,
          0.4274028629856851,
          0.43558282208588955,
          0.4560327198364008,
          0.4621676891615542,
          0.4662576687116564,
          0.48057259713701433,
          0.4867075664621677,
          0.49284253578732107,
          0.49693251533742333,
          0.5419222903885481,
          0.5460122699386503,
          0.6032719836400818,
          0.6073619631901841,
          0.6462167689161554,
          0.6503067484662577,
          0.9100204498977505,
          0.9100204498977505,
          0.9325153374233128,
          0.9325153374233128,
          0.9754601226993865,
          0.9754601226993865,
          0.9815950920245399,
          0.9815950920245399,
          0.9856850715746421,
          0.9856850715746421,
          0.9897750511247444,
          0.9897750511247444,
          0.9918200408997955,
          0.9918200408997955,
          0.9938650306748467,
          0.9938650306748467,
          0.9959100204498977,
          0.9959100204498977,
          0.9979550102249489,
          0.9979550102249489,
          1,
          1
         ]
        },
        {
         "mode": "lines",
         "name": "Class 4 (AUC = 1.00)",
         "type": "scatter",
         "x": [
          0,
          0,
          0,
          0,
          0,
          0,
          0,
          0,
          0,
          0,
          0,
          0,
          0,
          0,
          0,
          0,
          0,
          0,
          0,
          0,
          0,
          0,
          0,
          0,
          0,
          0,
          0,
          0,
          0,
          0,
          0,
          0,
          0,
          0,
          0,
          0,
          0,
          0,
          0,
          0,
          0,
          0.00022104332449160034,
          0.00022104332449160034,
          0.0004420866489832007,
          0.0004420866489832007,
          0.0008841732979664014,
          0.0008841732979664014,
          0.0017683465959328027,
          0.0017683465959328027,
          1
         ],
         "y": [
          0,
          0.21638655462184875,
          0.2668067226890756,
          0.29831932773109243,
          0.33403361344537813,
          0.3592436974789916,
          0.3739495798319328,
          0.3865546218487395,
          0.3949579831932773,
          0.4054621848739496,
          0.4180672268907563,
          0.42436974789915966,
          0.43907563025210083,
          0.4432773109243697,
          0.44537815126050423,
          0.4495798319327731,
          0.45588235294117646,
          0.46008403361344535,
          0.4642857142857143,
          0.46638655462184875,
          0.4726890756302521,
          0.4810924369747899,
          0.48739495798319327,
          0.4894957983193277,
          0.49369747899159666,
          0.4957983193277311,
          0.5,
          0.5021008403361344,
          0.5105042016806722,
          0.5147058823529411,
          0.5210084033613446,
          0.523109243697479,
          0.5273109243697479,
          0.5336134453781513,
          0.5378151260504201,
          0.5483193277310925,
          0.5546218487394958,
          0.5588235294117647,
          0.5861344537815126,
          0.5903361344537815,
          0.9348739495798319,
          0.9348739495798319,
          0.9747899159663865,
          0.9747899159663865,
          0.9957983193277311,
          0.9957983193277311,
          0.9978991596638656,
          0.9978991596638656,
          1,
          1
         ]
        },
        {
         "mode": "lines",
         "name": "Class 5 (AUC = 1.00)",
         "type": "scatter",
         "x": [
          0,
          0,
          0,
          0,
          0,
          0,
          0,
          0,
          0,
          0,
          0,
          0,
          0,
          0,
          0,
          0,
          0,
          0,
          0,
          0,
          0,
          0,
          0,
          0,
          0,
          0,
          0,
          0,
          0,
          0,
          0,
          0,
          0,
          0,
          0,
          0,
          0,
          0,
          0,
          0,
          0,
          0,
          0,
          0,
          0,
          0,
          0,
          0,
          0,
          0,
          0,
          0,
          0.00021920210434020167,
          0.00021920210434020167,
          0.00043840420868040335,
          0.00043840420868040335,
          0.000657606313020605,
          0.000657606313020605,
          0.0010960105217010083,
          0.0010960105217010083,
          0.00131521262604121,
          0.00131521262604121,
          0.0015344147303814116,
          0.0015344147303814116,
          0.001972818939061815,
          0.001972818939061815,
          0.003068829460762823,
          0.003068829460762823,
          0.003288031565103025,
          0.003288031565103025,
          0.00789127575624726,
          0.00789127575624726,
          0.015563349408154318,
          0.015563349408154318,
          0.02104340201665936,
          0.02104340201665936,
          0.9557211749232792,
          0.9561595791319597,
          1
         ],
         "y": [
          0,
          0.1415525114155251,
          0.2191780821917808,
          0.24885844748858446,
          0.2602739726027397,
          0.2808219178082192,
          0.2899543378995434,
          0.2945205479452055,
          0.3013698630136986,
          0.3059360730593607,
          0.3127853881278539,
          0.317351598173516,
          0.3264840182648402,
          0.3333333333333333,
          0.3356164383561644,
          0.3447488584474886,
          0.3493150684931507,
          0.3584474885844749,
          0.3607305936073059,
          0.3789954337899543,
          0.3926940639269406,
          0.3972602739726027,
          0.4018264840182648,
          0.4063926940639269,
          0.4132420091324201,
          0.4178082191780822,
          0.4269406392694064,
          0.4315068493150685,
          0.4474885844748858,
          0.454337899543379,
          0.4634703196347032,
          0.4657534246575342,
          0.4703196347031963,
          0.4908675799086758,
          0.4954337899543379,
          0.5045662100456622,
          0.5182648401826484,
          0.5388127853881278,
          0.547945205479452,
          0.5707762557077626,
          0.5753424657534246,
          0.5844748858447488,
          0.589041095890411,
          0.593607305936073,
          0.5981735159817352,
          0.6141552511415526,
          0.6187214611872146,
          0.6210045662100456,
          0.6255707762557078,
          0.6575342465753424,
          0.6621004566210046,
          0.9360730593607306,
          0.9360730593607306,
          0.9497716894977168,
          0.9497716894977168,
          0.95662100456621,
          0.95662100456621,
          0.9726027397260274,
          0.9726027397260274,
          0.9771689497716894,
          0.9771689497716894,
          0.9817351598173516,
          0.9817351598173516,
          0.9840182648401826,
          0.9840182648401826,
          0.9863013698630136,
          0.9863013698630136,
          0.9885844748858448,
          0.9885844748858448,
          0.9931506849315068,
          0.9931506849315068,
          0.9954337899543378,
          0.9954337899543378,
          0.997716894977169,
          0.997716894977169,
          1,
          1,
          1,
          1
         ]
        },
        {
         "mode": "lines",
         "name": "Class 6 (AUC = 1.00)",
         "type": "scatter",
         "x": [
          0,
          0,
          0,
          0,
          0,
          0,
          0,
          0,
          0,
          0,
          0,
          0,
          0,
          0,
          0,
          0,
          0,
          0,
          0,
          0,
          0,
          0,
          0,
          0,
          0,
          0,
          0,
          0,
          0,
          0,
          0,
          0,
          0,
          0,
          0,
          0,
          0,
          0,
          0,
          0,
          0,
          0,
          0,
          0,
          0,
          0.0004463289444320464,
          0.0004463289444320464,
          0.0013389868332961392,
          0.0013389868332961392,
          1
         ],
         "y": [
          0,
          0.12716763005780346,
          0.18882466281310212,
          0.27360308285163776,
          0.29672447013487474,
          0.3179190751445087,
          0.33140655105973027,
          0.33911368015414256,
          0.3583815028901734,
          0.36416184971098264,
          0.3737957610789981,
          0.37957610789980734,
          0.3872832369942196,
          0.3988439306358382,
          0.40655105973025046,
          0.41811175337186895,
          0.42003853564547206,
          0.4277456647398844,
          0.43352601156069365,
          0.43545279383429675,
          0.4393063583815029,
          0.44508670520231214,
          0.44701348747591524,
          0.45472061657032753,
          0.4662813102119461,
          0.4701348747591522,
          0.4720616570327553,
          0.4836223506743738,
          0.48940269749518306,
          0.5009633911368016,
          0.5067437379576107,
          0.5105973025048169,
          0.5183044315992292,
          0.5240847784200385,
          0.5491329479768786,
          0.5529865125240848,
          0.5684007707129094,
          0.5761078998073218,
          0.6088631984585742,
          0.6127167630057804,
          0.626204238921002,
          0.630057803468208,
          0.653179190751445,
          0.6570327552986512,
          0.9922928709055877,
          0.9922928709055877,
          0.9961464354527938,
          0.9961464354527938,
          1,
          1
         ]
        },
        {
         "mode": "lines",
         "name": "Class 7 (AUC = 1.00)",
         "type": "scatter",
         "x": [
          0,
          0,
          0,
          0,
          0,
          0,
          0,
          0,
          0,
          0,
          0,
          0,
          0,
          0,
          0,
          0,
          0,
          0,
          0,
          0,
          0,
          0,
          0,
          0,
          0,
          0,
          0,
          0,
          0,
          0,
          0,
          0,
          0,
          0,
          0,
          0,
          0,
          0,
          0,
          0,
          0,
          0,
          0,
          0,
          0,
          0,
          0,
          0,
          0,
          0,
          0,
          0,
          0,
          0,
          0,
          0,
          0,
          0,
          0,
          0,
          0,
          0,
          0,
          0,
          0,
          0,
          0,
          0,
          0,
          0,
          0,
          0,
          0,
          0,
          0,
          0,
          0.00022232103156958648,
          0.00022232103156958648,
          0.00044464206313917296,
          0.00044464206313917296,
          0.0006669630947087594,
          0.0006669630947087594,
          0.0008892841262783459,
          0.0008892841262783459,
          0.0013339261894175188,
          0.0013339261894175188,
          0.0015562472209871053,
          0.0015562472209871053,
          0.0017785682525566918,
          0.0017785682525566918,
          0.004001778568252557,
          0.004001778568252557,
          0.008003557136505114,
          0.008003557136505114,
          1
         ],
         "y": [
          0,
          0.00597609561752988,
          0.0099601593625498,
          0.029880478087649404,
          0.053784860557768925,
          0.06772908366533864,
          0.09163346613545817,
          0.09760956175298804,
          0.10756972111553785,
          0.11553784860557768,
          0.11952191235059761,
          0.1294820717131474,
          0.14143426294820718,
          0.14940239043824702,
          0.16135458167330677,
          0.16733067729083664,
          0.1752988047808765,
          0.17729083665338646,
          0.1852589641434263,
          0.1952191235059761,
          0.199203187250996,
          0.20119521912350596,
          0.20717131474103587,
          0.20916334661354583,
          0.2151394422310757,
          0.21713147410358566,
          0.22111553784860558,
          0.22310756972111553,
          0.22709163346613545,
          0.23306772908366533,
          0.23705179282868527,
          0.23904382470119523,
          0.2450199203187251,
          0.24701195219123506,
          0.250996015936255,
          0.2589641434262948,
          0.2649402390438247,
          0.26693227091633465,
          0.27091633466135456,
          0.28087649402390436,
          0.2868525896414343,
          0.2908366533864542,
          0.29282868525896416,
          0.300796812749004,
          0.30278884462151395,
          0.30677290836653387,
          0.3187250996015936,
          0.32270916334661354,
          0.3247011952191235,
          0.33665338645418325,
          0.3386454183266932,
          0.3426294820717131,
          0.3466135458167331,
          0.350597609561753,
          0.3545816733067729,
          0.36254980079681276,
          0.3645418326693227,
          0.36852589641434264,
          0.3745019920318725,
          0.4103585657370518,
          0.41434262948207173,
          0.42231075697211157,
          0.4262948207171315,
          0.4342629482071713,
          0.43824701195219123,
          0.4402390438247012,
          0.4442231075697211,
          0.448207171314741,
          0.45219123505976094,
          0.4701195219123506,
          0.47410358565737054,
          0.5278884462151394,
          0.5318725099601593,
          0.5338645418326693,
          0.5418326693227091,
          0.9382470119521913,
          0.9382470119521913,
          0.9462151394422311,
          0.9462151394422311,
          0.9800796812749004,
          0.9800796812749004,
          0.9820717131474104,
          0.9820717131474104,
          0.9860557768924303,
          0.9860557768924303,
          0.9900398406374502,
          0.9900398406374502,
          0.9940239043824701,
          0.9940239043824701,
          0.9960159362549801,
          0.9960159362549801,
          0.99800796812749,
          0.99800796812749,
          1,
          1
         ]
        },
        {
         "mode": "lines",
         "name": "Class 8 (AUC = 1.00)",
         "type": "scatter",
         "x": [
          0,
          0,
          0,
          0,
          0,
          0,
          0,
          0,
          0,
          0,
          0,
          0,
          0,
          0,
          0,
          0,
          0,
          0,
          0,
          0,
          0,
          0,
          0,
          0,
          0,
          0,
          0,
          0,
          0,
          0,
          0,
          0,
          0,
          0,
          0,
          0,
          0,
          0,
          0,
          0,
          0,
          0,
          0,
          0,
          0,
          0,
          0,
          0,
          0,
          0,
          0,
          0,
          0.00022153300841825432,
          0.00022153300841825432,
          0.00044306601683650863,
          0.00044306601683650863,
          0.001329198050509526,
          0.001329198050509526,
          0.001993797075764289,
          0.001993797075764289,
          0.002215330084182543,
          0.002215330084182543,
          0.0024368630926007973,
          0.0024368630926007973,
          0.009968985378821444,
          0.009968985378821444,
          0.0101905183872397,
          0.0101905183872397,
          0.010412051395657953,
          0.010412051395657953,
          0.01329198050509526,
          0.01329198050509526,
          0.019273371732388127,
          0.019273371732388127,
          0.023925564909171467,
          0.023925564909171467,
          1
         ],
         "y": [
          0,
          0.04938271604938271,
          0.09259259259259259,
          0.12962962962962962,
          0.1440329218106996,
          0.15432098765432098,
          0.16872427983539096,
          0.17901234567901234,
          0.18724279835390947,
          0.19547325102880658,
          0.20164609053497942,
          0.20987654320987653,
          0.21810699588477367,
          0.22016460905349794,
          0.2242798353909465,
          0.23251028806584362,
          0.23868312757201646,
          0.24691358024691357,
          0.24897119341563786,
          0.2736625514403292,
          0.28189300411522633,
          0.2880658436213992,
          0.29012345679012347,
          0.294238683127572,
          0.2962962962962963,
          0.3004115226337449,
          0.30864197530864196,
          0.3148148148148148,
          0.31893004115226337,
          0.3271604938271605,
          0.33127572016460904,
          0.3333333333333333,
          0.3395061728395062,
          0.345679012345679,
          0.3497942386831276,
          0.35390946502057613,
          0.35802469135802467,
          0.36213991769547327,
          0.37448559670781895,
          0.3765432098765432,
          0.38477366255144035,
          0.3991769547325103,
          0.40329218106995884,
          0.4567901234567901,
          0.46502057613168724,
          0.4794238683127572,
          0.4835390946502058,
          0.5946502057613169,
          0.5987654320987654,
          0.7407407407407407,
          0.7448559670781894,
          0.8909465020576132,
          0.8909465020576132,
          0.9320987654320988,
          0.9320987654320988,
          0.9794238683127572,
          0.9794238683127572,
          0.9814814814814815,
          0.9814814814814815,
          0.9835390946502057,
          0.9835390946502057,
          0.98559670781893,
          0.98559670781893,
          0.9876543209876543,
          0.9876543209876543,
          0.9897119341563786,
          0.9897119341563786,
          0.9917695473251029,
          0.9917695473251029,
          0.9938271604938271,
          0.9938271604938271,
          0.9958847736625515,
          0.9958847736625515,
          0.9979423868312757,
          0.9979423868312757,
          1,
          1
         ]
        },
        {
         "mode": "lines",
         "name": "Class 9 (AUC = 1.00)",
         "type": "scatter",
         "x": [
          0,
          0,
          0,
          0,
          0,
          0,
          0,
          0,
          0,
          0,
          0,
          0,
          0,
          0,
          0,
          0,
          0,
          0,
          0,
          0,
          0,
          0,
          0,
          0,
          0,
          0,
          0,
          0,
          0,
          0,
          0,
          0,
          0,
          0,
          0,
          0,
          0,
          0,
          0,
          0,
          0,
          0,
          0,
          0,
          0,
          0,
          0,
          0,
          0,
          0,
          0,
          0,
          0,
          0,
          0,
          0,
          0,
          0,
          0,
          0,
          0,
          0,
          0,
          0,
          0,
          0,
          0,
          0,
          0,
          0,
          0,
          0,
          0,
          0,
          0,
          0.00022326412145568208,
          0.00022326412145568208,
          0.00044652824291136416,
          0.00044652824291136416,
          0.0006697923643670462,
          0.0006697923643670462,
          0.0013395847287340924,
          0.0013395847287340924,
          0.0015628488501897744,
          0.0015628488501897744,
          0.0020093770931011385,
          0.0020093770931011385,
          0.003348961821835231,
          0.003348961821835231,
          0.004242018307657959,
          0.004242018307657959,
          0.004688546550569324,
          0.004688546550569324,
          0.005581603036392052,
          0.005581603036392052,
          0.005804867157847734,
          0.005804867157847734,
          0.00759098012949319,
          0.00759098012949319,
          0.008260772493860237,
          0.008260772493860237,
          0.008707300736771601,
          0.008707300736771601,
          0.009377093101138647,
          0.009377093101138647,
          0.009823621344050012,
          0.009823621344050012,
          0.012502790801518195,
          0.012502790801518195,
          0.013395847287340924,
          0.013395847287340924,
          0.013842375530252289,
          0.013842375530252289,
          1
         ],
         "y": [
          0,
          0.005758157389635317,
          0.015355086372360844,
          0.030710172744721688,
          0.0345489443378119,
          0.053742802303262956,
          0.061420345489443376,
          0.0710172744721689,
          0.07869481765834933,
          0.09404990403071017,
          0.09788867562380038,
          0.11324376199616124,
          0.11900191938579655,
          0.12092130518234165,
          0.12476007677543186,
          0.12667946257197696,
          0.1420345489443378,
          0.15355086372360843,
          0.15738963531669867,
          0.16506717850287908,
          0.1689059500959693,
          0.18042226487523993,
          0.18426103646833014,
          0.18618042226487524,
          0.19001919385796545,
          0.19385796545105566,
          0.19769673704414586,
          0.2053742802303263,
          0.2092130518234165,
          0.21113243761996162,
          0.21880998080614203,
          0.22264875239923224,
          0.22648752399232247,
          0.2456813819577735,
          0.2514395393474088,
          0.2591170825335892,
          0.2667946257197697,
          0.2783109404990403,
          0.2840690978886756,
          0.28598848368522073,
          0.29174664107485604,
          0.29366602687140114,
          0.29750479846449135,
          0.30326295585412666,
          0.30710172744721687,
          0.30902111324376197,
          0.31477927063339733,
          0.31861804222648754,
          0.3397312859884837,
          0.3435700575815739,
          0.3474088291746641,
          0.3512476007677543,
          0.3666026871401152,
          0.3704414587332054,
          0.3857965451055662,
          0.3896353166986564,
          0.40115163147792704,
          0.4049904030710173,
          0.4165067178502879,
          0.42034548944337813,
          0.43378119001919385,
          0.43761996161228406,
          0.4760076775431862,
          0.4836852207293666,
          0.4990403071017274,
          0.5028790786948176,
          0.5124760076775432,
          0.5163147792706334,
          0.5335892514395394,
          0.5374280230326296,
          0.5470249520153551,
          0.5508637236084453,
          0.6199616122840691,
          0.6276391554702495,
          0.8656429942418427,
          0.8656429942418427,
          0.8790786948176583,
          0.8790786948176583,
          0.8905950095969289,
          0.8905950095969289,
          0.9577735124760077,
          0.9577735124760077,
          0.9596928982725528,
          0.9596928982725528,
          0.9673704414587332,
          0.9673704414587332,
          0.9712092130518234,
          0.9712092130518234,
          0.9750479846449136,
          0.9750479846449136,
          0.9788867562380038,
          0.9788867562380038,
          0.980806142034549,
          0.980806142034549,
          0.982725527831094,
          0.982725527831094,
          0.9846449136276392,
          0.9846449136276392,
          0.9865642994241842,
          0.9865642994241842,
          0.9884836852207294,
          0.9884836852207294,
          0.9904030710172744,
          0.9904030710172744,
          0.9923224568138196,
          0.9923224568138196,
          0.9942418426103646,
          0.9942418426103646,
          0.9961612284069098,
          0.9961612284069098,
          0.9980806142034548,
          0.9980806142034548,
          1,
          1
         ]
        },
        {
         "line": {
          "dash": "dash"
         },
         "mode": "lines",
         "name": "Random classifier (AUC = 0.50)",
         "type": "scatter",
         "x": [
          0,
          1
         ],
         "y": [
          0,
          1
         ]
        }
       ],
       "layout": {
        "showlegend": true,
        "template": {
         "data": {
          "bar": [
           {
            "error_x": {
             "color": "#2a3f5f"
            },
            "error_y": {
             "color": "#2a3f5f"
            },
            "marker": {
             "line": {
              "color": "#E5ECF6",
              "width": 0.5
             },
             "pattern": {
              "fillmode": "overlay",
              "size": 10,
              "solidity": 0.2
             }
            },
            "type": "bar"
           }
          ],
          "barpolar": [
           {
            "marker": {
             "line": {
              "color": "#E5ECF6",
              "width": 0.5
             },
             "pattern": {
              "fillmode": "overlay",
              "size": 10,
              "solidity": 0.2
             }
            },
            "type": "barpolar"
           }
          ],
          "carpet": [
           {
            "aaxis": {
             "endlinecolor": "#2a3f5f",
             "gridcolor": "white",
             "linecolor": "white",
             "minorgridcolor": "white",
             "startlinecolor": "#2a3f5f"
            },
            "baxis": {
             "endlinecolor": "#2a3f5f",
             "gridcolor": "white",
             "linecolor": "white",
             "minorgridcolor": "white",
             "startlinecolor": "#2a3f5f"
            },
            "type": "carpet"
           }
          ],
          "choropleth": [
           {
            "colorbar": {
             "outlinewidth": 0,
             "ticks": ""
            },
            "type": "choropleth"
           }
          ],
          "contour": [
           {
            "colorbar": {
             "outlinewidth": 0,
             "ticks": ""
            },
            "colorscale": [
             [
              0,
              "#0d0887"
             ],
             [
              0.1111111111111111,
              "#46039f"
             ],
             [
              0.2222222222222222,
              "#7201a8"
             ],
             [
              0.3333333333333333,
              "#9c179e"
             ],
             [
              0.4444444444444444,
              "#bd3786"
             ],
             [
              0.5555555555555556,
              "#d8576b"
             ],
             [
              0.6666666666666666,
              "#ed7953"
             ],
             [
              0.7777777777777778,
              "#fb9f3a"
             ],
             [
              0.8888888888888888,
              "#fdca26"
             ],
             [
              1,
              "#f0f921"
             ]
            ],
            "type": "contour"
           }
          ],
          "contourcarpet": [
           {
            "colorbar": {
             "outlinewidth": 0,
             "ticks": ""
            },
            "type": "contourcarpet"
           }
          ],
          "heatmap": [
           {
            "colorbar": {
             "outlinewidth": 0,
             "ticks": ""
            },
            "colorscale": [
             [
              0,
              "#0d0887"
             ],
             [
              0.1111111111111111,
              "#46039f"
             ],
             [
              0.2222222222222222,
              "#7201a8"
             ],
             [
              0.3333333333333333,
              "#9c179e"
             ],
             [
              0.4444444444444444,
              "#bd3786"
             ],
             [
              0.5555555555555556,
              "#d8576b"
             ],
             [
              0.6666666666666666,
              "#ed7953"
             ],
             [
              0.7777777777777778,
              "#fb9f3a"
             ],
             [
              0.8888888888888888,
              "#fdca26"
             ],
             [
              1,
              "#f0f921"
             ]
            ],
            "type": "heatmap"
           }
          ],
          "heatmapgl": [
           {
            "colorbar": {
             "outlinewidth": 0,
             "ticks": ""
            },
            "colorscale": [
             [
              0,
              "#0d0887"
             ],
             [
              0.1111111111111111,
              "#46039f"
             ],
             [
              0.2222222222222222,
              "#7201a8"
             ],
             [
              0.3333333333333333,
              "#9c179e"
             ],
             [
              0.4444444444444444,
              "#bd3786"
             ],
             [
              0.5555555555555556,
              "#d8576b"
             ],
             [
              0.6666666666666666,
              "#ed7953"
             ],
             [
              0.7777777777777778,
              "#fb9f3a"
             ],
             [
              0.8888888888888888,
              "#fdca26"
             ],
             [
              1,
              "#f0f921"
             ]
            ],
            "type": "heatmapgl"
           }
          ],
          "histogram": [
           {
            "marker": {
             "pattern": {
              "fillmode": "overlay",
              "size": 10,
              "solidity": 0.2
             }
            },
            "type": "histogram"
           }
          ],
          "histogram2d": [
           {
            "colorbar": {
             "outlinewidth": 0,
             "ticks": ""
            },
            "colorscale": [
             [
              0,
              "#0d0887"
             ],
             [
              0.1111111111111111,
              "#46039f"
             ],
             [
              0.2222222222222222,
              "#7201a8"
             ],
             [
              0.3333333333333333,
              "#9c179e"
             ],
             [
              0.4444444444444444,
              "#bd3786"
             ],
             [
              0.5555555555555556,
              "#d8576b"
             ],
             [
              0.6666666666666666,
              "#ed7953"
             ],
             [
              0.7777777777777778,
              "#fb9f3a"
             ],
             [
              0.8888888888888888,
              "#fdca26"
             ],
             [
              1,
              "#f0f921"
             ]
            ],
            "type": "histogram2d"
           }
          ],
          "histogram2dcontour": [
           {
            "colorbar": {
             "outlinewidth": 0,
             "ticks": ""
            },
            "colorscale": [
             [
              0,
              "#0d0887"
             ],
             [
              0.1111111111111111,
              "#46039f"
             ],
             [
              0.2222222222222222,
              "#7201a8"
             ],
             [
              0.3333333333333333,
              "#9c179e"
             ],
             [
              0.4444444444444444,
              "#bd3786"
             ],
             [
              0.5555555555555556,
              "#d8576b"
             ],
             [
              0.6666666666666666,
              "#ed7953"
             ],
             [
              0.7777777777777778,
              "#fb9f3a"
             ],
             [
              0.8888888888888888,
              "#fdca26"
             ],
             [
              1,
              "#f0f921"
             ]
            ],
            "type": "histogram2dcontour"
           }
          ],
          "mesh3d": [
           {
            "colorbar": {
             "outlinewidth": 0,
             "ticks": ""
            },
            "type": "mesh3d"
           }
          ],
          "parcoords": [
           {
            "line": {
             "colorbar": {
              "outlinewidth": 0,
              "ticks": ""
             }
            },
            "type": "parcoords"
           }
          ],
          "pie": [
           {
            "automargin": true,
            "type": "pie"
           }
          ],
          "scatter": [
           {
            "fillpattern": {
             "fillmode": "overlay",
             "size": 10,
             "solidity": 0.2
            },
            "type": "scatter"
           }
          ],
          "scatter3d": [
           {
            "line": {
             "colorbar": {
              "outlinewidth": 0,
              "ticks": ""
             }
            },
            "marker": {
             "colorbar": {
              "outlinewidth": 0,
              "ticks": ""
             }
            },
            "type": "scatter3d"
           }
          ],
          "scattercarpet": [
           {
            "marker": {
             "colorbar": {
              "outlinewidth": 0,
              "ticks": ""
             }
            },
            "type": "scattercarpet"
           }
          ],
          "scattergeo": [
           {
            "marker": {
             "colorbar": {
              "outlinewidth": 0,
              "ticks": ""
             }
            },
            "type": "scattergeo"
           }
          ],
          "scattergl": [
           {
            "marker": {
             "colorbar": {
              "outlinewidth": 0,
              "ticks": ""
             }
            },
            "type": "scattergl"
           }
          ],
          "scattermapbox": [
           {
            "marker": {
             "colorbar": {
              "outlinewidth": 0,
              "ticks": ""
             }
            },
            "type": "scattermapbox"
           }
          ],
          "scatterpolar": [
           {
            "marker": {
             "colorbar": {
              "outlinewidth": 0,
              "ticks": ""
             }
            },
            "type": "scatterpolar"
           }
          ],
          "scatterpolargl": [
           {
            "marker": {
             "colorbar": {
              "outlinewidth": 0,
              "ticks": ""
             }
            },
            "type": "scatterpolargl"
           }
          ],
          "scatterternary": [
           {
            "marker": {
             "colorbar": {
              "outlinewidth": 0,
              "ticks": ""
             }
            },
            "type": "scatterternary"
           }
          ],
          "surface": [
           {
            "colorbar": {
             "outlinewidth": 0,
             "ticks": ""
            },
            "colorscale": [
             [
              0,
              "#0d0887"
             ],
             [
              0.1111111111111111,
              "#46039f"
             ],
             [
              0.2222222222222222,
              "#7201a8"
             ],
             [
              0.3333333333333333,
              "#9c179e"
             ],
             [
              0.4444444444444444,
              "#bd3786"
             ],
             [
              0.5555555555555556,
              "#d8576b"
             ],
             [
              0.6666666666666666,
              "#ed7953"
             ],
             [
              0.7777777777777778,
              "#fb9f3a"
             ],
             [
              0.8888888888888888,
              "#fdca26"
             ],
             [
              1,
              "#f0f921"
             ]
            ],
            "type": "surface"
           }
          ],
          "table": [
           {
            "cells": {
             "fill": {
              "color": "#EBF0F8"
             },
             "line": {
              "color": "white"
             }
            },
            "header": {
             "fill": {
              "color": "#C8D4E3"
             },
             "line": {
              "color": "white"
             }
            },
            "type": "table"
           }
          ]
         },
         "layout": {
          "annotationdefaults": {
           "arrowcolor": "#2a3f5f",
           "arrowhead": 0,
           "arrowwidth": 1
          },
          "autotypenumbers": "strict",
          "coloraxis": {
           "colorbar": {
            "outlinewidth": 0,
            "ticks": ""
           }
          },
          "colorscale": {
           "diverging": [
            [
             0,
             "#8e0152"
            ],
            [
             0.1,
             "#c51b7d"
            ],
            [
             0.2,
             "#de77ae"
            ],
            [
             0.3,
             "#f1b6da"
            ],
            [
             0.4,
             "#fde0ef"
            ],
            [
             0.5,
             "#f7f7f7"
            ],
            [
             0.6,
             "#e6f5d0"
            ],
            [
             0.7,
             "#b8e186"
            ],
            [
             0.8,
             "#7fbc41"
            ],
            [
             0.9,
             "#4d9221"
            ],
            [
             1,
             "#276419"
            ]
           ],
           "sequential": [
            [
             0,
             "#0d0887"
            ],
            [
             0.1111111111111111,
             "#46039f"
            ],
            [
             0.2222222222222222,
             "#7201a8"
            ],
            [
             0.3333333333333333,
             "#9c179e"
            ],
            [
             0.4444444444444444,
             "#bd3786"
            ],
            [
             0.5555555555555556,
             "#d8576b"
            ],
            [
             0.6666666666666666,
             "#ed7953"
            ],
            [
             0.7777777777777778,
             "#fb9f3a"
            ],
            [
             0.8888888888888888,
             "#fdca26"
            ],
            [
             1,
             "#f0f921"
            ]
           ],
           "sequentialminus": [
            [
             0,
             "#0d0887"
            ],
            [
             0.1111111111111111,
             "#46039f"
            ],
            [
             0.2222222222222222,
             "#7201a8"
            ],
            [
             0.3333333333333333,
             "#9c179e"
            ],
            [
             0.4444444444444444,
             "#bd3786"
            ],
            [
             0.5555555555555556,
             "#d8576b"
            ],
            [
             0.6666666666666666,
             "#ed7953"
            ],
            [
             0.7777777777777778,
             "#fb9f3a"
            ],
            [
             0.8888888888888888,
             "#fdca26"
            ],
            [
             1,
             "#f0f921"
            ]
           ]
          },
          "colorway": [
           "#636efa",
           "#EF553B",
           "#00cc96",
           "#ab63fa",
           "#FFA15A",
           "#19d3f3",
           "#FF6692",
           "#B6E880",
           "#FF97FF",
           "#FECB52"
          ],
          "font": {
           "color": "#2a3f5f"
          },
          "geo": {
           "bgcolor": "white",
           "lakecolor": "white",
           "landcolor": "#E5ECF6",
           "showlakes": true,
           "showland": true,
           "subunitcolor": "white"
          },
          "hoverlabel": {
           "align": "left"
          },
          "hovermode": "closest",
          "mapbox": {
           "style": "light"
          },
          "paper_bgcolor": "white",
          "plot_bgcolor": "#E5ECF6",
          "polar": {
           "angularaxis": {
            "gridcolor": "white",
            "linecolor": "white",
            "ticks": ""
           },
           "bgcolor": "#E5ECF6",
           "radialaxis": {
            "gridcolor": "white",
            "linecolor": "white",
            "ticks": ""
           }
          },
          "scene": {
           "xaxis": {
            "backgroundcolor": "#E5ECF6",
            "gridcolor": "white",
            "gridwidth": 2,
            "linecolor": "white",
            "showbackground": true,
            "ticks": "",
            "zerolinecolor": "white"
           },
           "yaxis": {
            "backgroundcolor": "#E5ECF6",
            "gridcolor": "white",
            "gridwidth": 2,
            "linecolor": "white",
            "showbackground": true,
            "ticks": "",
            "zerolinecolor": "white"
           },
           "zaxis": {
            "backgroundcolor": "#E5ECF6",
            "gridcolor": "white",
            "gridwidth": 2,
            "linecolor": "white",
            "showbackground": true,
            "ticks": "",
            "zerolinecolor": "white"
           }
          },
          "shapedefaults": {
           "line": {
            "color": "#2a3f5f"
           }
          },
          "ternary": {
           "aaxis": {
            "gridcolor": "white",
            "linecolor": "white",
            "ticks": ""
           },
           "baxis": {
            "gridcolor": "white",
            "linecolor": "white",
            "ticks": ""
           },
           "bgcolor": "#E5ECF6",
           "caxis": {
            "gridcolor": "white",
            "linecolor": "white",
            "ticks": ""
           }
          },
          "title": {
           "x": 0.05
          },
          "xaxis": {
           "automargin": true,
           "gridcolor": "white",
           "linecolor": "white",
           "ticks": "",
           "title": {
            "standoff": 15
           },
           "zerolinecolor": "white",
           "zerolinewidth": 2
          },
          "yaxis": {
           "automargin": true,
           "gridcolor": "white",
           "linecolor": "white",
           "ticks": "",
           "title": {
            "standoff": 15
           },
           "zerolinecolor": "white",
           "zerolinewidth": 2
          }
         }
        },
        "title": {
         "text": "ROC Curve for Multi-Class Classification"
        },
        "xaxis": {
         "title": {
          "text": "False Positive Rate"
         }
        },
        "yaxis": {
         "title": {
          "text": "True Positive Rate"
         }
        }
       }
      }
     },
     "metadata": {},
     "output_type": "display_data"
    }
   ],
   "source": [
    "import plotly.graph_objects as go\n",
    "\n",
    "# Create an empty list to store the ROC curve traces\n",
    "roc_traces = []\n",
    "\n",
    "for i in range(n_classes):\n",
    "    fpr, tpr, _ = roc_curve(all_labels_bin[:, i], all_outputs[:, i])\n",
    "    roc_auc = auc(fpr, tpr)\n",
    "    \n",
    "    # Create a plotly trace for each class\n",
    "    trace = go.Scatter(\n",
    "        x=fpr, y=tpr, mode='lines', name=f'Class {i} (AUC = {roc_auc:.2f})'\n",
    "    )\n",
    "    roc_traces.append(trace)\n",
    "\n",
    "# Plotting the diagonal line (random classifier line)\n",
    "random_line = go.Scatter(\n",
    "    x=[0, 1], y=[0, 1], mode='lines', line=dict(dash='dash'), name='Random classifier (AUC = 0.50)'\n",
    ")\n",
    "\n",
    "# Combine the traces\n",
    "roc_traces.append(random_line)\n",
    "\n",
    "# Create layout\n",
    "layout = go.Layout(\n",
    "    title=\"ROC Curve for Multi-Class Classification\",\n",
    "    xaxis=dict(title=\"False Positive Rate\"),\n",
    "    yaxis=dict(title=\"True Positive Rate\"),\n",
    "    showlegend=True\n",
    ")\n",
    "\n",
    "# Create the figure with all traces and layout\n",
    "fig = go.Figure(data=roc_traces, layout=layout)\n",
    "\n",
    "# Show the plot\n",
    "fig.show()"
   ]
  },
  {
   "cell_type": "code",
   "execution_count": 26,
   "metadata": {},
   "outputs": [
    {
     "name": "stdout",
     "output_type": "stream",
     "text": [
      "Log-Loss: 0.0357\n"
     ]
    }
   ],
   "source": [
    "import torch.nn.functional as F\n",
    "\n",
    "log_loss = 0.0\n",
    "model.eval()\n",
    "\n",
    "with torch.no_grad():\n",
    "    for images, labels in test_loader:\n",
    "        images, labels = images.to(device), labels.to(device)\n",
    "        outputs = model(images)\n",
    "        loss = F.cross_entropy(outputs, labels)\n",
    "        log_loss += loss.item()\n",
    "\n",
    "log_loss /= len(test_loader)\n",
    "print(f\"Log-Loss: {log_loss:.4f}\")\n"
   ]
  },
  {
   "cell_type": "code",
   "execution_count": 27,
   "metadata": {},
   "outputs": [
    {
     "name": "stdout",
     "output_type": "stream",
     "text": [
      "Top-5 Accuracy: 1.00\n"
     ]
    }
   ],
   "source": [
    "def top_k_accuracy(outputs, labels, k=5):\n",
    "    _, top_k_preds = torch.topk(outputs, k, dim=1)\n",
    "    correct = top_k_preds.eq(labels.view(-1, 1).expand_as(top_k_preds))\n",
    "    return correct.sum().item() / labels.size(0)\n",
    "\n",
    "top_k_acc = 0\n",
    "model.eval()\n",
    "\n",
    "with torch.no_grad():\n",
    "    for images, labels in test_loader:\n",
    "        images, labels = images.to(device), labels.to(device)\n",
    "        outputs = model(images)\n",
    "        top_k_acc += top_k_accuracy(outputs, labels, k=5)\n",
    "\n",
    "top_k_acc /= len(test_loader)\n",
    "print(f\"Top-5 Accuracy: {top_k_acc:.2f}\")\n"
   ]
  },
  {
   "cell_type": "code",
   "execution_count": null,
   "metadata": {},
   "outputs": [],
   "source": []
  }
 ],
 "metadata": {
  "kernelspec": {
   "display_name": "3.10.4",
   "language": "python",
   "name": "python3"
  },
  "language_info": {
   "codemirror_mode": {
    "name": "ipython",
    "version": 3
   },
   "file_extension": ".py",
   "mimetype": "text/x-python",
   "name": "python",
   "nbconvert_exporter": "python",
   "pygments_lexer": "ipython3",
   "version": "3.10.4"
  }
 },
 "nbformat": 4,
 "nbformat_minor": 2
}
