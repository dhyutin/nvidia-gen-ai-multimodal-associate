{
 "cells": [
  {
   "cell_type": "code",
   "execution_count": 1,
   "metadata": {},
   "outputs": [],
   "source": [
    "import torch\n",
    "import torchvision\n",
    "import torchvision.datasets\n",
    "import torchvision.transforms\n",
    "from torch.utils.data import random_split, DataLoader\n",
    "\n",
    "\n",
    "import torch.nn as nn\n",
    "import torch.optim as optim\n",
    "import torch.nn.functional as F"
   ]
  },
  {
   "cell_type": "code",
   "execution_count": 2,
   "metadata": {},
   "outputs": [],
   "source": [
    "\n",
    "# Transform definition to convert images to tensors in pytorch\n",
    "# The series of transformations is given as an order of steps in a list\n",
    "\n",
    "transform = torchvision.transforms.Compose(\n",
    "    [torchvision.transforms.ToTensor(),\n",
    "    torchvision.transforms.Normalize((0.5, ), (0.5, ))\n",
    "    ]\n",
    ")"
   ]
  },
  {
   "cell_type": "code",
   "execution_count": 3,
   "metadata": {},
   "outputs": [],
   "source": [
    "# Download the dataset\n",
    "mnist_data_train = torchvision.datasets.MNIST(root=\"./mnist\", train = True, transform = transform, download = True)\n",
    "\n",
    "# Load the dataset\n",
    "batch_size = 64\n",
    "train_loader = torch.utils.data.DataLoader(dataset = mnist_data_train, batch_size = batch_size, shuffle = True)"
   ]
  },
  {
   "cell_type": "code",
   "execution_count": 4,
   "metadata": {},
   "outputs": [
    {
     "name": "stdout",
     "output_type": "stream",
     "text": [
      "Displaying the first image in the training set...\n"
     ]
    },
    {
     "data": {
      "image/png": "[encoded data removed]",
      "text/plain": [
       "<Figure size 640x480 with 1 Axes>"
      ]
     },
     "metadata": {},
     "output_type": "display_data"
    }
   ],
   "source": [
    "import matplotlib.pyplot as plt\n",
    "\n",
    "def show_image(image, label):\n",
    "    # Remove the channel dimension (1, 28, 28) -> (28, 28)\n",
    "    image = image.squeeze()  \n",
    "    plt.imshow(image, cmap='gray')\n",
    "    \n",
    "    plt.title(f\"Label: {label}\")\n",
    "     # Turn off axis labels for better visualization\n",
    "    plt.axis('off') \n",
    "    plt.show()\n",
    "\n",
    "# Example: Display the first image from the train_loader\n",
    "for images, labels in train_loader:\n",
    "    print(\"Displaying the first image in the training set...\")\n",
    "    show_image(images[0], labels[0].item())\n",
    "    break\n"
   ]
  },
  {
   "cell_type": "code",
   "execution_count": 5,
   "metadata": {},
   "outputs": [
    {
     "name": "stdout",
     "output_type": "stream",
     "text": [
      "Validation set size: 5000\n",
      "Test set size: 5000\n"
     ]
    }
   ],
   "source": [
    "# Download the test dataset\n",
    "test_dataset = torchvision.datasets.MNIST(root='./mnist', train=False, transform=transform, download=True)\n",
    "\n",
    "# Split the test dataset into validation and test sets; split 50-50\n",
    "valid_size = len(test_dataset) // 2 \n",
    "test_size = len(test_dataset) - valid_size\n",
    "valid_dataset, test_dataset = random_split(test_dataset, [valid_size, test_size])\n",
    "\n",
    "# Create DataLoaders for validation and test sets\n",
    "valid_loader = DataLoader(dataset=valid_dataset, batch_size=64, shuffle=False)\n",
    "test_loader = DataLoader(dataset=test_dataset, batch_size=64, shuffle=False)\n",
    "\n",
    "# Example: Inspect the number of samples in each split\n",
    "print(f\"Validation set size: {len(valid_dataset)}\")\n",
    "print(f\"Test set size: {len(test_dataset)}\")\n"
   ]
  },
  {
   "cell_type": "markdown",
   "metadata": {},
   "source": [
    "## Model Building"
   ]
  },
  {
   "cell_type": "code",
   "execution_count": 6,
   "metadata": {},
   "outputs": [],
   "source": [
    "class CNN(nn.Module):\n",
    "    def __init__(self):\n",
    "        super(CNN, self).__init__()\n",
    "        self.conv1 = nn.Conv2d(1, 10, kernel_size = 5)\n",
    "        self.conv2 = nn.Conv2d(10, 20, kernel_size = 5)\n",
    "        self.conv2_dropout = nn.Dropout2d()\n",
    "        self.fc1 = nn.Linear(320, 50)\n",
    "        self.fc2 = nn.Linear(50, 10)\n",
    "        \n",
    "    def forward(self, x):\n",
    "        x = F.relu(F.max_pool2d(self.conv1(x), 2))\n",
    "        x = F.relu(F.max_pool2d(self.conv2_dropout(self.conv2(x)), 2))\n",
    "        x = x.view(-1, 320)\n",
    "        x = F.relu(self.fc1(x))\n",
    "        x = F.dropout(x, training=self.training)\n",
    "        x = self.fc2(x)\n",
    "        x = F.log_softmax(x, dim = 1)\n",
    "        return x\n",
    "        "
   ]
  },
  {
   "cell_type": "code",
   "execution_count": 7,
   "metadata": {},
   "outputs": [],
   "source": [
    "device = torch.device('cuda' if torch.cuda.is_available() else 'cpu')\n",
    "\n",
    "model = CNN().to(device)\n",
    "\n",
    "# Set the loss and optimizer\n",
    "criterion = nn.CrossEntropyLoss()\n",
    "\n",
    "optimizer = optim.Adam(model.parameters(), lr = 0.001)"
   ]
  },
  {
   "cell_type": "code",
   "execution_count": 8,
   "metadata": {},
   "outputs": [
    {
     "name": "stdout",
     "output_type": "stream",
     "text": [
      "----------------------------------------------------------------\n",
      "        Layer (type)               Output Shape         Param #\n",
      "================================================================\n",
      "            Conv2d-1           [-1, 10, 24, 24]             260\n",
      "            Conv2d-2             [-1, 20, 8, 8]           5,020\n",
      "         Dropout2d-3             [-1, 20, 8, 8]               0\n",
      "            Linear-4                   [-1, 50]          16,050\n",
      "            Linear-5                   [-1, 10]             510\n",
      "================================================================\n",
      "Total params: 21,840\n",
      "Trainable params: 21,840\n",
      "Non-trainable params: 0\n",
      "----------------------------------------------------------------\n",
      "Input size (MB): 0.00\n",
      "Forward/backward pass size (MB): 0.06\n",
      "Params size (MB): 0.08\n",
      "Estimated Total Size (MB): 0.15\n",
      "----------------------------------------------------------------\n"
     ]
    }
   ],
   "source": [
    "from torchsummary import summary\n",
    "summary(model, (1, 28, 28))  "
   ]
  },
  {
   "cell_type": "code",
   "execution_count": 9,
   "metadata": {},
   "outputs": [
    {
     "name": "stdout",
     "output_type": "stream",
     "text": [
      "Epoch: 1/10   Train Loss: 0.5180\n",
      "\n",
      "Epoch: 2/10   Train Loss: 0.2440\n",
      "\n",
      "Epoch: 3/10   Train Loss: 0.2026\n",
      "\n",
      "Epoch: 4/10   Train Loss: 0.1832\n",
      "\n",
      "Epoch: 5/10   Train Loss: 0.1681\n",
      "\n",
      "Epoch: 6/10   Train Loss: 0.1584\n",
      "\n",
      "Epoch: 7/10   Train Loss: 0.1528\n",
      "\n",
      "Epoch: 8/10   Train Loss: 0.1448\n",
      "\n",
      "Epoch: 9/10   Train Loss: 0.1362\n",
      "\n",
      "Epoch: 10/10   Train Loss: 0.1340\n",
      "\n"
     ]
    }
   ],
   "source": [
    "# Training\n",
    "\n",
    "num_epochs = 10\n",
    "\n",
    "for epoch in range(num_epochs):\n",
    "    model.train()\n",
    "    running_loss = 0.0\n",
    "    \n",
    "    for image_batch, label_batch in train_loader:\n",
    "        image_batch, label_batch = image_batch.to(device), label_batch.to(device)\n",
    "        \n",
    "        outputs = model(image_batch)\n",
    "        \n",
    "        loss = criterion(outputs, label_batch)\n",
    "        \n",
    "        \n",
    "        # Backward pass and optimization\n",
    "        optimizer.zero_grad()\n",
    "        loss.backward()\n",
    "        optimizer.step()\n",
    "        \n",
    "        \n",
    "        running_loss += loss.item()\n",
    "        \n",
    "    print(f\"Epoch: {epoch+1}/{num_epochs}   Train Loss: {running_loss/len(train_loader):.4f}\\n\")\n",
    "        "
   ]
  },
  {
   "cell_type": "code",
   "execution_count": 10,
   "metadata": {},
   "outputs": [
    {
     "name": "stdout",
     "output_type": "stream",
     "text": [
      "Valid Accuracy: 98.66%\n"
     ]
    }
   ],
   "source": [
    "model.eval()\n",
    "correct = 0\n",
    "total = 0\n",
    "all_labels = []\n",
    "all_preds = []\n",
    "\n",
    "with torch.no_grad():\n",
    "    for images, labels in valid_loader:\n",
    "        images, labels = images.to(device), labels.to(device)\n",
    "        for label in labels:\n",
    "            all_labels.append(label)\n",
    "        outputs = model(images)\n",
    "        _, predicted = torch.max(outputs.data, 1)\n",
    "        for predict in predicted:\n",
    "            all_preds.append(predict)\n",
    "        total += labels.size(0)\n",
    "        correct += (predicted == labels).sum().item() \n",
    "print(f\"Valid Accuracy: {100 * correct / total:.2f}%\")"
   ]
  },
  {
   "cell_type": "markdown",
   "metadata": {},
   "source": [
    "## Data Augmentation"
   ]
  },
  {
   "cell_type": "code",
   "execution_count": 11,
   "metadata": {},
   "outputs": [],
   "source": [
    "# Define data augmentation transforms\n",
    "augmented_transforms = torchvision.transforms.Compose([\n",
    "    torchvision.transforms.RandomRotation(15),          # Rotate images by up to 15 degrees\n",
    "     torchvision.transforms.RandomAffine(0, translate=(0.1, 0.1)),  # Translate up to 10%\n",
    "     torchvision.transforms.RandomHorizontalFlip(p=0.5), # Random horizontal flip\n",
    "     torchvision.transforms.ToTensor(),                  # Convert to tensor\n",
    "     torchvision.transforms.Normalize((0.5,), (0.5,))    # Normalize to range [-1, 1]\n",
    "])"
   ]
  },
  {
   "cell_type": "code",
   "execution_count": 12,
   "metadata": {},
   "outputs": [],
   "source": [
    "# Download the dataset\n",
    "mnist_augmented_train = torchvision.datasets.MNIST(root=\"./mnist\", train = True, transform = augmented_transforms, download = True)"
   ]
  },
  {
   "cell_type": "code",
   "execution_count": 13,
   "metadata": {},
   "outputs": [],
   "source": [
    "from torchvision import datasets, transforms\n",
    "from torch.utils.data import DataLoader, Subset, ConcatDataset\n",
    "import random\n",
    "\n",
    "# Select a subset of the augmented dataset\n",
    "num_augmented_samples = 50000  # Number of augmented samples to add\n",
    "all_indices = list(range(len(mnist_augmented_train)))\n",
    "selected_indices = random.sample(all_indices, num_augmented_samples)\n",
    "augmented_subset = Subset(mnist_augmented_train, selected_indices)\n",
    "\n",
    "# Combine original and selected augmented datasets\n",
    "combined_train_dataset = ConcatDataset([mnist_data_train, augmented_subset])\n",
    "\n",
    "train_loader = DataLoader(combined_train_dataset, batch_size=64, shuffle=True)\n"
   ]
  },
  {
   "cell_type": "code",
   "execution_count": 14,
   "metadata": {},
   "outputs": [],
   "source": [
    "class CNN(nn.Module):\n",
    "    def __init__(self):\n",
    "        super(CNN, self).__init__()\n",
    "        self.conv1 = nn.Conv2d(1, 10, kernel_size = 5)\n",
    "        self.conv2 = nn.Conv2d(10, 20, kernel_size = 5)\n",
    "        self.conv2_dropout = nn.Dropout2d()\n",
    "        self.fc1 = nn.Linear(320, 50)\n",
    "        self.fc2 = nn.Linear(50, 10)\n",
    "        \n",
    "    def forward(self, x):\n",
    "        x = F.relu(F.max_pool2d(self.conv1(x), 2))\n",
    "        x = F.relu(F.max_pool2d(self.conv2_dropout(self.conv2(x)), 2))\n",
    "        x = x.view(-1, 320)\n",
    "        x = F.relu(self.fc1(x))\n",
    "        x = F.dropout(x, training=self.training)\n",
    "        x = self.fc2(x)\n",
    "        x = F.log_softmax(x, dim = 1)\n",
    "        return x\n",
    "        "
   ]
  },
  {
   "cell_type": "code",
   "execution_count": 15,
   "metadata": {},
   "outputs": [],
   "source": [
    "device = torch.device('cuda' if torch.cuda.is_available() else 'cpu')\n",
    "\n",
    "model = CNN().to(device)\n",
    "\n",
    "# Set the loss and optimizer\n",
    "criterion = nn.CrossEntropyLoss()\n",
    "\n",
    "optimizer = optim.Adam(model.parameters(), lr = 0.001)"
   ]
  },
  {
   "cell_type": "code",
   "execution_count": 16,
   "metadata": {},
   "outputs": [
    {
     "name": "stdout",
     "output_type": "stream",
     "text": [
      "Epoch: 1/10   Train Loss: 0.8191\n",
      "\n",
      "Epoch: 2/10   Train Loss: 0.5496\n",
      "\n",
      "Epoch: 3/10   Train Loss: 0.4862\n",
      "\n",
      "Epoch: 4/10   Train Loss: 0.4600\n",
      "\n",
      "Epoch: 5/10   Train Loss: 0.4421\n",
      "\n",
      "Epoch: 6/10   Train Loss: 0.4289\n",
      "\n",
      "Epoch: 7/10   Train Loss: 0.4185\n",
      "\n",
      "Epoch: 8/10   Train Loss: 0.4125\n",
      "\n",
      "Epoch: 9/10   Train Loss: 0.4052\n",
      "\n",
      "Epoch: 10/10   Train Loss: 0.4007\n",
      "\n"
     ]
    }
   ],
   "source": [
    "# Training\n",
    "\n",
    "num_epochs = 10\n",
    "\n",
    "for epoch in range(num_epochs):\n",
    "    model.train()\n",
    "    running_loss = 0.0\n",
    "    \n",
    "    for image_batch, label_batch in train_loader:\n",
    "        image_batch, label_batch = image_batch.to(device), label_batch.to(device)\n",
    "        \n",
    "        outputs = model(image_batch)\n",
    "        \n",
    "        loss = criterion(outputs, label_batch)\n",
    "        \n",
    "        \n",
    "        # Backward pass and optimization\n",
    "        optimizer.zero_grad()\n",
    "        loss.backward()\n",
    "        optimizer.step()\n",
    "        \n",
    "        \n",
    "        running_loss += loss.item()\n",
    "        \n",
    "    print(f\"Epoch: {epoch+1}/{num_epochs}   Train Loss: {running_loss/len(train_loader):.4f}\\n\")\n",
    "        "
   ]
  },
  {
   "cell_type": "code",
   "execution_count": 24,
   "metadata": {},
   "outputs": [
    {
     "name": "stdout",
     "output_type": "stream",
     "text": [
      "Valid Accuracy: 98.22%\n"
     ]
    }
   ],
   "source": [
    "model.eval()\n",
    "correct = 0\n",
    "total = 0\n",
    "all_labels = []\n",
    "all_preds = []\n",
    "\n",
    "with torch.no_grad():\n",
    "    for images, labels in valid_loader:\n",
    "        images, labels = images.to(device), labels.to(device)\n",
    "        for label in labels:\n",
    "            all_labels.append(label)\n",
    "        outputs = model(images)\n",
    "        _, predicted = torch.max(outputs.data, 1)\n",
    "        for predict in predicted:\n",
    "            all_preds.append(predict)\n",
    "        total += labels.size(0)\n",
    "        correct += (predicted == labels).sum().item() \n",
    "print(f\"Valid Accuracy: {100 * correct / total:.2f}%\")"
   ]
  },
  {
   "cell_type": "code",
   "execution_count": 25,
   "metadata": {},
   "outputs": [
    {
     "data": {
      "image/png": "[encoded data removed]",
      "text/plain": [
       "<Figure size 1000x800 with 2 Axes>"
      ]
     },
     "metadata": {},
     "output_type": "display_data"
    }
   ],
   "source": [
    "from sklearn.metrics import confusion_matrix\n",
    "import seaborn as sns\n",
    "import matplotlib.pyplot as plt\n",
    "\n",
    "# Calculate confusion matrix\n",
    "conf_matrix = confusion_matrix(all_labels, all_preds)\n",
    "\n",
    "# Plot confusion matrix\n",
    "plt.figure(figsize=(10, 8))\n",
    "sns.heatmap(conf_matrix, annot=True, fmt=\"d\", cmap=\"Blues\", xticklabels=range(10), yticklabels=range(10))\n",
    "plt.xlabel('Predicted Labels')\n",
    "plt.ylabel('True Labels')\n",
    "plt.title('Confusion Matrix')\n",
    "plt.show()\n"
   ]
  },
  {
   "cell_type": "code",
   "execution_count": 26,
   "metadata": {},
   "outputs": [
    {
     "data": {
      "image/png": "[encoded data removed]",
      "text/plain": [
       "<Figure size 1000x800 with 1 Axes>"
      ]
     },
     "metadata": {},
     "output_type": "display_data"
    }
   ],
   "source": [
    "import matplotlib.pyplot as plt\n",
    "from sklearn.metrics import roc_curve, auc\n",
    "import torch\n",
    "import numpy as np\n",
    "from sklearn.preprocessing import label_binarize\n",
    "\n",
    "# Initialize containers for all labels and predictions\n",
    "all_labels = []\n",
    "all_outputs = []\n",
    "\n",
    "# Make sure model is in evaluation mode\n",
    "model.eval()\n",
    "\n",
    "with torch.no_grad():\n",
    "    for images, labels in test_loader:\n",
    "        images, labels = images.to(device), labels.to(device)\n",
    "\n",
    "        # Get model outputs (raw scores before applying softmax)\n",
    "        outputs = model(images)\n",
    "        \n",
    "        # Apply softmax to get probabilities\n",
    "        outputs = torch.softmax(outputs, dim=1).detach().cpu().numpy()\n",
    "\n",
    "        # Collect all outputs and labels\n",
    "        all_labels.append(labels.cpu().numpy())\n",
    "        all_outputs.append(outputs)\n",
    "\n",
    "# Convert lists to numpy arrays\n",
    "all_labels = np.concatenate(all_labels)\n",
    "all_outputs = np.concatenate(all_outputs)\n",
    "\n",
    "# Binarize the labels for multi-class ROC curve\n",
    "n_classes = all_outputs.shape[1]\n",
    "all_labels_bin = label_binarize(all_labels, classes=np.arange(n_classes))\n",
    "\n",
    "# Plot ROC curve for each class\n",
    "plt.figure(figsize=(10, 8))\n",
    "\n",
    "for i in range(n_classes):\n",
    "    fpr, tpr, _ = roc_curve(all_labels_bin[:, i], all_outputs[:, i])\n",
    "    roc_auc = auc(fpr, tpr)\n",
    "    plt.plot(fpr, tpr, label=f'Class {i} (AUC = {roc_auc:.2f})')\n",
    "\n",
    "# Plotting the diagonal line (random classifier line)\n",
    "plt.plot([0, 1], [0, 1], 'k--', label='Random classifier (AUC = 0.50)')\n",
    "\n",
    "# Set labels and title\n",
    "plt.xlabel('False Positive Rate')\n",
    "plt.ylabel('True Positive Rate')\n",
    "plt.title('ROC Curve for Multi-Class Classification')\n",
    "plt.legend(loc='lower right')\n",
    "plt.grid(True)\n",
    "\n",
    "# Show the plot\n",
    "plt.show()\n"
   ]
  },
  {
   "cell_type": "code",
   "execution_count": 27,
   "metadata": {},
   "outputs": [
    {
     "data": {
      "application/vnd.plotly.v1+json": {
       "config": {
        "plotlyServerURL": "https://plot.ly"
       },
       "data": [
        {
         "mode": "lines",
         "name": "Class 0 (AUC = 1.00)",
         "type": "scatter",
         "x": [
          0,
          0,
          0,
          0,
          0,
          0,
          0,
          0,
          0,
          0,
          0,
          0,
          0,
          0,
          0,
          0,
          0,
          0,
          0,
          0,
          0,
          0,
          0,
          0,
          0,
          0,
          0,
          0,
          0,
          0,
          0,
          0,
          0,
          0,
          0,
          0,
          0,
          0,
          0,
          0,
          0,
          0,
          0,
          0,
          0,
          0,
          0,
          0,
          0,
          0,
          0,
          0,
          0,
          0,
          0,
          0,
          0,
          0,
          0,
          0,
          0,
          0,
          0,
          0,
          0,
          0,
          0,
          0,
          0,
          0,
          0.00022158209616662973,
          0.00022158209616662973,
          0.00044316419233325947,
          0.00044316419233325947,
          0.0006647462884998893,
          0.0006647462884998893,
          0.0008863283846665189,
          0.0008863283846665189,
          0.0011079104808331486,
          0.0011079104808331486,
          0.0013294925769997785,
          0.0013294925769997785,
          1
         ],
         "y": [
          0,
          0.02053388090349076,
          0.061601642710472276,
          0.0944558521560575,
          0.11498973305954825,
          0.1375770020533881,
          0.15605749486652978,
          0.1704312114989733,
          0.17659137577002054,
          0.1868583162217659,
          0.19507186858316222,
          0.2053388090349076,
          0.20944558521560575,
          0.21560574948665298,
          0.22381930184804927,
          0.2299794661190965,
          0.2546201232032854,
          0.2751540041067762,
          0.2813141683778234,
          0.28542094455852157,
          0.2874743326488706,
          0.29568788501026694,
          0.30390143737166325,
          0.3141683778234086,
          0.3182751540041068,
          0.33059548254620125,
          0.3347022587268994,
          0.3408624229979466,
          0.34496919917864477,
          0.35728952772073924,
          0.3613963039014374,
          0.36344969199178645,
          0.3675564681724846,
          0.37166324435318276,
          0.3757700205338809,
          0.37782340862423,
          0.3839835728952772,
          0.38809034907597534,
          0.39014373716632444,
          0.4086242299794661,
          0.4106776180698152,
          0.4188911704312115,
          0.4209445585215606,
          0.42915811088295686,
          0.4353182751540041,
          0.4414784394250513,
          0.44969199178644764,
          0.4537987679671458,
          0.4620123203285421,
          0.4681724845995893,
          0.4804928131416838,
          0.4887063655030801,
          0.49691991786447637,
          0.5030800821355236,
          0.5071868583162218,
          0.5359342915811088,
          0.5400410677618069,
          0.5544147843942505,
          0.5585215605749486,
          0.5811088295687885,
          0.5934291581108829,
          0.6283367556468172,
          0.6324435318275154,
          0.6591375770020534,
          0.6632443531827515,
          0.6652977412731006,
          0.6694045174537988,
          0.7351129363449692,
          0.7392197125256673,
          0.9486652977412731,
          0.9486652977412731,
          0.9650924024640657,
          0.9650924024640657,
          0.9835728952772074,
          0.9835728952772074,
          0.9856262833675564,
          0.9856262833675564,
          0.9897330595482546,
          0.9897330595482546,
          0.9958932238193019,
          0.9958932238193019,
          1,
          1
         ]
        },
        {
         "mode": "lines",
         "name": "Class 1 (AUC = 1.00)",
         "type": "scatter",
         "x": [
          0,
          0,
          0,
          0,
          0,
          0,
          0,
          0,
          0,
          0,
          0,
          0,
          0,
          0,
          0,
          0,
          0,
          0,
          0,
          0,
          0,
          0,
          0,
          0,
          0,
          0,
          0,
          0,
          0,
          0,
          0,
          0,
          0,
          0,
          0,
          0,
          0,
          0,
          0,
          0,
          0,
          0,
          0,
          0,
          0,
          0,
          0,
          0,
          0,
          0,
          0,
          0,
          0,
          0,
          0,
          0,
          0,
          0,
          0,
          0,
          0,
          0,
          0,
          0,
          0,
          0,
          0,
          0,
          0,
          0,
          0,
          0,
          0,
          0,
          0,
          0,
          0,
          0,
          0,
          0,
          0,
          0,
          0,
          0,
          0,
          0,
          0,
          0,
          0,
          0,
          0,
          0,
          0,
          0,
          0,
          0,
          0,
          0,
          0,
          0,
          0,
          0,
          0,
          0,
          0,
          0,
          0,
          0,
          0,
          0,
          0,
          0,
          0,
          0,
          0,
          0.00022487069934787497,
          0.00022487069934787497,
          0.0006746120980436249,
          0.0006746120980436249,
          0.0008994827973914999,
          0.0008994827973914999,
          0.001124353496739375,
          0.001124353496739375,
          0.0017989655947829998,
          0.0017989655947829998,
          0.004722284686305375,
          0.004722284686305375,
          1
         ],
         "y": [
          0,
          0.0018083182640144665,
          0.003616636528028933,
          0.014466546112115732,
          0.019891500904159132,
          0.023508137432188065,
          0.027124773960216998,
          0.0325497287522604,
          0.045207956600361664,
          0.048824593128390596,
          0.054249547920433995,
          0.06148282097649186,
          0.06329113924050633,
          0.06871609403254973,
          0.07414104882459313,
          0.07775768535262206,
          0.07956600361663653,
          0.08318264014466546,
          0.09041591320072333,
          0.09403254972875226,
          0.09945750452079566,
          0.10307414104882459,
          0.11030741410488246,
          0.11392405063291139,
          0.11754068716094032,
          0.12296564195298372,
          0.1301989150090416,
          0.13200723327305605,
          0.13562386980108498,
          0.13743218806509946,
          0.1410488245931284,
          0.14647377938517178,
          0.15009041591320071,
          0.1609403254972875,
          0.16455696202531644,
          0.16636528028933092,
          0.1717902350813743,
          0.18625678119349007,
          0.19349005424954793,
          0.19710669077757687,
          0.20253164556962025,
          0.20433996383363473,
          0.20795660036166366,
          0.20976491862567812,
          0.21518987341772153,
          0.2206148282097649,
          0.22423146473779385,
          0.22603978300180833,
          0.22965641952983726,
          0.23508137432188064,
          0.2423146473779385,
          0.24954792043399637,
          0.2549728752260398,
          0.26220614828209765,
          0.26582278481012656,
          0.2694394213381555,
          0.27848101265822783,
          0.28390596745027125,
          0.28933092224231466,
          0.30018083182640143,
          0.30198915009041594,
          0.30560578661844484,
          0.3092224231464738,
          0.3128390596745027,
          0.31464737793851716,
          0.321880650994575,
          0.33634719710669075,
          0.3399638336347197,
          0.3453887884267631,
          0.34900542495479203,
          0.352622061482821,
          0.35804701627486435,
          0.3779385171790235,
          0.38155515370705245,
          0.38698010849909587,
          0.39059674502712477,
          0.39421338155515373,
          0.39783001808318263,
          0.4050632911392405,
          0.40867992766726946,
          0.4412296564195298,
          0.4448462929475588,
          0.46112115732368897,
          0.46473779385171793,
          0.4701627486437613,
          0.47377938517179025,
          0.4755877034358047,
          0.48282097649186256,
          0.5081374321880651,
          0.5117540687160941,
          0.5189873417721519,
          0.5226039783001808,
          0.5569620253164557,
          0.5605786618444847,
          0.5678119349005425,
          0.5714285714285714,
          0.5750452079566004,
          0.5804701627486437,
          0.5840867992766727,
          0.5877034358047016,
          0.596745027124774,
          0.6003616636528029,
          0.6148282097649186,
          0.6184448462929476,
          0.6292947558770343,
          0.6329113924050633,
          0.6347197106690777,
          0.6383363471971067,
          0.6473779385171791,
          0.6546112115732369,
          0.6907775768535263,
          0.6943942133815552,
          0.7215189873417721,
          0.7251356238698011,
          0.9710669077757685,
          0.9710669077757685,
          0.9746835443037974,
          0.9746835443037974,
          0.976491862567812,
          0.976491862567812,
          0.9927667269439421,
          0.9927667269439421,
          0.9945750452079566,
          0.9945750452079566,
          0.9963833634719711,
          0.9963833634719711,
          1,
          1
         ]
        },
        {
         "mode": "lines",
         "name": "Class 2 (AUC = 1.00)",
         "type": "scatter",
         "x": [
          0,
          0,
          0,
          0,
          0,
          0,
          0,
          0,
          0,
          0,
          0,
          0,
          0,
          0,
          0,
          0,
          0,
          0,
          0,
          0,
          0,
          0,
          0,
          0,
          0,
          0,
          0,
          0,
          0,
          0,
          0,
          0,
          0,
          0,
          0.00022251891410769915,
          0.00022251891410769915,
          0.0004450378282153983,
          0.0004450378282153983,
          0.0006675567423230974,
          0.0006675567423230974,
          0.0008900756564307966,
          0.0008900756564307966,
          0.0011125945705384957,
          0.0011125945705384957,
          0.0013351134846461949,
          0.0013351134846461949,
          0.0017801513128615932,
          0.0017801513128615932,
          0.0020026702269692926,
          0.0020026702269692926,
          0.0022251891410769915,
          0.0022251891410769915,
          0.002447708055184691,
          0.002447708055184691,
          0.002892745883400089,
          0.002892745883400089,
          0.0033377837116154874,
          0.0033377837116154874,
          0.0035603026257231864,
          0.0035603026257231864,
          0.0037828215398308857,
          0.0037828215398308857,
          0.004450378282153983,
          0.004450378282153983,
          0.008678237650200267,
          0.008678237650200267,
          1
         ],
         "y": [
          0,
          0.01383399209486166,
          0.02766798418972332,
          0.03162055335968379,
          0.041501976284584984,
          0.04743083003952569,
          0.05138339920948617,
          0.05731225296442688,
          0.05928853754940711,
          0.06324110671936758,
          0.0691699604743083,
          0.07509881422924901,
          0.07905138339920949,
          0.08498023715415019,
          0.08893280632411067,
          0.10276679841897234,
          0.10869565217391304,
          0.11067193675889328,
          0.11462450592885376,
          0.116600790513834,
          0.12055335968379446,
          0.12450592885375494,
          0.12845849802371542,
          0.15217391304347827,
          0.1600790513833992,
          0.16403162055335968,
          0.16798418972332016,
          0.2628458498023715,
          0.26679841897233203,
          0.37549407114624506,
          0.3794466403162055,
          0.4150197628458498,
          0.4189723320158103,
          0.8063241106719368,
          0.8063241106719368,
          0.849802371541502,
          0.849802371541502,
          0.8873517786561265,
          0.8873517786561265,
          0.9169960474308301,
          0.9169960474308301,
          0.9367588932806324,
          0.9367588932806324,
          0.9387351778656127,
          0.9387351778656127,
          0.9545454545454546,
          0.9545454545454546,
          0.9604743083003953,
          0.9604743083003953,
          0.9624505928853755,
          0.9624505928853755,
          0.9723320158102767,
          0.9723320158102767,
          0.9822134387351779,
          0.9822134387351779,
          0.9861660079051383,
          0.9861660079051383,
          0.9881422924901185,
          0.9881422924901185,
          0.9901185770750988,
          0.9901185770750988,
          0.9960474308300395,
          0.9960474308300395,
          0.9980237154150198,
          0.9980237154150198,
          1,
          1
         ]
        },
        {
         "mode": "lines",
         "name": "Class 3 (AUC = 1.00)",
         "type": "scatter",
         "x": [
          0,
          0,
          0,
          0,
          0,
          0,
          0,
          0,
          0,
          0,
          0,
          0,
          0,
          0,
          0,
          0,
          0,
          0,
          0,
          0,
          0,
          0,
          0,
          0,
          0,
          0,
          0,
          0,
          0,
          0,
          0,
          0,
          0,
          0,
          0,
          0,
          0,
          0,
          0,
          0.00022123893805309734,
          0.00022123893805309734,
          0.0004424778761061947,
          0.0004424778761061947,
          0.0011061946902654867,
          0.0011061946902654867,
          0.001327433628318584,
          0.001327433628318584,
          0.0022123893805309734,
          0.0022123893805309734,
          0.0028761061946902654,
          0.0028761061946902654,
          0.05243362831858407,
          0.05243362831858407,
          1
         ],
         "y": [
          0,
          0.0020833333333333333,
          0.004166666666666667,
          0.008333333333333333,
          0.01875,
          0.027083333333333334,
          0.06041666666666667,
          0.06458333333333334,
          0.06875,
          0.07708333333333334,
          0.09375,
          0.09791666666666667,
          0.10208333333333333,
          0.10625,
          0.13125,
          0.13541666666666666,
          0.1375,
          0.14166666666666666,
          0.17708333333333334,
          0.18125,
          0.2,
          0.20416666666666666,
          0.21666666666666667,
          0.22083333333333333,
          0.2625,
          0.26666666666666666,
          0.3,
          0.30416666666666664,
          0.35,
          0.3541666666666667,
          0.40625,
          0.41041666666666665,
          0.4270833333333333,
          0.43125,
          0.5083333333333333,
          0.5125,
          0.6354166666666666,
          0.6395833333333333,
          0.9125,
          0.9125,
          0.91875,
          0.91875,
          0.9854166666666667,
          0.9854166666666667,
          0.9895833333333334,
          0.9895833333333334,
          0.9916666666666667,
          0.9916666666666667,
          0.99375,
          0.99375,
          0.9979166666666667,
          0.9979166666666667,
          1,
          1
         ]
        },
        {
         "mode": "lines",
         "name": "Class 4 (AUC = 1.00)",
         "type": "scatter",
         "x": [
          0,
          0,
          0,
          0,
          0,
          0,
          0,
          0,
          0,
          0,
          0,
          0,
          0,
          0,
          0,
          0,
          0,
          0,
          0,
          0,
          0,
          0,
          0,
          0,
          0,
          0,
          0,
          0,
          0,
          0,
          0,
          0,
          0,
          0,
          0,
          0,
          0,
          0,
          0,
          0,
          0,
          0,
          0,
          0,
          0,
          0,
          0,
          0,
          0,
          0,
          0,
          0,
          0,
          0,
          0,
          0,
          0,
          0,
          0,
          0,
          0,
          0,
          0.00022119000221190003,
          0.00022119000221190003,
          0.0006635700066357001,
          0.0006635700066357001,
          0.0008847600088476001,
          0.0008847600088476001,
          0.0011059500110595002,
          0.0011059500110595002,
          0.0017695200176952002,
          0.0017695200176952002,
          0.0030966600309666,
          0.0030966600309666,
          1
         ],
         "y": [
          0,
          0.006263048016701462,
          0.03549060542797495,
          0.04175365344467641,
          0.05219206680584551,
          0.06680584551148225,
          0.07933194154488518,
          0.09812108559498957,
          0.10647181628392484,
          0.1127348643006263,
          0.1336116910229645,
          0.1440501043841336,
          0.15031315240083507,
          0.1524008350730689,
          0.15866388308977036,
          0.16701461377870563,
          0.17118997912317327,
          0.1732776617954071,
          0.18580375782881003,
          0.18997912317327767,
          0.19624217118997914,
          0.21294363256784968,
          0.21711899791231734,
          0.22129436325678498,
          0.22755741127348644,
          0.23173277661795408,
          0.23382045929018788,
          0.24634655532359082,
          0.2546972860125261,
          0.2588726513569937,
          0.2609603340292276,
          0.2651356993736952,
          0.267223382045929,
          0.27139874739039666,
          0.2797494780793319,
          0.2860125260960334,
          0.29018789144050106,
          0.2964509394572025,
          0.3048016701461378,
          0.3089770354906054,
          0.31524008350730687,
          0.31941544885177453,
          0.3235908141962422,
          0.3277661795407098,
          0.3444676409185804,
          0.35073068893528186,
          0.35490605427974947,
          0.3569937369519833,
          0.36116910229645094,
          0.3736951983298539,
          0.37995824634655534,
          0.4196242171189979,
          0.4279749478079332,
          0.430062630480167,
          0.4342379958246347,
          0.524008350730689,
          0.5281837160751566,
          0.6931106471816284,
          0.697286012526096,
          0.7620041753653445,
          0.7661795407098121,
          0.9791231732776617,
          0.9791231732776617,
          0.9832985386221295,
          0.9832985386221295,
          0.9874739039665971,
          0.9874739039665971,
          0.9916492693110647,
          0.9916492693110647,
          0.9937369519832986,
          0.9937369519832986,
          0.9979123173277662,
          0.9979123173277662,
          1,
          1
         ]
        },
        {
         "mode": "lines",
         "name": "Class 5 (AUC = 1.00)",
         "type": "scatter",
         "x": [
          0,
          0,
          0,
          0,
          0,
          0,
          0,
          0,
          0,
          0,
          0,
          0.00021949078138718174,
          0.00021949078138718174,
          0.000877963125548727,
          0.000877963125548727,
          0.0010974539069359087,
          0.0010974539069359087,
          0.0013169446883230904,
          0.0013169446883230904,
          0.0015364354697102723,
          0.0015364354697102723,
          0.001975417032484636,
          0.001975417032484636,
          0.002414398595258999,
          0.002414398595258999,
          0.0026338893766461808,
          0.0026338893766461808,
          0.0046093064091308165,
          0.0046093064091308165,
          0.00504828797190518,
          0.00504828797190518,
          0.0052677787532923615,
          0.0052677787532923615,
          0.008560140474100088,
          0.008560140474100088,
          0.019315188762071993,
          0.019315188762071993,
          0.02655838454784899,
          0.02655838454784899,
          0.03182616330114135,
          0.03182616330114135,
          0.1189640035118525,
          0.1189640035118525,
          1
         ],
         "y": [
          0,
          0.0022522522522522522,
          0.03153153153153153,
          0.036036036036036036,
          0.08558558558558559,
          0.09234234234234234,
          0.13513513513513514,
          0.13963963963963963,
          0.22972972972972974,
          0.23423423423423423,
          0.9414414414414415,
          0.9414414414414415,
          0.9527027027027027,
          0.9527027027027027,
          0.954954954954955,
          0.954954954954955,
          0.9572072072072072,
          0.9572072072072072,
          0.9594594594594594,
          0.9594594594594594,
          0.9684684684684685,
          0.9684684684684685,
          0.9774774774774775,
          0.9774774774774775,
          0.9797297297297297,
          0.9797297297297297,
          0.9819819819819819,
          0.9819819819819819,
          0.9842342342342343,
          0.9842342342342343,
          0.9864864864864865,
          0.9864864864864865,
          0.9887387387387387,
          0.9887387387387387,
          0.990990990990991,
          0.990990990990991,
          0.9932432432432432,
          0.9932432432432432,
          0.9954954954954955,
          0.9954954954954955,
          0.9977477477477478,
          0.9977477477477478,
          1,
          1
         ]
        },
        {
         "mode": "lines",
         "name": "Class 6 (AUC = 1.00)",
         "type": "scatter",
         "x": [
          0,
          0,
          0,
          0,
          0,
          0,
          0,
          0,
          0,
          0,
          0,
          0,
          0,
          0,
          0,
          0,
          0,
          0,
          0,
          0,
          0,
          0,
          0,
          0,
          0,
          0,
          0,
          0,
          0,
          0,
          0,
          0,
          0,
          0,
          0,
          0,
          0,
          0,
          0,
          0,
          0,
          0,
          0,
          0,
          0,
          0,
          0,
          0,
          0.00022207417277370642,
          0.00022207417277370642,
          0.00044414834554741284,
          0.00044414834554741284,
          0.0008882966910948257,
          0.0008882966910948257,
          0.0022207417277370642,
          0.0022207417277370642,
          0.0035531867643793028,
          0.0035531867643793028,
          0.006662225183211193,
          0.006662225183211193,
          0.007550521874306018,
          0.007550521874306018,
          0.01176993115700644,
          0.01176993115700644,
          0.01487896957583833,
          0.01487896957583833,
          0.015323117921385743,
          0.015323117921385743,
          1
         ],
         "y": [
          0,
          0.002012072434607646,
          0.006036217303822937,
          0.008048289738430584,
          0.012072434607645875,
          0.014084507042253521,
          0.018108651911468814,
          0.02414486921529175,
          0.028169014084507043,
          0.03621730382293763,
          0.04426559356136821,
          0.05030181086519115,
          0.056338028169014086,
          0.06841046277665996,
          0.07645875251509054,
          0.0925553319919517,
          0.096579476861167,
          0.10663983903420524,
          0.11066398390342053,
          0.11468812877263582,
          0.11871227364185111,
          0.12474849094567404,
          0.12877263581488935,
          0.13883299798792756,
          0.14285714285714285,
          0.1448692152917505,
          0.1488933601609658,
          0.16498993963782696,
          0.16901408450704225,
          0.1750503018108652,
          0.1790744466800805,
          0.1891348088531187,
          0.193158953722334,
          0.20321931589537223,
          0.2112676056338028,
          0.21730382293762576,
          0.22132796780684105,
          0.29979879275653926,
          0.3038229376257545,
          0.3299798792756539,
          0.33400402414486924,
          0.3983903420523139,
          0.4024144869215292,
          0.5291750503018109,
          0.5331991951710262,
          0.6800804828973843,
          0.6841046277665996,
          0.8269617706237424,
          0.8269617706237424,
          0.9758551307847082,
          0.9758551307847082,
          0.9798792756539235,
          0.9798792756539235,
          0.9859154929577465,
          0.9859154929577465,
          0.9879275653923542,
          0.9879275653923542,
          0.9899396378269618,
          0.9899396378269618,
          0.9919517102615694,
          0.9919517102615694,
          0.993963782696177,
          0.993963782696177,
          0.9959758551307847,
          0.9959758551307847,
          0.9979879275653923,
          0.9979879275653923,
          1,
          1
         ]
        },
        {
         "mode": "lines",
         "name": "Class 7 (AUC = 1.00)",
         "type": "scatter",
         "x": [
          0,
          0,
          0,
          0,
          0,
          0,
          0,
          0,
          0,
          0,
          0,
          0,
          0,
          0,
          0,
          0,
          0,
          0,
          0,
          0,
          0,
          0,
          0,
          0,
          0,
          0,
          0,
          0,
          0,
          0,
          0,
          0,
          0,
          0,
          0,
          0,
          0,
          0,
          0,
          0,
          0,
          0,
          0,
          0,
          0,
          0,
          0,
          0,
          0,
          0,
          0,
          0,
          0,
          0,
          0,
          0,
          0,
          0,
          0,
          0,
          0,
          0,
          0,
          0,
          0,
          0,
          0,
          0,
          0,
          0,
          0,
          0,
          0,
          0,
          0,
          0,
          0,
          0,
          0,
          0,
          0,
          0,
          0,
          0,
          0,
          0.00022311468094600624,
          0.00022311468094600624,
          0.0004462293618920125,
          0.0004462293618920125,
          0.0006693440428380187,
          0.0006693440428380187,
          0.000892458723784025,
          0.000892458723784025,
          0.0011155734047300313,
          0.0011155734047300313,
          0.0013386880856760374,
          0.0013386880856760374,
          0.0015618027666220438,
          0.0015618027666220438,
          0.00178491744756805,
          0.00178491744756805,
          0.002008032128514056,
          0.002008032128514056,
          0.0022311468094600626,
          0.0022311468094600626,
          0.002677376171352075,
          0.002677376171352075,
          0.0033467202141900937,
          0.0033467202141900937,
          0.004016064257028112,
          0.004016064257028112,
          0.0049085229808121375,
          0.0049085229808121375,
          0.011825078090138332,
          0.011825078090138332,
          0.016287371709058456,
          0.016287371709058456,
          0.01651048639000446,
          0.01651048639000446,
          1
         ],
         "y": [
          0,
          0.0019305019305019305,
          0.003861003861003861,
          0.03474903474903475,
          0.04633204633204633,
          0.059845559845559844,
          0.0637065637065637,
          0.06563706563706563,
          0.07335907335907337,
          0.08687258687258688,
          0.09073359073359073,
          0.09266409266409266,
          0.09652509652509653,
          0.09845559845559845,
          0.10231660231660232,
          0.10810810810810811,
          0.11196911196911197,
          0.11776061776061776,
          0.1274131274131274,
          0.13127413127413126,
          0.13320463320463322,
          0.13706563706563707,
          0.138996138996139,
          0.14285714285714285,
          0.14671814671814673,
          0.15057915057915058,
          0.1525096525096525,
          0.15637065637065636,
          0.1583011583011583,
          0.16216216216216217,
          0.1718146718146718,
          0.17374517374517376,
          0.1891891891891892,
          0.19305019305019305,
          0.1969111969111969,
          0.20270270270270271,
          0.20656370656370657,
          0.2084942084942085,
          0.21235521235521235,
          0.21428571428571427,
          0.22007722007722008,
          0.22393822393822393,
          0.2277992277992278,
          0.22972972972972974,
          0.2335907335907336,
          0.2471042471042471,
          0.25096525096525096,
          0.25675675675675674,
          0.26833976833976836,
          0.2722007722007722,
          0.2857142857142857,
          0.28957528957528955,
          0.29343629343629346,
          0.2972972972972973,
          0.30115830115830117,
          0.305019305019305,
          0.3108108108108108,
          0.31467181467181465,
          0.3166023166023166,
          0.3204633204633205,
          0.32432432432432434,
          0.3281853281853282,
          0.3301158301158301,
          0.333976833976834,
          0.3436293436293436,
          0.3474903474903475,
          0.34942084942084944,
          0.3532818532818533,
          0.3552123552123552,
          0.3590733590733591,
          0.37065637065637064,
          0.3783783783783784,
          0.38803088803088803,
          0.3918918918918919,
          0.4092664092664093,
          0.41312741312741313,
          0.4613899613899614,
          0.46525096525096526,
          0.48841698841698844,
          0.4922779922779923,
          0.5019305019305019,
          0.5057915057915058,
          0.7393822393822393,
          0.7432432432432432,
          0.8687258687258688,
          0.8687258687258688,
          0.9054054054054054,
          0.9054054054054054,
          0.9208494208494209,
          0.9208494208494209,
          0.9324324324324325,
          0.9324324324324325,
          0.9362934362934363,
          0.9362934362934363,
          0.9594594594594594,
          0.9594594594594594,
          0.971042471042471,
          0.971042471042471,
          0.972972972972973,
          0.972972972972973,
          0.974903474903475,
          0.974903474903475,
          0.9806949806949807,
          0.9806949806949807,
          0.9845559845559846,
          0.9845559845559846,
          0.9864864864864865,
          0.9864864864864865,
          0.9884169884169884,
          0.9884169884169884,
          0.9922779922779923,
          0.9922779922779923,
          0.9942084942084942,
          0.9942084942084942,
          0.9961389961389961,
          0.9961389961389961,
          0.9980694980694981,
          0.9980694980694981,
          1,
          1
         ]
        },
        {
         "mode": "lines",
         "name": "Class 8 (AUC = 1.00)",
         "type": "scatter",
         "x": [
          0,
          0,
          0,
          0,
          0,
          0,
          0,
          0,
          0,
          0,
          0,
          0,
          0,
          0,
          0,
          0,
          0,
          0,
          0,
          0,
          0,
          0,
          0,
          0.00022182786157941438,
          0.00022182786157941438,
          0.00044365572315882877,
          0.00044365572315882877,
          0.0006654835847382431,
          0.0006654835847382431,
          0.0015527950310559005,
          0.0015527950310559005,
          0.0024401064773735583,
          0.0024401064773735583,
          0.005767524401064774,
          0.005767524401064774,
          0.015527950310559006,
          0.015527950310559006,
          1
         ],
         "y": [
          0,
          0.0020325203252032522,
          0.008130081300813009,
          0.012195121951219513,
          0.10569105691056911,
          0.10975609756097561,
          0.1524390243902439,
          0.1565040650406504,
          0.18292682926829268,
          0.18699186991869918,
          0.1910569105691057,
          0.1951219512195122,
          0.2703252032520325,
          0.27439024390243905,
          0.32723577235772355,
          0.3313008130081301,
          0.3678861788617886,
          0.3719512195121951,
          0.3943089430894309,
          0.3983739837398374,
          0.4268292682926829,
          0.43089430894308944,
          0.983739837398374,
          0.983739837398374,
          0.9878048780487805,
          0.9878048780487805,
          0.9898373983739838,
          0.9898373983739838,
          0.991869918699187,
          0.991869918699187,
          0.9939024390243902,
          0.9939024390243902,
          0.9959349593495935,
          0.9959349593495935,
          0.9979674796747967,
          0.9979674796747967,
          1,
          1
         ]
        },
        {
         "mode": "lines",
         "name": "Class 9 (AUC = 1.00)",
         "type": "scatter",
         "x": [
          0,
          0,
          0,
          0,
          0,
          0,
          0,
          0,
          0,
          0,
          0,
          0,
          0,
          0,
          0,
          0,
          0,
          0,
          0,
          0,
          0,
          0,
          0,
          0,
          0,
          0,
          0,
          0,
          0,
          0.0002244165170556553,
          0.0002244165170556553,
          0.0004488330341113106,
          0.0004488330341113106,
          0.0011220825852782765,
          0.0011220825852782765,
          0.0020197486535008975,
          0.0020197486535008975,
          0.0033662477558348293,
          0.0033662477558348293,
          0.004263913824057451,
          0.004263913824057451,
          0.005610412926391382,
          0.005610412926391382,
          0.009201077199281867,
          0.009201077199281867,
          0.01189407540394973,
          0.01189407540394973,
          0.012791741472172352,
          0.012791741472172352,
          0.020870736086175942,
          0.020870736086175942,
          0.03882405745062836,
          0.03882405745062836,
          1
         ],
         "y": [
          0,
          0.001838235294117647,
          0.01838235294117647,
          0.022058823529411766,
          0.058823529411764705,
          0.0625,
          0.07169117647058823,
          0.07536764705882353,
          0.07904411764705882,
          0.08272058823529412,
          0.10477941176470588,
          0.10845588235294118,
          0.13786764705882354,
          0.14154411764705882,
          0.14522058823529413,
          0.1488970588235294,
          0.1875,
          0.1948529411764706,
          0.21875,
          0.22242647058823528,
          0.29044117647058826,
          0.29411764705882354,
          0.3014705882352941,
          0.30514705882352944,
          0.34191176470588236,
          0.3474264705882353,
          0.38786764705882354,
          0.3915441176470588,
          0.9301470588235294,
          0.9301470588235294,
          0.9319852941176471,
          0.9319852941176471,
          0.9705882352941176,
          0.9705882352941176,
          0.9761029411764706,
          0.9761029411764706,
          0.9816176470588235,
          0.9816176470588235,
          0.9852941176470589,
          0.9852941176470589,
          0.9889705882352942,
          0.9889705882352942,
          0.9908088235294118,
          0.9908088235294118,
          0.9926470588235294,
          0.9926470588235294,
          0.9944852941176471,
          0.9944852941176471,
          0.9963235294117647,
          0.9963235294117647,
          0.9981617647058824,
          0.9981617647058824,
          1,
          1
         ]
        },
        {
         "line": {
          "dash": "dash"
         },
         "mode": "lines",
         "name": "Random classifier (AUC = 0.50)",
         "type": "scatter",
         "x": [
          0,
          1
         ],
         "y": [
          0,
          1
         ]
        }
       ],
       "layout": {
        "showlegend": true,
        "template": {
         "data": {
          "bar": [
           {
            "error_x": {
             "color": "#2a3f5f"
            },
            "error_y": {
             "color": "#2a3f5f"
            },
            "marker": {
             "line": {
              "color": "#E5ECF6",
              "width": 0.5
             },
             "pattern": {
              "fillmode": "overlay",
              "size": 10,
              "solidity": 0.2
             }
            },
            "type": "bar"
           }
          ],
          "barpolar": [
           {
            "marker": {
             "line": {
              "color": "#E5ECF6",
              "width": 0.5
             },
             "pattern": {
              "fillmode": "overlay",
              "size": 10,
              "solidity": 0.2
             }
            },
            "type": "barpolar"
           }
          ],
          "carpet": [
           {
            "aaxis": {
             "endlinecolor": "#2a3f5f",
             "gridcolor": "white",
             "linecolor": "white",
             "minorgridcolor": "white",
             "startlinecolor": "#2a3f5f"
            },
            "baxis": {
             "endlinecolor": "#2a3f5f",
             "gridcolor": "white",
             "linecolor": "white",
             "minorgridcolor": "white",
             "startlinecolor": "#2a3f5f"
            },
            "type": "carpet"
           }
          ],
          "choropleth": [
           {
            "colorbar": {
             "outlinewidth": 0,
             "ticks": ""
            },
            "type": "choropleth"
           }
          ],
          "contour": [
           {
            "colorbar": {
             "outlinewidth": 0,
             "ticks": ""
            },
            "colorscale": [
             [
              0,
              "#0d0887"
             ],
             [
              0.1111111111111111,
              "#46039f"
             ],
             [
              0.2222222222222222,
              "#7201a8"
             ],
             [
              0.3333333333333333,
              "#9c179e"
             ],
             [
              0.4444444444444444,
              "#bd3786"
             ],
             [
              0.5555555555555556,
              "#d8576b"
             ],
             [
              0.6666666666666666,
              "#ed7953"
             ],
             [
              0.7777777777777778,
              "#fb9f3a"
             ],
             [
              0.8888888888888888,
              "#fdca26"
             ],
             [
              1,
              "#f0f921"
             ]
            ],
            "type": "contour"
           }
          ],
          "contourcarpet": [
           {
            "colorbar": {
             "outlinewidth": 0,
             "ticks": ""
            },
            "type": "contourcarpet"
           }
          ],
          "heatmap": [
           {
            "colorbar": {
             "outlinewidth": 0,
             "ticks": ""
            },
            "colorscale": [
             [
              0,
              "#0d0887"
             ],
             [
              0.1111111111111111,
              "#46039f"
             ],
             [
              0.2222222222222222,
              "#7201a8"
             ],
             [
              0.3333333333333333,
              "#9c179e"
             ],
             [
              0.4444444444444444,
              "#bd3786"
             ],
             [
              0.5555555555555556,
              "#d8576b"
             ],
             [
              0.6666666666666666,
              "#ed7953"
             ],
             [
              0.7777777777777778,
              "#fb9f3a"
             ],
             [
              0.8888888888888888,
              "#fdca26"
             ],
             [
              1,
              "#f0f921"
             ]
            ],
            "type": "heatmap"
           }
          ],
          "heatmapgl": [
           {
            "colorbar": {
             "outlinewidth": 0,
             "ticks": ""
            },
            "colorscale": [
             [
              0,
              "#0d0887"
             ],
             [
              0.1111111111111111,
              "#46039f"
             ],
             [
              0.2222222222222222,
              "#7201a8"
             ],
             [
              0.3333333333333333,
              "#9c179e"
             ],
             [
              0.4444444444444444,
              "#bd3786"
             ],
             [
              0.5555555555555556,
              "#d8576b"
             ],
             [
              0.6666666666666666,
              "#ed7953"
             ],
             [
              0.7777777777777778,
              "#fb9f3a"
             ],
             [
              0.8888888888888888,
              "#fdca26"
             ],
             [
              1,
              "#f0f921"
             ]
            ],
            "type": "heatmapgl"
           }
          ],
          "histogram": [
           {
            "marker": {
             "pattern": {
              "fillmode": "overlay",
              "size": 10,
              "solidity": 0.2
             }
            },
            "type": "histogram"
           }
          ],
          "histogram2d": [
           {
            "colorbar": {
             "outlinewidth": 0,
             "ticks": ""
            },
            "colorscale": [
             [
              0,
              "#0d0887"
             ],
             [
              0.1111111111111111,
              "#46039f"
             ],
             [
              0.2222222222222222,
              "#7201a8"
             ],
             [
              0.3333333333333333,
              "#9c179e"
             ],
             [
              0.4444444444444444,
              "#bd3786"
             ],
             [
              0.5555555555555556,
              "#d8576b"
             ],
             [
              0.6666666666666666,
              "#ed7953"
             ],
             [
              0.7777777777777778,
              "#fb9f3a"
             ],
             [
              0.8888888888888888,
              "#fdca26"
             ],
             [
              1,
              "#f0f921"
             ]
            ],
            "type": "histogram2d"
           }
          ],
          "histogram2dcontour": [
           {
            "colorbar": {
             "outlinewidth": 0,
             "ticks": ""
            },
            "colorscale": [
             [
              0,
              "#0d0887"
             ],
             [
              0.1111111111111111,
              "#46039f"
             ],
             [
              0.2222222222222222,
              "#7201a8"
             ],
             [
              0.3333333333333333,
              "#9c179e"
             ],
             [
              0.4444444444444444,
              "#bd3786"
             ],
             [
              0.5555555555555556,
              "#d8576b"
             ],
             [
              0.6666666666666666,
              "#ed7953"
             ],
             [
              0.7777777777777778,
              "#fb9f3a"
             ],
             [
              0.8888888888888888,
              "#fdca26"
             ],
             [
              1,
              "#f0f921"
             ]
            ],
            "type": "histogram2dcontour"
           }
          ],
          "mesh3d": [
           {
            "colorbar": {
             "outlinewidth": 0,
             "ticks": ""
            },
            "type": "mesh3d"
           }
          ],
          "parcoords": [
           {
            "line": {
             "colorbar": {
              "outlinewidth": 0,
              "ticks": ""
             }
            },
            "type": "parcoords"
           }
          ],
          "pie": [
           {
            "automargin": true,
            "type": "pie"
           }
          ],
          "scatter": [
           {
            "fillpattern": {
             "fillmode": "overlay",
             "size": 10,
             "solidity": 0.2
            },
            "type": "scatter"
           }
          ],
          "scatter3d": [
           {
            "line": {
             "colorbar": {
              "outlinewidth": 0,
              "ticks": ""
             }
            },
            "marker": {
             "colorbar": {
              "outlinewidth": 0,
              "ticks": ""
             }
            },
            "type": "scatter3d"
           }
          ],
          "scattercarpet": [
           {
            "marker": {
             "colorbar": {
              "outlinewidth": 0,
              "ticks": ""
             }
            },
            "type": "scattercarpet"
           }
          ],
          "scattergeo": [
           {
            "marker": {
             "colorbar": {
              "outlinewidth": 0,
              "ticks": ""
             }
            },
            "type": "scattergeo"
           }
          ],
          "scattergl": [
           {
            "marker": {
             "colorbar": {
              "outlinewidth": 0,
              "ticks": ""
             }
            },
            "type": "scattergl"
           }
          ],
          "scattermapbox": [
           {
            "marker": {
             "colorbar": {
              "outlinewidth": 0,
              "ticks": ""
             }
            },
            "type": "scattermapbox"
           }
          ],
          "scatterpolar": [
           {
            "marker": {
             "colorbar": {
              "outlinewidth": 0,
              "ticks": ""
             }
            },
            "type": "scatterpolar"
           }
          ],
          "scatterpolargl": [
           {
            "marker": {
             "colorbar": {
              "outlinewidth": 0,
              "ticks": ""
             }
            },
            "type": "scatterpolargl"
           }
          ],
          "scatterternary": [
           {
            "marker": {
             "colorbar": {
              "outlinewidth": 0,
              "ticks": ""
             }
            },
            "type": "scatterternary"
           }
          ],
          "surface": [
           {
            "colorbar": {
             "outlinewidth": 0,
             "ticks": ""
            },
            "colorscale": [
             [
              0,
              "#0d0887"
             ],
             [
              0.1111111111111111,
              "#46039f"
             ],
             [
              0.2222222222222222,
              "#7201a8"
             ],
             [
              0.3333333333333333,
              "#9c179e"
             ],
             [
              0.4444444444444444,
              "#bd3786"
             ],
             [
              0.5555555555555556,
              "#d8576b"
             ],
             [
              0.6666666666666666,
              "#ed7953"
             ],
             [
              0.7777777777777778,
              "#fb9f3a"
             ],
             [
              0.8888888888888888,
              "#fdca26"
             ],
             [
              1,
              "#f0f921"
             ]
            ],
            "type": "surface"
           }
          ],
          "table": [
           {
            "cells": {
             "fill": {
              "color": "#EBF0F8"
             },
             "line": {
              "color": "white"
             }
            },
            "header": {
             "fill": {
              "color": "#C8D4E3"
             },
             "line": {
              "color": "white"
             }
            },
            "type": "table"
           }
          ]
         },
         "layout": {
          "annotationdefaults": {
           "arrowcolor": "#2a3f5f",
           "arrowhead": 0,
           "arrowwidth": 1
          },
          "autotypenumbers": "strict",
          "coloraxis": {
           "colorbar": {
            "outlinewidth": 0,
            "ticks": ""
           }
          },
          "colorscale": {
           "diverging": [
            [
             0,
             "#8e0152"
            ],
            [
             0.1,
             "#c51b7d"
            ],
            [
             0.2,
             "#de77ae"
            ],
            [
             0.3,
             "#f1b6da"
            ],
            [
             0.4,
             "#fde0ef"
            ],
            [
             0.5,
             "#f7f7f7"
            ],
            [
             0.6,
             "#e6f5d0"
            ],
            [
             0.7,
             "#b8e186"
            ],
            [
             0.8,
             "#7fbc41"
            ],
            [
             0.9,
             "#4d9221"
            ],
            [
             1,
             "#276419"
            ]
           ],
           "sequential": [
            [
             0,
             "#0d0887"
            ],
            [
             0.1111111111111111,
             "#46039f"
            ],
            [
             0.2222222222222222,
             "#7201a8"
            ],
            [
             0.3333333333333333,
             "#9c179e"
            ],
            [
             0.4444444444444444,
             "#bd3786"
            ],
            [
             0.5555555555555556,
             "#d8576b"
            ],
            [
             0.6666666666666666,
             "#ed7953"
            ],
            [
             0.7777777777777778,
             "#fb9f3a"
            ],
            [
             0.8888888888888888,
             "#fdca26"
            ],
            [
             1,
             "#f0f921"
            ]
           ],
           "sequentialminus": [
            [
             0,
             "#0d0887"
            ],
            [
             0.1111111111111111,
             "#46039f"
            ],
            [
             0.2222222222222222,
             "#7201a8"
            ],
            [
             0.3333333333333333,
             "#9c179e"
            ],
            [
             0.4444444444444444,
             "#bd3786"
            ],
            [
             0.5555555555555556,
             "#d8576b"
            ],
            [
             0.6666666666666666,
             "#ed7953"
            ],
            [
             0.7777777777777778,
             "#fb9f3a"
            ],
            [
             0.8888888888888888,
             "#fdca26"
            ],
            [
             1,
             "#f0f921"
            ]
           ]
          },
          "colorway": [
           "#636efa",
           "#EF553B",
           "#00cc96",
           "#ab63fa",
           "#FFA15A",
           "#19d3f3",
           "#FF6692",
           "#B6E880",
           "#FF97FF",
           "#FECB52"
          ],
          "font": {
           "color": "#2a3f5f"
          },
          "geo": {
           "bgcolor": "white",
           "lakecolor": "white",
           "landcolor": "#E5ECF6",
           "showlakes": true,
           "showland": true,
           "subunitcolor": "white"
          },
          "hoverlabel": {
           "align": "left"
          },
          "hovermode": "closest",
          "mapbox": {
           "style": "light"
          },
          "paper_bgcolor": "white",
          "plot_bgcolor": "#E5ECF6",
          "polar": {
           "angularaxis": {
            "gridcolor": "white",
            "linecolor": "white",
            "ticks": ""
           },
           "bgcolor": "#E5ECF6",
           "radialaxis": {
            "gridcolor": "white",
            "linecolor": "white",
            "ticks": ""
           }
          },
          "scene": {
           "xaxis": {
            "backgroundcolor": "#E5ECF6",
            "gridcolor": "white",
            "gridwidth": 2,
            "linecolor": "white",
            "showbackground": true,
            "ticks": "",
            "zerolinecolor": "white"
           },
           "yaxis": {
            "backgroundcolor": "#E5ECF6",
            "gridcolor": "white",
            "gridwidth": 2,
            "linecolor": "white",
            "showbackground": true,
            "ticks": "",
            "zerolinecolor": "white"
           },
           "zaxis": {
            "backgroundcolor": "#E5ECF6",
            "gridcolor": "white",
            "gridwidth": 2,
            "linecolor": "white",
            "showbackground": true,
            "ticks": "",
            "zerolinecolor": "white"
           }
          },
          "shapedefaults": {
           "line": {
            "color": "#2a3f5f"
           }
          },
          "ternary": {
           "aaxis": {
            "gridcolor": "white",
            "linecolor": "white",
            "ticks": ""
           },
           "baxis": {
            "gridcolor": "white",
            "linecolor": "white",
            "ticks": ""
           },
           "bgcolor": "#E5ECF6",
           "caxis": {
            "gridcolor": "white",
            "linecolor": "white",
            "ticks": ""
           }
          },
          "title": {
           "x": 0.05
          },
          "xaxis": {
           "automargin": true,
           "gridcolor": "white",
           "linecolor": "white",
           "ticks": "",
           "title": {
            "standoff": 15
           },
           "zerolinecolor": "white",
           "zerolinewidth": 2
          },
          "yaxis": {
           "automargin": true,
           "gridcolor": "white",
           "linecolor": "white",
           "ticks": "",
           "title": {
            "standoff": 15
           },
           "zerolinecolor": "white",
           "zerolinewidth": 2
          }
         }
        },
        "title": {
         "text": "ROC Curve for Multi-Class Classification"
        },
        "xaxis": {
         "title": {
          "text": "False Positive Rate"
         }
        },
        "yaxis": {
         "title": {
          "text": "True Positive Rate"
         }
        }
       }
      }
     },
     "metadata": {},
     "output_type": "display_data"
    }
   ],
   "source": [
    "import plotly.graph_objects as go\n",
    "\n",
    "# Create an empty list to store the ROC curve traces\n",
    "roc_traces = []\n",
    "\n",
    "for i in range(n_classes):\n",
    "    fpr, tpr, _ = roc_curve(all_labels_bin[:, i], all_outputs[:, i])\n",
    "    roc_auc = auc(fpr, tpr)\n",
    "    \n",
    "    # Create a plotly trace for each class\n",
    "    trace = go.Scatter(\n",
    "        x=fpr, y=tpr, mode='lines', name=f'Class {i} (AUC = {roc_auc:.2f})'\n",
    "    )\n",
    "    roc_traces.append(trace)\n",
    "\n",
    "# Plotting the diagonal line (random classifier line)\n",
    "random_line = go.Scatter(\n",
    "    x=[0, 1], y=[0, 1], mode='lines', line=dict(dash='dash'), name='Random classifier (AUC = 0.50)'\n",
    ")\n",
    "\n",
    "# Combine the traces\n",
    "roc_traces.append(random_line)\n",
    "\n",
    "# Create layout\n",
    "layout = go.Layout(\n",
    "    title=\"ROC Curve for Multi-Class Classification\",\n",
    "    xaxis=dict(title=\"False Positive Rate\"),\n",
    "    yaxis=dict(title=\"True Positive Rate\"),\n",
    "    showlegend=True\n",
    ")\n",
    "\n",
    "# Create the figure with all traces and layout\n",
    "fig = go.Figure(data=roc_traces, layout=layout)\n",
    "\n",
    "# Show the plot\n",
    "fig.show()"
   ]
  },
  {
   "cell_type": "code",
   "execution_count": 28,
   "metadata": {},
   "outputs": [
    {
     "name": "stdout",
     "output_type": "stream",
     "text": [
      "Log-Loss: 0.0504\n"
     ]
    }
   ],
   "source": [
    "import torch.nn.functional as F\n",
    "\n",
    "log_loss = 0.0\n",
    "model.eval()\n",
    "\n",
    "with torch.no_grad():\n",
    "    for images, labels in test_loader:\n",
    "        images, labels = images.to(device), labels.to(device)\n",
    "        outputs = model(images)\n",
    "        loss = F.cross_entropy(outputs, labels)\n",
    "        log_loss += loss.item()\n",
    "\n",
    "log_loss /= len(test_loader)\n",
    "print(f\"Log-Loss: {log_loss:.4f}\")\n"
   ]
  },
  {
   "cell_type": "code",
   "execution_count": 29,
   "metadata": {},
   "outputs": [
    {
     "name": "stdout",
     "output_type": "stream",
     "text": [
      "Top-5 Accuracy: 1.00\n"
     ]
    }
   ],
   "source": [
    "def top_k_accuracy(outputs, labels, k=5):\n",
    "    _, top_k_preds = torch.topk(outputs, k, dim=1)\n",
    "    correct = top_k_preds.eq(labels.view(-1, 1).expand_as(top_k_preds))\n",
    "    return correct.sum().item() / labels.size(0)\n",
    "\n",
    "top_k_acc = 0\n",
    "model.eval()\n",
    "\n",
    "with torch.no_grad():\n",
    "    for images, labels in test_loader:\n",
    "        images, labels = images.to(device), labels.to(device)\n",
    "        outputs = model(images)\n",
    "        top_k_acc += top_k_accuracy(outputs, labels, k=5)\n",
    "\n",
    "top_k_acc /= len(test_loader)\n",
    "print(f\"Top-5 Accuracy: {top_k_acc:.2f}\")\n"
   ]
  },
  {
   "cell_type": "markdown",
   "metadata": {},
   "source": [
    "## Save the model"
   ]
  },
  {
   "cell_type": "code",
   "execution_count": 30,
   "metadata": {},
   "outputs": [
    {
     "name": "stdout",
     "output_type": "stream",
     "text": [
      "Model saved to Model_trained_on_augmented_data.pth\n"
     ]
    }
   ],
   "source": [
    "model_save_path = \"Model_trained_on_augmented_data.pth\"\n",
    "\n",
    "torch.save(model.state_dict(), model_save_path)\n",
    "print(f\"Model saved to {model_save_path}\")"
   ]
  },
  {
   "cell_type": "code",
   "execution_count": null,
   "metadata": {},
   "outputs": [],
   "source": []
  }
 ],
 "metadata": {
  "kernelspec": {
   "display_name": "3.10.4",
   "language": "python",
   "name": "python3"
  },
  "language_info": {
   "codemirror_mode": {
    "name": "ipython",
    "version": 3
   },
   "file_extension": ".py",
   "mimetype": "text/x-python",
   "name": "python",
   "nbconvert_exporter": "python",
   "pygments_lexer": "ipython3",
   "version": "3.10.4"
  }
 },
 "nbformat": 4,
 "nbformat_minor": 2
}
