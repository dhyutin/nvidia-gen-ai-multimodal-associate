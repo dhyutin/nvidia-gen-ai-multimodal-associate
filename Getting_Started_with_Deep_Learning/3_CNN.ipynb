{
 "cells": [
  {
   "cell_type": "markdown",
   "metadata": {},
   "source": [
    "https://www.tensorflow.org/tutorials/keras/classification\n",
    "\n",
    "https://www.kaggle.com/code/farzadnekouei/cifar-10-image-classification-with-cnn"
   ]
  },
  {
   "cell_type": "code",
   "execution_count": 1,
   "metadata": {},
   "outputs": [],
   "source": [
    "import torch\n",
    "import torchvision\n",
    "import torchvision.datasets\n",
    "import torchvision.transforms\n",
    "from torch.utils.data import random_split, DataLoader\n",
    "\n",
    "\n",
    "import torch.nn as nn\n",
    "import torch.optim as optim\n",
    "import torch.nn.functional as F"
   ]
  },
  {
   "cell_type": "code",
   "execution_count": 2,
   "metadata": {},
   "outputs": [],
   "source": [
    "\n",
    "# Transform definition to convert images to tensors in pytorch\n",
    "# The series of transformations is given as an order of steps in a list\n",
    "\n",
    "transform = torchvision.transforms.Compose(\n",
    "    [torchvision.transforms.ToTensor(),\n",
    "    torchvision.transforms.Normalize((0.5, ), (0.5, ))\n",
    "    ]\n",
    ")"
   ]
  },
  {
   "cell_type": "code",
   "execution_count": 3,
   "metadata": {},
   "outputs": [],
   "source": [
    "# Download the dataset\n",
    "mnist_data_train = torchvision.datasets.MNIST(root=\"./mnist\", train = True, transform = transform, download = True)\n",
    "\n",
    "# Load the dataset\n",
    "batch_size = 64\n",
    "train_loader = torch.utils.data.DataLoader(dataset = mnist_data_train, batch_size = batch_size, shuffle = True)"
   ]
  },
  {
   "cell_type": "code",
   "execution_count": 4,
   "metadata": {},
   "outputs": [
    {
     "name": "stdout",
     "output_type": "stream",
     "text": [
      "Displaying the first image in the training set...\n"
     ]
    },
    {
     "data": {
      "image/png": "[encoded data removed]",
      "text/plain": [
       "<Figure size 640x480 with 1 Axes>"
      ]
     },
     "metadata": {},
     "output_type": "display_data"
    }
   ],
   "source": [
    "import matplotlib.pyplot as plt\n",
    "\n",
    "def show_image(image, label):\n",
    "    # Remove the channel dimension (1, 28, 28) -> (28, 28)\n",
    "    image = image.squeeze()  \n",
    "    plt.imshow(image, cmap='gray')\n",
    "    \n",
    "    plt.title(f\"Label: {label}\")\n",
    "     # Turn off axis labels for better visualization\n",
    "    plt.axis('off') \n",
    "    plt.show()\n",
    "\n",
    "# Example: Display the first image from the train_loader\n",
    "for images, labels in train_loader:\n",
    "    print(\"Displaying the first image in the training set...\")\n",
    "    show_image(images[0], labels[0].item())\n",
    "    break\n"
   ]
  },
  {
   "cell_type": "code",
   "execution_count": 5,
   "metadata": {},
   "outputs": [
    {
     "name": "stdout",
     "output_type": "stream",
     "text": [
      "Validation set size: 5000\n",
      "Test set size: 5000\n"
     ]
    }
   ],
   "source": [
    "# Download the test dataset\n",
    "test_dataset = torchvision.datasets.MNIST(root='./mnist', train=False, transform=transform, download=True)\n",
    "\n",
    "# Split the test dataset into validation and test sets; split 50-50\n",
    "valid_size = len(test_dataset) // 2 \n",
    "test_size = len(test_dataset) - valid_size\n",
    "valid_dataset, test_dataset = random_split(test_dataset, [valid_size, test_size])\n",
    "\n",
    "# Create DataLoaders for validation and test sets\n",
    "valid_loader = DataLoader(dataset=valid_dataset, batch_size=64, shuffle=False)\n",
    "test_loader = DataLoader(dataset=test_dataset, batch_size=64, shuffle=False)\n",
    "\n",
    "# Example: Inspect the number of samples in each split\n",
    "print(f\"Validation set size: {len(valid_dataset)}\")\n",
    "print(f\"Test set size: {len(test_dataset)}\")\n"
   ]
  },
  {
   "cell_type": "markdown",
   "metadata": {},
   "source": [
    "## Model Building"
   ]
  },
  {
   "cell_type": "code",
   "execution_count": 6,
   "metadata": {},
   "outputs": [],
   "source": [
    "class CNN(nn.Module):\n",
    "    def __init__(self):\n",
    "        super(CNN, self).__init__()\n",
    "        self.conv1 = nn.Conv2d(1, 10, kernel_size = 5)\n",
    "        self.conv2 = nn.Conv2d(10, 20, kernel_size = 5)\n",
    "        self.conv2_dropout = nn.Dropout2d()\n",
    "        self.fc1 = nn.Linear(320, 50)\n",
    "        self.fc2 = nn.Linear(50, 10)\n",
    "        \n",
    "    def forward(self, x):\n",
    "        x = F.relu(F.max_pool2d(self.conv1(x), 2))\n",
    "        x = F.relu(F.max_pool2d(self.conv2_dropout(self.conv2(x)), 2))\n",
    "        x = x.view(-1, 320)\n",
    "        x = F.relu(self.fc1(x))\n",
    "        x = F.dropout(x, training=self.training)\n",
    "        x = self.fc2(x)\n",
    "        x = F.log_softmax(x, dim = 1)\n",
    "        return x\n",
    "        "
   ]
  },
  {
   "cell_type": "code",
   "execution_count": 7,
   "metadata": {},
   "outputs": [],
   "source": [
    "device = torch.device('cuda' if torch.cuda.is_available() else 'cpu')\n",
    "\n",
    "model = CNN().to(device)\n",
    "\n",
    "# Set the loss and optimizer\n",
    "criterion = nn.CrossEntropyLoss()\n",
    "\n",
    "optimizer = optim.Adam(model.parameters(), lr = 0.001)"
   ]
  },
  {
   "cell_type": "code",
   "execution_count": 8,
   "metadata": {},
   "outputs": [
    {
     "name": "stdout",
     "output_type": "stream",
     "text": [
      "----------------------------------------------------------------\n",
      "        Layer (type)               Output Shape         Param #\n",
      "================================================================\n",
      "            Conv2d-1           [-1, 10, 24, 24]             260\n",
      "            Conv2d-2             [-1, 20, 8, 8]           5,020\n",
      "         Dropout2d-3             [-1, 20, 8, 8]               0\n",
      "            Linear-4                   [-1, 50]          16,050\n",
      "            Linear-5                   [-1, 10]             510\n",
      "================================================================\n",
      "Total params: 21,840\n",
      "Trainable params: 21,840\n",
      "Non-trainable params: 0\n",
      "----------------------------------------------------------------\n",
      "Input size (MB): 0.00\n",
      "Forward/backward pass size (MB): 0.06\n",
      "Params size (MB): 0.08\n",
      "Estimated Total Size (MB): 0.15\n",
      "----------------------------------------------------------------\n"
     ]
    }
   ],
   "source": [
    "from torchsummary import summary\n",
    "summary(model, (1, 28, 28))  "
   ]
  },
  {
   "cell_type": "code",
   "execution_count": 9,
   "metadata": {},
   "outputs": [
    {
     "name": "stdout",
     "output_type": "stream",
     "text": [
      "Epoch: 1/10   Train Loss: 0.5178\n",
      "\n",
      "Epoch: 2/10   Train Loss: 0.2419\n",
      "\n",
      "Epoch: 3/10   Train Loss: 0.1992\n",
      "\n",
      "Epoch: 4/10   Train Loss: 0.1822\n",
      "\n",
      "Epoch: 5/10   Train Loss: 0.1726\n",
      "\n",
      "Epoch: 6/10   Train Loss: 0.1603\n",
      "\n",
      "Epoch: 7/10   Train Loss: 0.1488\n",
      "\n",
      "Epoch: 8/10   Train Loss: 0.1467\n",
      "\n",
      "Epoch: 9/10   Train Loss: 0.1410\n",
      "\n",
      "Epoch: 10/10   Train Loss: 0.1360\n",
      "\n"
     ]
    }
   ],
   "source": [
    "# Training\n",
    "\n",
    "num_epochs = 10\n",
    "\n",
    "for epoch in range(num_epochs):\n",
    "    model.train()\n",
    "    running_loss = 0.0\n",
    "    \n",
    "    for image_batch, label_batch in train_loader:\n",
    "        image_batch, label_batch = image_batch.to(device), label_batch.to(device)\n",
    "        \n",
    "        outputs = model(image_batch)\n",
    "        \n",
    "        loss = criterion(outputs, label_batch)\n",
    "        \n",
    "        \n",
    "        # Backward pass and optimization\n",
    "        optimizer.zero_grad()\n",
    "        loss.backward()\n",
    "        optimizer.step()\n",
    "        \n",
    "        \n",
    "        running_loss += loss.item()\n",
    "        \n",
    "    print(f\"Epoch: {epoch+1}/{num_epochs}   Train Loss: {running_loss/len(train_loader):.4f}\\n\")\n",
    "        "
   ]
  },
  {
   "cell_type": "code",
   "execution_count": 10,
   "metadata": {},
   "outputs": [
    {
     "name": "stdout",
     "output_type": "stream",
     "text": [
      "----------------------------------------------------------------\n",
      "        Layer (type)               Output Shape         Param #\n",
      "================================================================\n",
      "            Conv2d-1           [-1, 10, 24, 24]             260\n",
      "            Conv2d-2             [-1, 20, 8, 8]           5,020\n",
      "         Dropout2d-3             [-1, 20, 8, 8]               0\n",
      "            Linear-4                   [-1, 50]          16,050\n",
      "            Linear-5                   [-1, 10]             510\n",
      "================================================================\n",
      "Total params: 21,840\n",
      "Trainable params: 21,840\n",
      "Non-trainable params: 0\n",
      "----------------------------------------------------------------\n",
      "Input size (MB): 0.00\n",
      "Forward/backward pass size (MB): 0.06\n",
      "Params size (MB): 0.08\n",
      "Estimated Total Size (MB): 0.15\n",
      "----------------------------------------------------------------\n"
     ]
    }
   ],
   "source": [
    "from torchsummary import summary\n",
    "summary(model, (1, 28, 28))"
   ]
  },
  {
   "cell_type": "code",
   "execution_count": 11,
   "metadata": {},
   "outputs": [
    {
     "name": "stdout",
     "output_type": "stream",
     "text": [
      "Valid Accuracy: 98.70%\n"
     ]
    }
   ],
   "source": [
    "model.eval()\n",
    "correct = 0\n",
    "total = 0\n",
    "all_labels = []\n",
    "all_preds = []\n",
    "\n",
    "with torch.no_grad():\n",
    "    for images, labels in valid_loader:\n",
    "        images, labels = images.to(device), labels.to(device)\n",
    "        for label in labels:\n",
    "            all_labels.append(label)\n",
    "        outputs = model(images)\n",
    "        _, predicted = torch.max(outputs.data, 1)\n",
    "        for predict in predicted:\n",
    "            all_preds.append(predict)\n",
    "        total += labels.size(0)\n",
    "        correct += (predicted == labels).sum().item() \n",
    "print(f\"Valid Accuracy: {100 * correct / total:.2f}%\")"
   ]
  },
  {
   "cell_type": "code",
   "execution_count": 12,
   "metadata": {},
   "outputs": [
    {
     "data": {
      "image/png": "[encoded data removed]",
      "text/plain": [
       "<Figure size 1000x800 with 2 Axes>"
      ]
     },
     "metadata": {},
     "output_type": "display_data"
    }
   ],
   "source": [
    "from sklearn.metrics import confusion_matrix\n",
    "import seaborn as sns\n",
    "import matplotlib.pyplot as plt\n",
    "\n",
    "# Calculate confusion matrix\n",
    "conf_matrix = confusion_matrix(all_labels, all_preds)\n",
    "\n",
    "# Plot confusion matrix\n",
    "plt.figure(figsize=(10, 8))\n",
    "sns.heatmap(conf_matrix, annot=True, fmt=\"d\", cmap=\"Blues\", xticklabels=range(10), yticklabels=range(10))\n",
    "plt.xlabel('Predicted Labels')\n",
    "plt.ylabel('True Labels')\n",
    "plt.title('Confusion Matrix')\n",
    "plt.show()\n"
   ]
  },
  {
   "cell_type": "code",
   "execution_count": 13,
   "metadata": {},
   "outputs": [
    {
     "data": {
      "image/png": "[encoded data removed]",
      "text/plain": [
       "<Figure size 1000x800 with 1 Axes>"
      ]
     },
     "metadata": {},
     "output_type": "display_data"
    }
   ],
   "source": [
    "import matplotlib.pyplot as plt\n",
    "from sklearn.metrics import roc_curve, auc\n",
    "import torch\n",
    "import numpy as np\n",
    "from sklearn.preprocessing import label_binarize\n",
    "\n",
    "# Initialize containers for all labels and predictions\n",
    "all_labels = []\n",
    "all_outputs = []\n",
    "\n",
    "# Make sure model is in evaluation mode\n",
    "model.eval()\n",
    "\n",
    "with torch.no_grad():\n",
    "    for images, labels in test_loader:\n",
    "        images, labels = images.to(device), labels.to(device)\n",
    "\n",
    "        # Get model outputs (raw scores before applying softmax)\n",
    "        outputs = model(images)\n",
    "        \n",
    "        # Apply softmax to get probabilities\n",
    "        outputs = torch.softmax(outputs, dim=1).detach().cpu().numpy()\n",
    "\n",
    "        # Collect all outputs and labels\n",
    "        all_labels.append(labels.cpu().numpy())\n",
    "        all_outputs.append(outputs)\n",
    "\n",
    "# Convert lists to numpy arrays\n",
    "all_labels = np.concatenate(all_labels)\n",
    "all_outputs = np.concatenate(all_outputs)\n",
    "\n",
    "# Binarize the labels for multi-class ROC curve\n",
    "n_classes = all_outputs.shape[1]\n",
    "all_labels_bin = label_binarize(all_labels, classes=np.arange(n_classes))\n",
    "\n",
    "# Plot ROC curve for each class\n",
    "plt.figure(figsize=(10, 8))\n",
    "\n",
    "for i in range(n_classes):\n",
    "    fpr, tpr, _ = roc_curve(all_labels_bin[:, i], all_outputs[:, i])\n",
    "    roc_auc = auc(fpr, tpr)\n",
    "    plt.plot(fpr, tpr, label=f'Class {i} (AUC = {roc_auc:.2f})')\n",
    "\n",
    "# Plotting the diagonal line (random classifier line)\n",
    "plt.plot([0, 1], [0, 1], 'k--', label='Random classifier (AUC = 0.50)')\n",
    "\n",
    "# Set labels and title\n",
    "plt.xlabel('False Positive Rate')\n",
    "plt.ylabel('True Positive Rate')\n",
    "plt.title('ROC Curve for Multi-Class Classification')\n",
    "plt.legend(loc='lower right')\n",
    "plt.grid(True)\n",
    "\n",
    "# Show the plot\n",
    "plt.show()\n"
   ]
  },
  {
   "cell_type": "code",
   "execution_count": 14,
   "metadata": {},
   "outputs": [
    {
     "data": {
      "application/vnd.plotly.v1+json": {
       "config": {
        "plotlyServerURL": "https://plot.ly"
       },
       "data": [
        {
         "mode": "lines",
         "name": "Class 0 (AUC = 1.00)",
         "type": "scatter",
         "x": [
          0,
          0,
          0,
          0,
          0,
          0,
          0,
          0,
          0,
          0,
          0,
          0,
          0,
          0,
          0,
          0,
          0,
          0,
          0,
          0,
          0,
          0,
          0,
          0,
          0,
          0,
          0,
          0,
          0,
          0,
          0,
          0,
          0,
          0,
          0,
          0,
          0,
          0,
          0,
          0,
          0,
          0,
          0,
          0,
          0,
          0,
          0,
          0,
          0,
          0,
          0,
          0,
          0,
          0,
          0,
          0,
          0,
          0,
          0.0002222716159146477,
          0.0002222716159146477,
          0.0004445432318292954,
          0.0004445432318292954,
          0.0006668148477439431,
          0.0006668148477439431,
          0.0008890864636585908,
          0.0008890864636585908,
          0.0013336296954878863,
          0.0013336296954878863,
          0.001555901311402534,
          0.001555901311402534,
          0.0020004445432318294,
          0.0020004445432318294,
          0.006001333629695488,
          0.006001333629695488,
          0.05090020004445432,
          0.05090020004445432,
          0.8741942653923094,
          0.8746388086241387,
          1
         ],
         "y": [
          0,
          0.13373253493013973,
          0.21157684630738524,
          0.25948103792415167,
          0.3013972055888224,
          0.34930139720558884,
          0.3972055888223553,
          0.40718562874251496,
          0.42115768463073855,
          0.4291417165668663,
          0.43313373253493015,
          0.4411177644710579,
          0.4471057884231537,
          0.45109780439121755,
          0.45708582834331335,
          0.46506986027944114,
          0.46706586826347307,
          0.4750499001996008,
          0.47704590818363274,
          0.48502994011976047,
          0.4870259481037924,
          0.49101796407185627,
          0.499001996007984,
          0.500998003992016,
          0.5049900199600799,
          0.5069860279441117,
          0.5109780439121756,
          0.5129740518962076,
          0.5169660678642715,
          0.5189620758483033,
          0.5229540918163673,
          0.5269461077844312,
          0.5349301397205589,
          0.5409181636726547,
          0.5449101796407185,
          0.5528942115768463,
          0.5588822355289421,
          0.562874251497006,
          0.5708582834331337,
          0.5788423153692615,
          0.5848303393213573,
          0.5868263473053892,
          0.590818363273453,
          0.5968063872255489,
          0.6047904191616766,
          0.6107784431137725,
          0.6147704590818364,
          0.6227544910179641,
          0.6307385229540918,
          0.6347305389221557,
          0.6467065868263473,
          0.6526946107784432,
          0.656686626746507,
          0.6606786427145709,
          0.6646706586826348,
          0.8083832335329342,
          0.812375249500998,
          0.9560878243512974,
          0.9560878243512974,
          0.9760479041916168,
          0.9760479041916168,
          0.9780439121756487,
          0.9780439121756487,
          0.9860279441117764,
          0.9860279441117764,
          0.9900199600798403,
          0.9900199600798403,
          0.9920159680638723,
          0.9920159680638723,
          0.9940119760479041,
          0.9940119760479041,
          0.9960079840319361,
          0.9960079840319361,
          0.998003992015968,
          0.998003992015968,
          1,
          1,
          1,
          1
         ]
        },
        {
         "mode": "lines",
         "name": "Class 1 (AUC = 1.00)",
         "type": "scatter",
         "x": [
          0,
          0,
          0,
          0,
          0,
          0,
          0,
          0,
          0,
          0,
          0,
          0,
          0,
          0,
          0,
          0,
          0,
          0,
          0,
          0,
          0,
          0,
          0,
          0,
          0,
          0,
          0,
          0,
          0,
          0,
          0,
          0,
          0,
          0,
          0,
          0,
          0,
          0,
          0,
          0,
          0,
          0,
          0,
          0,
          0,
          0,
          0,
          0,
          0,
          0,
          0,
          0,
          0,
          0,
          0,
          0,
          0,
          0,
          0,
          0,
          0,
          0,
          0,
          0,
          0,
          0,
          0,
          0,
          0,
          0,
          0,
          0,
          0,
          0,
          0,
          0.00022655188038060717,
          0.00022655188038060717,
          0.00045310376076121433,
          0.00045310376076121433,
          0.0009062075215224287,
          0.0009062075215224287,
          0.0011327594019030357,
          0.0011327594019030357,
          1
         ],
         "y": [
          0,
          0.040955631399317405,
          0.15017064846416384,
          0.22013651877133106,
          0.2713310580204778,
          0.3174061433447099,
          0.3378839590443686,
          0.36006825938566556,
          0.41638225255972694,
          0.4402730375426621,
          0.4522184300341297,
          0.46245733788395904,
          0.46928327645051193,
          0.48293515358361777,
          0.4931740614334471,
          0.49829351535836175,
          0.5119453924914675,
          0.515358361774744,
          0.5273037542662116,
          0.5477815699658704,
          0.5511945392491467,
          0.5563139931740614,
          0.5631399317406144,
          0.568259385665529,
          0.5750853242320819,
          0.5802047781569966,
          0.5836177474402731,
          0.5938566552901023,
          0.5972696245733788,
          0.6006825938566553,
          0.6023890784982935,
          0.6075085324232082,
          0.6109215017064846,
          0.6143344709897611,
          0.6160409556313993,
          0.6262798634812287,
          0.6296928327645052,
          0.6331058020477816,
          0.636518771331058,
          0.6382252559726962,
          0.6450511945392492,
          0.6467576791808873,
          0.6518771331058021,
          0.6552901023890785,
          0.658703071672355,
          0.6655290102389079,
          0.6689419795221843,
          0.6706484641638225,
          0.674061433447099,
          0.6757679180887372,
          0.6791808873720137,
          0.6825938566552902,
          0.689419795221843,
          0.7013651877133106,
          0.7047781569965871,
          0.7064846416382252,
          0.71160409556314,
          0.7150170648464164,
          0.7286689419795221,
          0.7337883959044369,
          0.7372013651877133,
          0.742320819112628,
          0.7457337883959044,
          0.7491467576791809,
          0.757679180887372,
          0.7610921501706485,
          0.7713310580204779,
          0.7747440273037542,
          0.7781569965870307,
          0.7815699658703071,
          0.8071672354948806,
          0.810580204778157,
          0.8464163822525598,
          0.8498293515358362,
          0.9812286689419796,
          0.9812286689419796,
          0.9897610921501706,
          0.9897610921501706,
          0.9914675767918089,
          0.9914675767918089,
          0.9931740614334471,
          0.9931740614334471,
          1,
          1
         ]
        },
        {
         "mode": "lines",
         "name": "Class 2 (AUC = 1.00)",
         "type": "scatter",
         "x": [
          0,
          0,
          0,
          0,
          0,
          0,
          0,
          0,
          0,
          0,
          0,
          0,
          0,
          0,
          0,
          0,
          0,
          0,
          0,
          0,
          0,
          0,
          0,
          0,
          0,
          0,
          0,
          0,
          0,
          0,
          0,
          0,
          0,
          0,
          0,
          0,
          0,
          0,
          0,
          0,
          0,
          0,
          0,
          0,
          0,
          0,
          0,
          0,
          0,
          0,
          0,
          0,
          0,
          0,
          0,
          0,
          0,
          0,
          0,
          0,
          0,
          0,
          0,
          0,
          0,
          0.000223463687150838,
          0.000223463687150838,
          0.000446927374301676,
          0.000446927374301676,
          0.000893854748603352,
          0.000893854748603352,
          0.001340782122905028,
          0.001340782122905028,
          0.001787709497206704,
          0.001787709497206704,
          0.002458100558659218,
          0.002458100558659218,
          0.0067039106145251395,
          0.0067039106145251395,
          0.012067039106145252,
          0.012067039106145252,
          1
         ],
         "y": [
          0,
          0.16952380952380952,
          0.21904761904761905,
          0.26285714285714284,
          0.2723809523809524,
          0.2780952380952381,
          0.28,
          0.29714285714285715,
          0.30857142857142855,
          0.3142857142857143,
          0.3219047619047619,
          0.3333333333333333,
          0.34476190476190477,
          0.3466666666666667,
          0.3523809523809524,
          0.36,
          0.3638095238095238,
          0.37142857142857144,
          0.379047619047619,
          0.38476190476190475,
          0.38857142857142857,
          0.3942857142857143,
          0.4,
          0.40190476190476193,
          0.4076190476190476,
          0.41523809523809524,
          0.42095238095238097,
          0.4247619047619048,
          0.42857142857142855,
          0.43238095238095237,
          0.44,
          0.4419047619047619,
          0.44761904761904764,
          0.4514285714285714,
          0.45904761904761904,
          0.46476190476190476,
          0.4685714285714286,
          0.4742857142857143,
          0.4780952380952381,
          0.4838095238095238,
          0.4895238095238095,
          0.49333333333333335,
          0.49714285714285716,
          0.5009523809523809,
          0.5104761904761905,
          0.5142857142857142,
          0.5219047619047619,
          0.5295238095238095,
          0.5447619047619048,
          0.5485714285714286,
          0.5504761904761905,
          0.5542857142857143,
          0.5714285714285714,
          0.5752380952380952,
          0.5771428571428572,
          0.5847619047619048,
          0.5980952380952381,
          0.6019047619047619,
          0.6228571428571429,
          0.6266666666666667,
          0.72,
          0.7238095238095238,
          0.7257142857142858,
          0.7295238095238096,
          0.9752380952380952,
          0.9752380952380952,
          0.9866666666666667,
          0.9866666666666667,
          0.9885714285714285,
          0.9885714285714285,
          0.9904761904761905,
          0.9904761904761905,
          0.9923809523809524,
          0.9923809523809524,
          0.9942857142857143,
          0.9942857142857143,
          0.9961904761904762,
          0.9961904761904762,
          0.9980952380952381,
          0.9980952380952381,
          1,
          1
         ]
        },
        {
         "mode": "lines",
         "name": "Class 3 (AUC = 1.00)",
         "type": "scatter",
         "x": [
          0,
          0,
          0,
          0,
          0,
          0,
          0,
          0,
          0,
          0,
          0,
          0,
          0,
          0,
          0,
          0,
          0,
          0,
          0,
          0,
          0,
          0,
          0,
          0,
          0,
          0,
          0,
          0,
          0,
          0,
          0,
          0,
          0,
          0,
          0,
          0,
          0,
          0,
          0,
          0,
          0,
          0,
          0,
          0,
          0,
          0,
          0,
          0,
          0,
          0,
          0,
          0.0002228163992869875,
          0.0002228163992869875,
          0.00089126559714795,
          0.00089126559714795,
          0.0015597147950089127,
          0.0015597147950089127,
          1
         ],
         "y": [
          0,
          0.287109375,
          0.34765625,
          0.396484375,
          0.423828125,
          0.435546875,
          0.45703125,
          0.484375,
          0.490234375,
          0.498046875,
          0.501953125,
          0.5078125,
          0.515625,
          0.529296875,
          0.53515625,
          0.54296875,
          0.548828125,
          0.552734375,
          0.55859375,
          0.5625,
          0.572265625,
          0.578125,
          0.58203125,
          0.583984375,
          0.587890625,
          0.59375,
          0.599609375,
          0.607421875,
          0.609375,
          0.615234375,
          0.6171875,
          0.62109375,
          0.623046875,
          0.626953125,
          0.62890625,
          0.6328125,
          0.65234375,
          0.65625,
          0.67578125,
          0.6796875,
          0.685546875,
          0.689453125,
          0.69140625,
          0.6953125,
          0.703125,
          0.70703125,
          0.716796875,
          0.720703125,
          0.73828125,
          0.7421875,
          0.986328125,
          0.986328125,
          0.98828125,
          0.98828125,
          0.998046875,
          0.998046875,
          1,
          1
         ]
        },
        {
         "mode": "lines",
         "name": "Class 4 (AUC = 1.00)",
         "type": "scatter",
         "x": [
          0,
          0,
          0,
          0,
          0,
          0,
          0,
          0,
          0,
          0,
          0,
          0,
          0,
          0,
          0,
          0,
          0,
          0,
          0,
          0,
          0,
          0,
          0,
          0,
          0,
          0,
          0,
          0,
          0,
          0,
          0,
          0.00022202486678507994,
          0.00022202486678507994,
          0.0004440497335701599,
          0.0004440497335701599,
          0.0006660746003552398,
          0.0006660746003552398,
          0.0008880994671403197,
          0.0008880994671403197,
          0.0011101243339253996,
          0.0011101243339253996,
          0.0013321492007104796,
          0.0013321492007104796,
          1
         ],
         "y": [
          0,
          0.4092741935483871,
          0.4596774193548387,
          0.4879032258064516,
          0.5080645161290323,
          0.5201612903225806,
          0.5443548387096774,
          0.5504032258064516,
          0.5625,
          0.5645161290322581,
          0.5705645161290323,
          0.5745967741935484,
          0.5806451612903226,
          0.5826612903225806,
          0.5866935483870968,
          0.5907258064516129,
          0.5987903225806451,
          0.6028225806451613,
          0.6068548387096774,
          0.6129032258064516,
          0.6229838709677419,
          0.6310483870967742,
          0.6350806451612904,
          0.6391129032258065,
          0.6592741935483871,
          0.6653225806451613,
          0.6814516129032258,
          0.6854838709677419,
          0.8971774193548387,
          0.9012096774193549,
          0.9637096774193549,
          0.9637096774193549,
          0.9778225806451613,
          0.9778225806451613,
          0.9818548387096774,
          0.9818548387096774,
          0.9879032258064516,
          0.9879032258064516,
          0.9899193548387096,
          0.9899193548387096,
          0.9919354838709677,
          0.9919354838709677,
          1,
          1
         ]
        },
        {
         "mode": "lines",
         "name": "Class 5 (AUC = 1.00)",
         "type": "scatter",
         "x": [
          0,
          0,
          0,
          0,
          0,
          0,
          0,
          0,
          0,
          0,
          0,
          0,
          0,
          0,
          0,
          0,
          0,
          0,
          0,
          0,
          0,
          0,
          0,
          0,
          0,
          0,
          0,
          0,
          0,
          0,
          0,
          0,
          0,
          0,
          0,
          0,
          0,
          0,
          0,
          0,
          0,
          0,
          0,
          0,
          0,
          0.00021973192704900023,
          0.00021973192704900023,
          0.0008789277081960009,
          0.0008789277081960009,
          0.015161502966381015,
          0.015161502966381015,
          0.018677213799165017,
          0.018677213799165017,
          1
         ],
         "y": [
          0,
          0.20489977728285078,
          0.2516703786191537,
          0.28507795100222716,
          0.31403118040089084,
          0.33407572383073497,
          0.3518930957683742,
          0.3741648106904232,
          0.38084632516703787,
          0.39420935412026725,
          0.3986636971046771,
          0.40979955456570155,
          0.41870824053452116,
          0.4209354120267261,
          0.44766146993318484,
          0.4521158129175947,
          0.45879732739420936,
          0.46770601336302897,
          0.46993318485523383,
          0.47884187082405344,
          0.48775055679287305,
          0.48997772828507796,
          0.49665924276169265,
          0.5055679287305123,
          0.5077951002227171,
          0.5144766146993318,
          0.5167037861915368,
          0.5211581291759465,
          0.5278396436525612,
          0.5367483296213809,
          0.5456570155902004,
          0.5545657015590201,
          0.5567928730512249,
          0.5612472160356348,
          0.5679287305122495,
          0.5746102449888641,
          0.5946547884187082,
          0.5991091314031181,
          0.6347438752783965,
          0.6391982182628062,
          0.643652561247216,
          0.6481069042316259,
          0.6525612472160356,
          0.6570155902004454,
          0.9799554565701559,
          0.9799554565701559,
          0.9866369710467706,
          0.9866369710467706,
          0.9955456570155902,
          0.9955456570155902,
          0.9977728285077951,
          0.9977728285077951,
          1,
          1
         ]
        },
        {
         "mode": "lines",
         "name": "Class 6 (AUC = 1.00)",
         "type": "scatter",
         "x": [
          0,
          0,
          0,
          0,
          0,
          0,
          0,
          0,
          0,
          0,
          0,
          0,
          0,
          0,
          0,
          0,
          0,
          0,
          0,
          0,
          0,
          0,
          0,
          0,
          0,
          0,
          0,
          0.00022099447513812155,
          0.00022099447513812155,
          0.0004419889502762431,
          0.0004419889502762431,
          0.0006629834254143647,
          0.0006629834254143647,
          0.0008839779005524862,
          0.0008839779005524862,
          0.0015469613259668509,
          0.0015469613259668509,
          0.0017679558011049724,
          0.0017679558011049724,
          0.00287292817679558,
          0.00287292817679558,
          0.009502762430939227,
          0.009502762430939227,
          1
         ],
         "y": [
          0,
          0.5557894736842105,
          0.6021052631578947,
          0.6294736842105263,
          0.6442105263157895,
          0.6568421052631579,
          0.6652631578947369,
          0.6673684210526316,
          0.6821052631578948,
          0.6905263157894737,
          0.7031578947368421,
          0.7052631578947368,
          0.7115789473684211,
          0.72,
          0.7221052631578947,
          0.7263157894736842,
          0.728421052631579,
          0.7326315789473684,
          0.7410526315789474,
          0.7452631578947368,
          0.7494736842105263,
          0.7536842105263157,
          0.8084210526315789,
          0.8126315789473684,
          0.8315789473684211,
          0.8357894736842105,
          0.9431578947368421,
          0.9431578947368421,
          0.968421052631579,
          0.968421052631579,
          0.9726315789473684,
          0.9726315789473684,
          0.9852631578947368,
          0.9852631578947368,
          0.9873684210526316,
          0.9873684210526316,
          0.991578947368421,
          0.991578947368421,
          0.9957894736842106,
          0.9957894736842106,
          0.9978947368421053,
          0.9978947368421053,
          1,
          1
         ]
        },
        {
         "mode": "lines",
         "name": "Class 7 (AUC = 1.00)",
         "type": "scatter",
         "x": [
          0,
          0,
          0,
          0,
          0,
          0,
          0,
          0,
          0,
          0,
          0,
          0,
          0,
          0,
          0,
          0,
          0,
          0,
          0,
          0,
          0,
          0,
          0,
          0,
          0,
          0,
          0,
          0,
          0,
          0,
          0,
          0,
          0,
          0,
          0,
          0,
          0,
          0,
          0,
          0,
          0,
          0,
          0,
          0,
          0,
          0,
          0,
          0,
          0,
          0,
          0,
          0,
          0.00022187708009762592,
          0.00022187708009762592,
          0.00044375416019525185,
          0.00044375416019525185,
          0.0008875083203905037,
          0.0008875083203905037,
          0.0011093854004881295,
          0.0011093854004881295,
          0.0013312624805857556,
          0.0013312624805857556,
          0.0033281562014643887,
          0.0033281562014643887,
          0.004215664521854893,
          0.004215664521854893,
          0.006656312402928777,
          0.006656312402928777,
          0.008431329043709785,
          0.008431329043709785,
          0.010428222764588418,
          0.010428222764588418,
          1
         ],
         "y": [
          0,
          0.09939148073022312,
          0.18052738336713997,
          0.21095334685598377,
          0.23529411764705882,
          0.26774847870182555,
          0.2778904665314402,
          0.29817444219066935,
          0.30628803245436104,
          0.3184584178498986,
          0.332657200811359,
          0.33468559837728196,
          0.34279918864097364,
          0.3630831643002028,
          0.3671399594320487,
          0.3793103448275862,
          0.3813387423935091,
          0.385395537525355,
          0.39148073022312374,
          0.40162271805273836,
          0.40973630831643004,
          0.41379310344827586,
          0.43204868154158216,
          0.4381338742393509,
          0.4421906693711968,
          0.4482758620689655,
          0.45233265720081134,
          0.4563894523326572,
          0.46247464503042596,
          0.4665314401622718,
          0.4726166328600406,
          0.4787018255578093,
          0.48073022312373226,
          0.4847870182555781,
          0.4969574036511156,
          0.5030425963488844,
          0.5152129817444219,
          0.5192697768762677,
          0.5233265720081136,
          0.5294117647058824,
          0.5334685598377282,
          0.5456389452332657,
          0.5496957403651116,
          0.5517241379310345,
          0.5557809330628803,
          0.5598377281947262,
          0.563894523326572,
          0.5801217038539553,
          0.5882352941176471,
          0.7058823529411765,
          0.7139959432048681,
          0.8580121703853956,
          0.8580121703853956,
          0.9675456389452333,
          0.9675456389452333,
          0.973630831643002,
          0.973630831643002,
          0.9817444219066938,
          0.9817444219066938,
          0.9837728194726166,
          0.9837728194726166,
          0.9878296146044625,
          0.9878296146044625,
          0.9898580121703854,
          0.9898580121703854,
          0.9939148073022313,
          0.9939148073022313,
          0.9959432048681541,
          0.9959432048681541,
          0.9979716024340771,
          0.9979716024340771,
          1,
          1
         ]
        },
        {
         "mode": "lines",
         "name": "Class 8 (AUC = 1.00)",
         "type": "scatter",
         "x": [
          0,
          0,
          0,
          0,
          0,
          0,
          0,
          0,
          0,
          0,
          0,
          0,
          0,
          0,
          0,
          0,
          0,
          0,
          0,
          0,
          0,
          0,
          0,
          0,
          0,
          0,
          0,
          0,
          0,
          0,
          0,
          0,
          0.00022079929344226098,
          0.00022079929344226098,
          0.001103996467211305,
          0.001103996467211305,
          0.0013247957606535659,
          0.0013247957606535659,
          0.0015455950540958269,
          0.0015455950540958269,
          0.0026495915213071318,
          0.0026495915213071318,
          0.0030911901081916537,
          0.0030911901081916537,
          0.00441598586884522,
          0.00441598586884522,
          0.00463678516228748,
          0.00463678516228748,
          0.007065577390152351,
          0.007065577390152351,
          0.012585559726208876,
          0.012585559726208876,
          0.01324795760653566,
          0.01324795760653566,
          1
         ],
         "y": [
          0,
          0.2484076433121019,
          0.30148619957537154,
          0.3333333333333333,
          0.3503184713375796,
          0.3842887473460722,
          0.40764331210191085,
          0.42038216560509556,
          0.42462845010615713,
          0.43312101910828027,
          0.445859872611465,
          0.4543524416135881,
          0.4607218683651805,
          0.46496815286624205,
          0.4713375796178344,
          0.47770700636942676,
          0.5031847133757962,
          0.5138004246284501,
          0.5180467091295117,
          0.5456475583864119,
          0.5498938428874734,
          0.5605095541401274,
          0.564755838641189,
          0.5711252653927813,
          0.5753715498938429,
          0.5774946921443737,
          0.583864118895966,
          0.6157112526539278,
          0.6199575371549894,
          0.7091295116772823,
          0.7133757961783439,
          0.9129511677282378,
          0.9129511677282378,
          0.9745222929936306,
          0.9745222929936306,
          0.9766454352441614,
          0.9766454352441614,
          0.9787685774946921,
          0.9787685774946921,
          0.9808917197452229,
          0.9808917197452229,
          0.9851380042462845,
          0.9851380042462845,
          0.9872611464968153,
          0.9872611464968153,
          0.9893842887473461,
          0.9893842887473461,
          0.9915074309978769,
          0.9915074309978769,
          0.9957537154989384,
          0.9957537154989384,
          0.9978768577494692,
          0.9978768577494692,
          1,
          1
         ]
        },
        {
         "mode": "lines",
         "name": "Class 9 (AUC = 1.00)",
         "type": "scatter",
         "x": [
          0,
          0,
          0,
          0,
          0,
          0,
          0,
          0,
          0,
          0,
          0,
          0,
          0,
          0,
          0,
          0,
          0,
          0,
          0,
          0,
          0,
          0,
          0,
          0,
          0,
          0,
          0,
          0,
          0,
          0,
          0,
          0,
          0,
          0,
          0,
          0,
          0,
          0,
          0,
          0,
          0,
          0,
          0,
          0,
          0,
          0,
          0,
          0,
          0,
          0,
          0,
          0,
          0,
          0,
          0,
          0,
          0,
          0,
          0,
          0,
          0,
          0,
          0.00022182786157941438,
          0.00022182786157941438,
          0.00044365572315882877,
          0.00044365572315882877,
          0.0008873114463176575,
          0.0008873114463176575,
          0.0013309671694764862,
          0.0013309671694764862,
          0.0015527950310559005,
          0.0015527950310559005,
          0.0022182786157941437,
          0.0022182786157941437,
          0.0026619343389529724,
          0.0026619343389529724,
          0.003105590062111801,
          0.003105590062111801,
          0.0037710736468500442,
          0.0037710736468500442,
          0.01818988464951198,
          0.01818988464951198,
          1
         ],
         "y": [
          0,
          0.006097560975609756,
          0.02032520325203252,
          0.024390243902439025,
          0.036585365853658534,
          0.044715447154471545,
          0.054878048780487805,
          0.06097560975609756,
          0.06504065040650407,
          0.07317073170731707,
          0.08536585365853659,
          0.09146341463414634,
          0.09552845528455285,
          0.10365853658536585,
          0.10772357723577236,
          0.11991869918699187,
          0.13008130081300814,
          0.13821138211382114,
          0.1443089430894309,
          0.1524390243902439,
          0.15853658536585366,
          0.16260162601626016,
          0.16666666666666666,
          0.17276422764227642,
          0.18292682926829268,
          0.18902439024390244,
          0.19308943089430894,
          0.20528455284552846,
          0.20934959349593496,
          0.21138211382113822,
          0.21747967479674796,
          0.22560975609756098,
          0.22967479674796748,
          0.23983739837398374,
          0.24796747967479674,
          0.2601626016260163,
          0.26422764227642276,
          0.2703252032520325,
          0.2784552845528455,
          0.2845528455284553,
          0.29878048780487804,
          0.3048780487804878,
          0.3089430894308943,
          0.32926829268292684,
          0.33739837398373984,
          0.3434959349593496,
          0.35365853658536583,
          0.3597560975609756,
          0.3678861788617886,
          0.3719512195121951,
          0.37601626016260165,
          0.3821138211382114,
          0.3861788617886179,
          0.39227642276422764,
          0.40040650406504064,
          0.4186991869918699,
          0.42276422764227645,
          0.5548780487804879,
          0.5589430894308943,
          0.6788617886178862,
          0.6829268292682927,
          0.9410569105691057,
          0.9410569105691057,
          0.9512195121951219,
          0.9512195121951219,
          0.9634146341463414,
          0.9634146341463414,
          0.967479674796748,
          0.967479674796748,
          0.9695121951219512,
          0.9695121951219512,
          0.9715447154471545,
          0.9715447154471545,
          0.9796747967479674,
          0.9796747967479674,
          0.9878048780487805,
          0.9878048780487805,
          0.9939024390243902,
          0.9939024390243902,
          0.9979674796747967,
          0.9979674796747967,
          1,
          1
         ]
        },
        {
         "line": {
          "dash": "dash"
         },
         "mode": "lines",
         "name": "Random classifier (AUC = 0.50)",
         "type": "scatter",
         "x": [
          0,
          1
         ],
         "y": [
          0,
          1
         ]
        }
       ],
       "layout": {
        "showlegend": true,
        "template": {
         "data": {
          "bar": [
           {
            "error_x": {
             "color": "#2a3f5f"
            },
            "error_y": {
             "color": "#2a3f5f"
            },
            "marker": {
             "line": {
              "color": "#E5ECF6",
              "width": 0.5
             },
             "pattern": {
              "fillmode": "overlay",
              "size": 10,
              "solidity": 0.2
             }
            },
            "type": "bar"
           }
          ],
          "barpolar": [
           {
            "marker": {
             "line": {
              "color": "#E5ECF6",
              "width": 0.5
             },
             "pattern": {
              "fillmode": "overlay",
              "size": 10,
              "solidity": 0.2
             }
            },
            "type": "barpolar"
           }
          ],
          "carpet": [
           {
            "aaxis": {
             "endlinecolor": "#2a3f5f",
             "gridcolor": "white",
             "linecolor": "white",
             "minorgridcolor": "white",
             "startlinecolor": "#2a3f5f"
            },
            "baxis": {
             "endlinecolor": "#2a3f5f",
             "gridcolor": "white",
             "linecolor": "white",
             "minorgridcolor": "white",
             "startlinecolor": "#2a3f5f"
            },
            "type": "carpet"
           }
          ],
          "choropleth": [
           {
            "colorbar": {
             "outlinewidth": 0,
             "ticks": ""
            },
            "type": "choropleth"
           }
          ],
          "contour": [
           {
            "colorbar": {
             "outlinewidth": 0,
             "ticks": ""
            },
            "colorscale": [
             [
              0,
              "#0d0887"
             ],
             [
              0.1111111111111111,
              "#46039f"
             ],
             [
              0.2222222222222222,
              "#7201a8"
             ],
             [
              0.3333333333333333,
              "#9c179e"
             ],
             [
              0.4444444444444444,
              "#bd3786"
             ],
             [
              0.5555555555555556,
              "#d8576b"
             ],
             [
              0.6666666666666666,
              "#ed7953"
             ],
             [
              0.7777777777777778,
              "#fb9f3a"
             ],
             [
              0.8888888888888888,
              "#fdca26"
             ],
             [
              1,
              "#f0f921"
             ]
            ],
            "type": "contour"
           }
          ],
          "contourcarpet": [
           {
            "colorbar": {
             "outlinewidth": 0,
             "ticks": ""
            },
            "type": "contourcarpet"
           }
          ],
          "heatmap": [
           {
            "colorbar": {
             "outlinewidth": 0,
             "ticks": ""
            },
            "colorscale": [
             [
              0,
              "#0d0887"
             ],
             [
              0.1111111111111111,
              "#46039f"
             ],
             [
              0.2222222222222222,
              "#7201a8"
             ],
             [
              0.3333333333333333,
              "#9c179e"
             ],
             [
              0.4444444444444444,
              "#bd3786"
             ],
             [
              0.5555555555555556,
              "#d8576b"
             ],
             [
              0.6666666666666666,
              "#ed7953"
             ],
             [
              0.7777777777777778,
              "#fb9f3a"
             ],
             [
              0.8888888888888888,
              "#fdca26"
             ],
             [
              1,
              "#f0f921"
             ]
            ],
            "type": "heatmap"
           }
          ],
          "heatmapgl": [
           {
            "colorbar": {
             "outlinewidth": 0,
             "ticks": ""
            },
            "colorscale": [
             [
              0,
              "#0d0887"
             ],
             [
              0.1111111111111111,
              "#46039f"
             ],
             [
              0.2222222222222222,
              "#7201a8"
             ],
             [
              0.3333333333333333,
              "#9c179e"
             ],
             [
              0.4444444444444444,
              "#bd3786"
             ],
             [
              0.5555555555555556,
              "#d8576b"
             ],
             [
              0.6666666666666666,
              "#ed7953"
             ],
             [
              0.7777777777777778,
              "#fb9f3a"
             ],
             [
              0.8888888888888888,
              "#fdca26"
             ],
             [
              1,
              "#f0f921"
             ]
            ],
            "type": "heatmapgl"
           }
          ],
          "histogram": [
           {
            "marker": {
             "pattern": {
              "fillmode": "overlay",
              "size": 10,
              "solidity": 0.2
             }
            },
            "type": "histogram"
           }
          ],
          "histogram2d": [
           {
            "colorbar": {
             "outlinewidth": 0,
             "ticks": ""
            },
            "colorscale": [
             [
              0,
              "#0d0887"
             ],
             [
              0.1111111111111111,
              "#46039f"
             ],
             [
              0.2222222222222222,
              "#7201a8"
             ],
             [
              0.3333333333333333,
              "#9c179e"
             ],
             [
              0.4444444444444444,
              "#bd3786"
             ],
             [
              0.5555555555555556,
              "#d8576b"
             ],
             [
              0.6666666666666666,
              "#ed7953"
             ],
             [
              0.7777777777777778,
              "#fb9f3a"
             ],
             [
              0.8888888888888888,
              "#fdca26"
             ],
             [
              1,
              "#f0f921"
             ]
            ],
            "type": "histogram2d"
           }
          ],
          "histogram2dcontour": [
           {
            "colorbar": {
             "outlinewidth": 0,
             "ticks": ""
            },
            "colorscale": [
             [
              0,
              "#0d0887"
             ],
             [
              0.1111111111111111,
              "#46039f"
             ],
             [
              0.2222222222222222,
              "#7201a8"
             ],
             [
              0.3333333333333333,
              "#9c179e"
             ],
             [
              0.4444444444444444,
              "#bd3786"
             ],
             [
              0.5555555555555556,
              "#d8576b"
             ],
             [
              0.6666666666666666,
              "#ed7953"
             ],
             [
              0.7777777777777778,
              "#fb9f3a"
             ],
             [
              0.8888888888888888,
              "#fdca26"
             ],
             [
              1,
              "#f0f921"
             ]
            ],
            "type": "histogram2dcontour"
           }
          ],
          "mesh3d": [
           {
            "colorbar": {
             "outlinewidth": 0,
             "ticks": ""
            },
            "type": "mesh3d"
           }
          ],
          "parcoords": [
           {
            "line": {
             "colorbar": {
              "outlinewidth": 0,
              "ticks": ""
             }
            },
            "type": "parcoords"
           }
          ],
          "pie": [
           {
            "automargin": true,
            "type": "pie"
           }
          ],
          "scatter": [
           {
            "fillpattern": {
             "fillmode": "overlay",
             "size": 10,
             "solidity": 0.2
            },
            "type": "scatter"
           }
          ],
          "scatter3d": [
           {
            "line": {
             "colorbar": {
              "outlinewidth": 0,
              "ticks": ""
             }
            },
            "marker": {
             "colorbar": {
              "outlinewidth": 0,
              "ticks": ""
             }
            },
            "type": "scatter3d"
           }
          ],
          "scattercarpet": [
           {
            "marker": {
             "colorbar": {
              "outlinewidth": 0,
              "ticks": ""
             }
            },
            "type": "scattercarpet"
           }
          ],
          "scattergeo": [
           {
            "marker": {
             "colorbar": {
              "outlinewidth": 0,
              "ticks": ""
             }
            },
            "type": "scattergeo"
           }
          ],
          "scattergl": [
           {
            "marker": {
             "colorbar": {
              "outlinewidth": 0,
              "ticks": ""
             }
            },
            "type": "scattergl"
           }
          ],
          "scattermapbox": [
           {
            "marker": {
             "colorbar": {
              "outlinewidth": 0,
              "ticks": ""
             }
            },
            "type": "scattermapbox"
           }
          ],
          "scatterpolar": [
           {
            "marker": {
             "colorbar": {
              "outlinewidth": 0,
              "ticks": ""
             }
            },
            "type": "scatterpolar"
           }
          ],
          "scatterpolargl": [
           {
            "marker": {
             "colorbar": {
              "outlinewidth": 0,
              "ticks": ""
             }
            },
            "type": "scatterpolargl"
           }
          ],
          "scatterternary": [
           {
            "marker": {
             "colorbar": {
              "outlinewidth": 0,
              "ticks": ""
             }
            },
            "type": "scatterternary"
           }
          ],
          "surface": [
           {
            "colorbar": {
             "outlinewidth": 0,
             "ticks": ""
            },
            "colorscale": [
             [
              0,
              "#0d0887"
             ],
             [
              0.1111111111111111,
              "#46039f"
             ],
             [
              0.2222222222222222,
              "#7201a8"
             ],
             [
              0.3333333333333333,
              "#9c179e"
             ],
             [
              0.4444444444444444,
              "#bd3786"
             ],
             [
              0.5555555555555556,
              "#d8576b"
             ],
             [
              0.6666666666666666,
              "#ed7953"
             ],
             [
              0.7777777777777778,
              "#fb9f3a"
             ],
             [
              0.8888888888888888,
              "#fdca26"
             ],
             [
              1,
              "#f0f921"
             ]
            ],
            "type": "surface"
           }
          ],
          "table": [
           {
            "cells": {
             "fill": {
              "color": "#EBF0F8"
             },
             "line": {
              "color": "white"
             }
            },
            "header": {
             "fill": {
              "color": "#C8D4E3"
             },
             "line": {
              "color": "white"
             }
            },
            "type": "table"
           }
          ]
         },
         "layout": {
          "annotationdefaults": {
           "arrowcolor": "#2a3f5f",
           "arrowhead": 0,
           "arrowwidth": 1
          },
          "autotypenumbers": "strict",
          "coloraxis": {
           "colorbar": {
            "outlinewidth": 0,
            "ticks": ""
           }
          },
          "colorscale": {
           "diverging": [
            [
             0,
             "#8e0152"
            ],
            [
             0.1,
             "#c51b7d"
            ],
            [
             0.2,
             "#de77ae"
            ],
            [
             0.3,
             "#f1b6da"
            ],
            [
             0.4,
             "#fde0ef"
            ],
            [
             0.5,
             "#f7f7f7"
            ],
            [
             0.6,
             "#e6f5d0"
            ],
            [
             0.7,
             "#b8e186"
            ],
            [
             0.8,
             "#7fbc41"
            ],
            [
             0.9,
             "#4d9221"
            ],
            [
             1,
             "#276419"
            ]
           ],
           "sequential": [
            [
             0,
             "#0d0887"
            ],
            [
             0.1111111111111111,
             "#46039f"
            ],
            [
             0.2222222222222222,
             "#7201a8"
            ],
            [
             0.3333333333333333,
             "#9c179e"
            ],
            [
             0.4444444444444444,
             "#bd3786"
            ],
            [
             0.5555555555555556,
             "#d8576b"
            ],
            [
             0.6666666666666666,
             "#ed7953"
            ],
            [
             0.7777777777777778,
             "#fb9f3a"
            ],
            [
             0.8888888888888888,
             "#fdca26"
            ],
            [
             1,
             "#f0f921"
            ]
           ],
           "sequentialminus": [
            [
             0,
             "#0d0887"
            ],
            [
             0.1111111111111111,
             "#46039f"
            ],
            [
             0.2222222222222222,
             "#7201a8"
            ],
            [
             0.3333333333333333,
             "#9c179e"
            ],
            [
             0.4444444444444444,
             "#bd3786"
            ],
            [
             0.5555555555555556,
             "#d8576b"
            ],
            [
             0.6666666666666666,
             "#ed7953"
            ],
            [
             0.7777777777777778,
             "#fb9f3a"
            ],
            [
             0.8888888888888888,
             "#fdca26"
            ],
            [
             1,
             "#f0f921"
            ]
           ]
          },
          "colorway": [
           "#636efa",
           "#EF553B",
           "#00cc96",
           "#ab63fa",
           "#FFA15A",
           "#19d3f3",
           "#FF6692",
           "#B6E880",
           "#FF97FF",
           "#FECB52"
          ],
          "font": {
           "color": "#2a3f5f"
          },
          "geo": {
           "bgcolor": "white",
           "lakecolor": "white",
           "landcolor": "#E5ECF6",
           "showlakes": true,
           "showland": true,
           "subunitcolor": "white"
          },
          "hoverlabel": {
           "align": "left"
          },
          "hovermode": "closest",
          "mapbox": {
           "style": "light"
          },
          "paper_bgcolor": "white",
          "plot_bgcolor": "#E5ECF6",
          "polar": {
           "angularaxis": {
            "gridcolor": "white",
            "linecolor": "white",
            "ticks": ""
           },
           "bgcolor": "#E5ECF6",
           "radialaxis": {
            "gridcolor": "white",
            "linecolor": "white",
            "ticks": ""
           }
          },
          "scene": {
           "xaxis": {
            "backgroundcolor": "#E5ECF6",
            "gridcolor": "white",
            "gridwidth": 2,
            "linecolor": "white",
            "showbackground": true,
            "ticks": "",
            "zerolinecolor": "white"
           },
           "yaxis": {
            "backgroundcolor": "#E5ECF6",
            "gridcolor": "white",
            "gridwidth": 2,
            "linecolor": "white",
            "showbackground": true,
            "ticks": "",
            "zerolinecolor": "white"
           },
           "zaxis": {
            "backgroundcolor": "#E5ECF6",
            "gridcolor": "white",
            "gridwidth": 2,
            "linecolor": "white",
            "showbackground": true,
            "ticks": "",
            "zerolinecolor": "white"
           }
          },
          "shapedefaults": {
           "line": {
            "color": "#2a3f5f"
           }
          },
          "ternary": {
           "aaxis": {
            "gridcolor": "white",
            "linecolor": "white",
            "ticks": ""
           },
           "baxis": {
            "gridcolor": "white",
            "linecolor": "white",
            "ticks": ""
           },
           "bgcolor": "#E5ECF6",
           "caxis": {
            "gridcolor": "white",
            "linecolor": "white",
            "ticks": ""
           }
          },
          "title": {
           "x": 0.05
          },
          "xaxis": {
           "automargin": true,
           "gridcolor": "white",
           "linecolor": "white",
           "ticks": "",
           "title": {
            "standoff": 15
           },
           "zerolinecolor": "white",
           "zerolinewidth": 2
          },
          "yaxis": {
           "automargin": true,
           "gridcolor": "white",
           "linecolor": "white",
           "ticks": "",
           "title": {
            "standoff": 15
           },
           "zerolinecolor": "white",
           "zerolinewidth": 2
          }
         }
        },
        "title": {
         "text": "ROC Curve for Multi-Class Classification"
        },
        "xaxis": {
         "title": {
          "text": "False Positive Rate"
         }
        },
        "yaxis": {
         "title": {
          "text": "True Positive Rate"
         }
        }
       }
      }
     },
     "metadata": {},
     "output_type": "display_data"
    }
   ],
   "source": [
    "import plotly.graph_objects as go\n",
    "\n",
    "# Create an empty list to store the ROC curve traces\n",
    "roc_traces = []\n",
    "\n",
    "for i in range(n_classes):\n",
    "    fpr, tpr, _ = roc_curve(all_labels_bin[:, i], all_outputs[:, i])\n",
    "    roc_auc = auc(fpr, tpr)\n",
    "    \n",
    "    # Create a plotly trace for each class\n",
    "    trace = go.Scatter(\n",
    "        x=fpr, y=tpr, mode='lines', name=f'Class {i} (AUC = {roc_auc:.2f})'\n",
    "    )\n",
    "    roc_traces.append(trace)\n",
    "\n",
    "# Plotting the diagonal line (random classifier line)\n",
    "random_line = go.Scatter(\n",
    "    x=[0, 1], y=[0, 1], mode='lines', line=dict(dash='dash'), name='Random classifier (AUC = 0.50)'\n",
    ")\n",
    "\n",
    "# Combine the traces\n",
    "roc_traces.append(random_line)\n",
    "\n",
    "# Create layout\n",
    "layout = go.Layout(\n",
    "    title=\"ROC Curve for Multi-Class Classification\",\n",
    "    xaxis=dict(title=\"False Positive Rate\"),\n",
    "    yaxis=dict(title=\"True Positive Rate\"),\n",
    "    showlegend=True\n",
    ")\n",
    "\n",
    "# Create the figure with all traces and layout\n",
    "fig = go.Figure(data=roc_traces, layout=layout)\n",
    "\n",
    "# Show the plot\n",
    "fig.show()"
   ]
  },
  {
   "cell_type": "code",
   "execution_count": 15,
   "metadata": {},
   "outputs": [
    {
     "name": "stdout",
     "output_type": "stream",
     "text": [
      "Log-Loss: 0.0326\n"
     ]
    }
   ],
   "source": [
    "import torch.nn.functional as F\n",
    "\n",
    "log_loss = 0.0\n",
    "model.eval()\n",
    "\n",
    "with torch.no_grad():\n",
    "    for images, labels in test_loader:\n",
    "        images, labels = images.to(device), labels.to(device)\n",
    "        outputs = model(images)\n",
    "        loss = F.cross_entropy(outputs, labels)\n",
    "        log_loss += loss.item()\n",
    "\n",
    "log_loss /= len(test_loader)\n",
    "print(f\"Log-Loss: {log_loss:.4f}\")\n"
   ]
  },
  {
   "cell_type": "code",
   "execution_count": 16,
   "metadata": {},
   "outputs": [
    {
     "name": "stdout",
     "output_type": "stream",
     "text": [
      "Top-5 Accuracy: 1.00\n"
     ]
    }
   ],
   "source": [
    "def top_k_accuracy(outputs, labels, k=5):\n",
    "    _, top_k_preds = torch.topk(outputs, k, dim=1)\n",
    "    correct = top_k_preds.eq(labels.view(-1, 1).expand_as(top_k_preds))\n",
    "    return correct.sum().item() / labels.size(0)\n",
    "\n",
    "top_k_acc = 0\n",
    "model.eval()\n",
    "\n",
    "with torch.no_grad():\n",
    "    for images, labels in test_loader:\n",
    "        images, labels = images.to(device), labels.to(device)\n",
    "        outputs = model(images)\n",
    "        top_k_acc += top_k_accuracy(outputs, labels, k=5)\n",
    "\n",
    "top_k_acc /= len(test_loader)\n",
    "print(f\"Top-5 Accuracy: {top_k_acc:.2f}\")\n"
   ]
  },
  {
   "cell_type": "code",
   "execution_count": null,
   "metadata": {},
   "outputs": [],
   "source": []
  }
 ],
 "metadata": {
  "kernelspec": {
   "display_name": "3.10.4",
   "language": "python",
   "name": "python3"
  },
  "language_info": {
   "codemirror_mode": {
    "name": "ipython",
    "version": 3
   },
   "file_extension": ".py",
   "mimetype": "text/x-python",
   "name": "python",
   "nbconvert_exporter": "python",
   "pygments_lexer": "ipython3",
   "version": "3.10.4"
  }
 },
 "nbformat": 4,
 "nbformat_minor": 2
}
